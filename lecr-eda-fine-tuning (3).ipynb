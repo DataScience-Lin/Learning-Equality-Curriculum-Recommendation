{
 "cells": [
  {
   "cell_type": "code",
   "execution_count": 1,
   "id": "1a0c5d7c",
   "metadata": {
    "_cell_guid": "b1076dfc-b9ad-4769-8c92-a6c4dae69d19",
    "_uuid": "8f2839f25d086af736a60e9eeb907d3b93b6e0e5",
    "execution": {
     "iopub.execute_input": "2023-01-18T06:21:35.420326Z",
     "iopub.status.busy": "2023-01-18T06:21:35.419665Z",
     "iopub.status.idle": "2023-01-18T06:21:35.434644Z",
     "shell.execute_reply": "2023-01-18T06:21:35.433844Z"
    },
    "id": "fIfSLII0wCsK",
    "outputId": "9d23eee5-67c8-4b20-b97c-cc421041be78",
    "papermill": {
     "duration": 0.033871,
     "end_time": "2023-01-18T06:21:35.437161",
     "exception": false,
     "start_time": "2023-01-18T06:21:35.403290",
     "status": "completed"
    },
    "tags": []
   },
   "outputs": [
    {
     "name": "stdout",
     "output_type": "stream",
     "text": [
      "/kaggle/input/learning-equality-curriculum-recommendations/sample_submission.csv\n",
      "/kaggle/input/learning-equality-curriculum-recommendations/topics.csv\n",
      "/kaggle/input/learning-equality-curriculum-recommendations/correlations.csv\n",
      "/kaggle/input/learning-equality-curriculum-recommendations/content.csv\n"
     ]
    }
   ],
   "source": [
    "# This Python 3 environment comes with many helpful analytics libraries installed\n",
    "# It is defined by the kaggle/python Docker image: https://github.com/kaggle/docker-python\n",
    "# For example, here's several helpful packages to load\n",
    "\n",
    "import numpy as np # linear algebra\n",
    "import pandas as pd # data processing, CSV file I/O (e.g. pd.read_csv)\n",
    "\n",
    "# Input data files are available in the read-only \"../input/\" directory\n",
    "# For example, running this (by clicking run or pressing Shift+Enter) will list all files under the input directory\n",
    "\n",
    "import os\n",
    "for dirname, _, filenames in os.walk('/kaggle/input'):\n",
    "    for filename in filenames:\n",
    "        print(os.path.join(dirname, filename))\n",
    "\n",
    "# You can write up to 20GB to the current directory (/kaggle/working/) that gets preserved as output when you create a version using \"Save & Run All\" \n",
    "# You can also write temporary files to /kaggle/temp/, but they won't be saved outside of the current session"
   ]
  },
  {
   "cell_type": "markdown",
   "id": "1c1137f7",
   "metadata": {
    "papermill": {
     "duration": 0.01764,
     "end_time": "2023-01-18T06:21:35.468229",
     "exception": false,
     "start_time": "2023-01-18T06:21:35.450589",
     "status": "completed"
    },
    "tags": []
   },
   "source": [
    "# Learning Equality Curriculum Recommendations"
   ]
  },
  {
   "cell_type": "code",
   "execution_count": 2,
   "id": "6f99587d",
   "metadata": {
    "execution": {
     "iopub.execute_input": "2023-01-18T06:21:35.507053Z",
     "iopub.status.busy": "2023-01-18T06:21:35.506564Z",
     "iopub.status.idle": "2023-01-18T06:21:36.704956Z",
     "shell.execute_reply": "2023-01-18T06:21:36.703793Z"
    },
    "id": "GT01u9KxwCsO",
    "papermill": {
     "duration": 1.224587,
     "end_time": "2023-01-18T06:21:36.708176",
     "exception": false,
     "start_time": "2023-01-18T06:21:35.483589",
     "status": "completed"
    },
    "tags": []
   },
   "outputs": [],
   "source": [
    "import pandas as pd\n",
    "import numpy as np\n",
    "import seaborn as sns\n",
    "import matplotlib.pyplot as plt\n",
    "%matplotlib inline"
   ]
  },
  {
   "cell_type": "code",
   "execution_count": 3,
   "id": "18ef9c93",
   "metadata": {
    "execution": {
     "iopub.execute_input": "2023-01-18T06:21:36.736617Z",
     "iopub.status.busy": "2023-01-18T06:21:36.736123Z",
     "iopub.status.idle": "2023-01-18T06:21:36.741219Z",
     "shell.execute_reply": "2023-01-18T06:21:36.740046Z"
    },
    "id": "DGIZduj-wCsP",
    "papermill": {
     "duration": 0.021779,
     "end_time": "2023-01-18T06:21:36.743505",
     "exception": false,
     "start_time": "2023-01-18T06:21:36.721726",
     "status": "completed"
    },
    "tags": []
   },
   "outputs": [],
   "source": [
    "path = '/kaggle/input/learning-equality-curriculum-recommendations/'\n",
    "   "
   ]
  },
  {
   "cell_type": "code",
   "execution_count": 4,
   "id": "3cd7d69b",
   "metadata": {
    "execution": {
     "iopub.execute_input": "2023-01-18T06:21:36.772131Z",
     "iopub.status.busy": "2023-01-18T06:21:36.771692Z",
     "iopub.status.idle": "2023-01-18T06:22:00.333951Z",
     "shell.execute_reply": "2023-01-18T06:22:00.332841Z"
    },
    "id": "p1TmwAJ2wCsP",
    "papermill": {
     "duration": 23.579405,
     "end_time": "2023-01-18T06:22:00.336708",
     "exception": false,
     "start_time": "2023-01-18T06:21:36.757303",
     "status": "completed"
    },
    "tags": []
   },
   "outputs": [],
   "source": [
    "content = pd.read_csv(path +'content.csv')\n",
    "corr = pd.read_csv(path +'correlations.csv')\n",
    "topics = pd.read_csv(path +'topics.csv')\n",
    "sub = pd.read_csv(path +'sample_submission.csv')"
   ]
  },
  {
   "cell_type": "markdown",
   "id": "01541fde",
   "metadata": {
    "id": "PijjgHGBwW5w",
    "papermill": {
     "duration": 0.012759,
     "end_time": "2023-01-18T06:22:00.362908",
     "exception": false,
     "start_time": "2023-01-18T06:22:00.350149",
     "status": "completed"
    },
    "tags": []
   },
   "source": [
    "# **Explore Topic dataset**"
   ]
  },
  {
   "cell_type": "code",
   "execution_count": 5,
   "id": "a9aa56d4",
   "metadata": {
    "execution": {
     "iopub.execute_input": "2023-01-18T06:22:00.391362Z",
     "iopub.status.busy": "2023-01-18T06:22:00.390327Z",
     "iopub.status.idle": "2023-01-18T06:22:00.401470Z",
     "shell.execute_reply": "2023-01-18T06:22:00.400183Z"
    },
    "id": "emnMrDGWwCsQ",
    "outputId": "e714a585-c19e-4b86-9196-dc4f0f25521d",
    "papermill": {
     "duration": 0.028117,
     "end_time": "2023-01-18T06:22:00.404138",
     "exception": false,
     "start_time": "2023-01-18T06:22:00.376021",
     "status": "completed"
    },
    "tags": []
   },
   "outputs": [
    {
     "data": {
      "text/plain": [
       "(76972, 9)"
      ]
     },
     "execution_count": 5,
     "metadata": {},
     "output_type": "execute_result"
    }
   ],
   "source": [
    "topics.shape"
   ]
  },
  {
   "cell_type": "code",
   "execution_count": 6,
   "id": "3078bafe",
   "metadata": {
    "execution": {
     "iopub.execute_input": "2023-01-18T06:22:00.434074Z",
     "iopub.status.busy": "2023-01-18T06:22:00.432878Z",
     "iopub.status.idle": "2023-01-18T06:22:00.456257Z",
     "shell.execute_reply": "2023-01-18T06:22:00.455036Z"
    },
    "id": "0IBSF27RwCsQ",
    "outputId": "feb29310-c3b3-475e-87ef-197d45ffb43e",
    "papermill": {
     "duration": 0.040717,
     "end_time": "2023-01-18T06:22:00.458601",
     "exception": false,
     "start_time": "2023-01-18T06:22:00.417884",
     "status": "completed"
    },
    "tags": []
   },
   "outputs": [
    {
     "data": {
      "text/html": [
       "<div>\n",
       "<style scoped>\n",
       "    .dataframe tbody tr th:only-of-type {\n",
       "        vertical-align: middle;\n",
       "    }\n",
       "\n",
       "    .dataframe tbody tr th {\n",
       "        vertical-align: top;\n",
       "    }\n",
       "\n",
       "    .dataframe thead th {\n",
       "        text-align: right;\n",
       "    }\n",
       "</style>\n",
       "<table border=\"1\" class=\"dataframe\">\n",
       "  <thead>\n",
       "    <tr style=\"text-align: right;\">\n",
       "      <th></th>\n",
       "      <th>id</th>\n",
       "      <th>title</th>\n",
       "      <th>description</th>\n",
       "      <th>channel</th>\n",
       "      <th>category</th>\n",
       "      <th>level</th>\n",
       "      <th>language</th>\n",
       "      <th>parent</th>\n",
       "      <th>has_content</th>\n",
       "    </tr>\n",
       "  </thead>\n",
       "  <tbody>\n",
       "    <tr>\n",
       "      <th>0</th>\n",
       "      <td>t_00004da3a1b2</td>\n",
       "      <td>Откриването на резисторите</td>\n",
       "      <td>Изследване на материали, които предизвикват на...</td>\n",
       "      <td>000cf7</td>\n",
       "      <td>source</td>\n",
       "      <td>4</td>\n",
       "      <td>bg</td>\n",
       "      <td>t_16e29365b50d</td>\n",
       "      <td>True</td>\n",
       "    </tr>\n",
       "    <tr>\n",
       "      <th>1</th>\n",
       "      <td>t_000095e03056</td>\n",
       "      <td>Unit 3.3 Enlargements and Similarities</td>\n",
       "      <td>NaN</td>\n",
       "      <td>b3f329</td>\n",
       "      <td>aligned</td>\n",
       "      <td>2</td>\n",
       "      <td>en</td>\n",
       "      <td>t_aa32fb6252dc</td>\n",
       "      <td>False</td>\n",
       "    </tr>\n",
       "    <tr>\n",
       "      <th>2</th>\n",
       "      <td>t_00068291e9a4</td>\n",
       "      <td>Entradas e saídas de uma função</td>\n",
       "      <td>Entenda um pouco mais sobre funções.</td>\n",
       "      <td>8e286a</td>\n",
       "      <td>source</td>\n",
       "      <td>4</td>\n",
       "      <td>pt</td>\n",
       "      <td>t_d14b6c2a2b70</td>\n",
       "      <td>True</td>\n",
       "    </tr>\n",
       "    <tr>\n",
       "      <th>3</th>\n",
       "      <td>t_00069b63a70a</td>\n",
       "      <td>Transcripts</td>\n",
       "      <td>NaN</td>\n",
       "      <td>6e3ba4</td>\n",
       "      <td>source</td>\n",
       "      <td>3</td>\n",
       "      <td>en</td>\n",
       "      <td>t_4054df11a74e</td>\n",
       "      <td>True</td>\n",
       "    </tr>\n",
       "    <tr>\n",
       "      <th>4</th>\n",
       "      <td>t_0006d41a73a8</td>\n",
       "      <td>Графики на експоненциални функции (Алгебра 2 н...</td>\n",
       "      <td>Научи повече за графиките на сложните показате...</td>\n",
       "      <td>000cf7</td>\n",
       "      <td>source</td>\n",
       "      <td>4</td>\n",
       "      <td>bg</td>\n",
       "      <td>t_e2452e21d252</td>\n",
       "      <td>True</td>\n",
       "    </tr>\n",
       "  </tbody>\n",
       "</table>\n",
       "</div>"
      ],
      "text/plain": [
       "               id                                              title  \\\n",
       "0  t_00004da3a1b2                         Откриването на резисторите   \n",
       "1  t_000095e03056             Unit 3.3 Enlargements and Similarities   \n",
       "2  t_00068291e9a4                    Entradas e saídas de uma função   \n",
       "3  t_00069b63a70a                                        Transcripts   \n",
       "4  t_0006d41a73a8  Графики на експоненциални функции (Алгебра 2 н...   \n",
       "\n",
       "                                         description channel category  level  \\\n",
       "0  Изследване на материали, които предизвикват на...  000cf7   source      4   \n",
       "1                                                NaN  b3f329  aligned      2   \n",
       "2               Entenda um pouco mais sobre funções.  8e286a   source      4   \n",
       "3                                                NaN  6e3ba4   source      3   \n",
       "4  Научи повече за графиките на сложните показате...  000cf7   source      4   \n",
       "\n",
       "  language          parent  has_content  \n",
       "0       bg  t_16e29365b50d         True  \n",
       "1       en  t_aa32fb6252dc        False  \n",
       "2       pt  t_d14b6c2a2b70         True  \n",
       "3       en  t_4054df11a74e         True  \n",
       "4       bg  t_e2452e21d252         True  "
      ]
     },
     "execution_count": 6,
     "metadata": {},
     "output_type": "execute_result"
    }
   ],
   "source": [
    "topics.head()"
   ]
  },
  {
   "cell_type": "code",
   "execution_count": 7,
   "id": "12cc35d7",
   "metadata": {
    "execution": {
     "iopub.execute_input": "2023-01-18T06:22:00.488880Z",
     "iopub.status.busy": "2023-01-18T06:22:00.487631Z",
     "iopub.status.idle": "2023-01-18T06:22:00.546246Z",
     "shell.execute_reply": "2023-01-18T06:22:00.544906Z"
    },
    "id": "hkrEL4eawCsR",
    "outputId": "06226e84-5a4f-470a-f4ac-8aefffe68a2e",
    "papermill": {
     "duration": 0.076713,
     "end_time": "2023-01-18T06:22:00.549113",
     "exception": false,
     "start_time": "2023-01-18T06:22:00.472400",
     "status": "completed"
    },
    "tags": []
   },
   "outputs": [
    {
     "name": "stdout",
     "output_type": "stream",
     "text": [
      "<class 'pandas.core.frame.DataFrame'>\n",
      "RangeIndex: 76972 entries, 0 to 76971\n",
      "Data columns (total 9 columns):\n",
      " #   Column       Non-Null Count  Dtype \n",
      "---  ------       --------------  ----- \n",
      " 0   id           76972 non-null  object\n",
      " 1   title        76970 non-null  object\n",
      " 2   description  34953 non-null  object\n",
      " 3   channel      76972 non-null  object\n",
      " 4   category     76972 non-null  object\n",
      " 5   level        76972 non-null  int64 \n",
      " 6   language     76972 non-null  object\n",
      " 7   parent       76801 non-null  object\n",
      " 8   has_content  76972 non-null  bool  \n",
      "dtypes: bool(1), int64(1), object(7)\n",
      "memory usage: 4.8+ MB\n"
     ]
    }
   ],
   "source": [
    "topics.info()"
   ]
  },
  {
   "cell_type": "code",
   "execution_count": 8,
   "id": "4ff575e9",
   "metadata": {
    "execution": {
     "iopub.execute_input": "2023-01-18T06:22:00.578869Z",
     "iopub.status.busy": "2023-01-18T06:22:00.578437Z",
     "iopub.status.idle": "2023-01-18T06:22:00.617636Z",
     "shell.execute_reply": "2023-01-18T06:22:00.616292Z"
    },
    "id": "mSMrH0N-wCsR",
    "outputId": "0ca113e1-7c0c-4207-be74-41eebeae3595",
    "papermill": {
     "duration": 0.05721,
     "end_time": "2023-01-18T06:22:00.620367",
     "exception": false,
     "start_time": "2023-01-18T06:22:00.563157",
     "status": "completed"
    },
    "tags": []
   },
   "outputs": [
    {
     "data": {
      "text/plain": [
       "id                 0\n",
       "title              2\n",
       "description    42019\n",
       "channel            0\n",
       "category           0\n",
       "level              0\n",
       "language           0\n",
       "parent           171\n",
       "has_content        0\n",
       "dtype: int64"
      ]
     },
     "execution_count": 8,
     "metadata": {},
     "output_type": "execute_result"
    }
   ],
   "source": [
    "topics.isna().sum()"
   ]
  },
  {
   "cell_type": "code",
   "execution_count": 9,
   "id": "1756ed39",
   "metadata": {
    "execution": {
     "iopub.execute_input": "2023-01-18T06:22:00.649842Z",
     "iopub.status.busy": "2023-01-18T06:22:00.649433Z",
     "iopub.status.idle": "2023-01-18T06:22:00.670538Z",
     "shell.execute_reply": "2023-01-18T06:22:00.669415Z"
    },
    "id": "u4oK1MSxwCsS",
    "outputId": "3a3a6689-a824-46d8-883a-05f441d495b7",
    "papermill": {
     "duration": 0.038825,
     "end_time": "2023-01-18T06:22:00.673040",
     "exception": false,
     "start_time": "2023-01-18T06:22:00.634215",
     "status": "completed"
    },
    "tags": []
   },
   "outputs": [
    {
     "data": {
      "text/plain": [
       "76972"
      ]
     },
     "execution_count": 9,
     "metadata": {},
     "output_type": "execute_result"
    }
   ],
   "source": [
    "len(topics['id'].unique())"
   ]
  },
  {
   "cell_type": "code",
   "execution_count": 10,
   "id": "606fa1d0",
   "metadata": {
    "execution": {
     "iopub.execute_input": "2023-01-18T06:22:00.702939Z",
     "iopub.status.busy": "2023-01-18T06:22:00.702096Z",
     "iopub.status.idle": "2023-01-18T06:22:00.717151Z",
     "shell.execute_reply": "2023-01-18T06:22:00.715883Z"
    },
    "id": "S8_Fa7FEwCsS",
    "papermill": {
     "duration": 0.032686,
     "end_time": "2023-01-18T06:22:00.719601",
     "exception": false,
     "start_time": "2023-01-18T06:22:00.686915",
     "status": "completed"
    },
    "tags": []
   },
   "outputs": [],
   "source": [
    "topics[\"description\"].fillna(\"No Description\", inplace = True)"
   ]
  },
  {
   "cell_type": "code",
   "execution_count": 11,
   "id": "799e8f20",
   "metadata": {
    "execution": {
     "iopub.execute_input": "2023-01-18T06:22:00.749539Z",
     "iopub.status.busy": "2023-01-18T06:22:00.748739Z",
     "iopub.status.idle": "2023-01-18T06:22:00.761089Z",
     "shell.execute_reply": "2023-01-18T06:22:00.760158Z"
    },
    "id": "d8kG5GTkwCsT",
    "papermill": {
     "duration": 0.030037,
     "end_time": "2023-01-18T06:22:00.763514",
     "exception": false,
     "start_time": "2023-01-18T06:22:00.733477",
     "status": "completed"
    },
    "tags": []
   },
   "outputs": [],
   "source": [
    "topics[\"title\"].fillna(\"No Title\", inplace = True)"
   ]
  },
  {
   "cell_type": "code",
   "execution_count": 12,
   "id": "5cc6a0b0",
   "metadata": {
    "execution": {
     "iopub.execute_input": "2023-01-18T06:22:00.793872Z",
     "iopub.status.busy": "2023-01-18T06:22:00.793457Z",
     "iopub.status.idle": "2023-01-18T06:22:01.043638Z",
     "shell.execute_reply": "2023-01-18T06:22:01.042370Z"
    },
    "id": "zpNmNhDQwCsT",
    "outputId": "7c4afa5c-9d59-4e44-897a-c9ec7ad78986",
    "papermill": {
     "duration": 0.268173,
     "end_time": "2023-01-18T06:22:01.046077",
     "exception": false,
     "start_time": "2023-01-18T06:22:00.777904",
     "status": "completed"
    },
    "tags": []
   },
   "outputs": [
    {
     "data": {
      "image/png": "[encoded data removed]",
      "text/plain": [
       "<Figure size 432x288 with 1 Axes>"
      ]
     },
     "metadata": {
      "needs_background": "light"
     },
     "output_type": "display_data"
    }
   ],
   "source": [
    "topics['language'].value_counts(ascending = False).head(5).plot(kind='bar',cmap=\"PiYG\")\n",
    "\n",
    "plt.title('Most Commonly Used Languages')\n",
    "plt.show()"
   ]
  },
  {
   "cell_type": "code",
   "execution_count": 13,
   "id": "4f478fd9",
   "metadata": {
    "execution": {
     "iopub.execute_input": "2023-01-18T06:22:01.077737Z",
     "iopub.status.busy": "2023-01-18T06:22:01.076987Z",
     "iopub.status.idle": "2023-01-18T06:22:01.212027Z",
     "shell.execute_reply": "2023-01-18T06:22:01.210194Z"
    },
    "id": "_4AD5rtQwCsU",
    "outputId": "93999af1-45b6-472d-a429-3a7ae1857200",
    "papermill": {
     "duration": 0.155849,
     "end_time": "2023-01-18T06:22:01.216803",
     "exception": false,
     "start_time": "2023-01-18T06:22:01.060954",
     "status": "completed"
    },
    "tags": []
   },
   "outputs": [
    {
     "data": {
      "image/png": "[encoded data removed]",
      "text/plain": [
       "<Figure size 432x288 with 1 Axes>"
      ]
     },
     "metadata": {},
     "output_type": "display_data"
    }
   ],
   "source": [
    "topics['category'].value_counts().head(5).plot(kind='pie',cmap=\"tab20c\")\n",
    "\n",
    "plt.title('Category')\n",
    "plt.show()"
   ]
  },
  {
   "cell_type": "code",
   "execution_count": 14,
   "id": "37728ae1",
   "metadata": {
    "execution": {
     "iopub.execute_input": "2023-01-18T06:22:01.290869Z",
     "iopub.status.busy": "2023-01-18T06:22:01.289808Z",
     "iopub.status.idle": "2023-01-18T06:22:01.522135Z",
     "shell.execute_reply": "2023-01-18T06:22:01.520982Z"
    },
    "id": "MGRChmgNwCsU",
    "outputId": "2d23ad35-1e88-4a84-c3c6-9e3c90ff6d5e",
    "papermill": {
     "duration": 0.270961,
     "end_time": "2023-01-18T06:22:01.524850",
     "exception": false,
     "start_time": "2023-01-18T06:22:01.253889",
     "status": "completed"
    },
    "tags": []
   },
   "outputs": [
    {
     "data": {
      "image/png": "[encoded data removed]",
      "text/plain": [
       "<Figure size 432x288 with 1 Axes>"
      ]
     },
     "metadata": {
      "needs_background": "light"
     },
     "output_type": "display_data"
    }
   ],
   "source": [
    "topics['level'].value_counts().sort_index().plot(kind='bar',cmap=\"summer\")\n",
    "\n",
    "plt.title('Level')\n",
    "plt.show()"
   ]
  },
  {
   "cell_type": "code",
   "execution_count": 15,
   "id": "a4cd9cfc",
   "metadata": {
    "execution": {
     "iopub.execute_input": "2023-01-18T06:22:01.555953Z",
     "iopub.status.busy": "2023-01-18T06:22:01.555507Z",
     "iopub.status.idle": "2023-01-18T06:22:01.671826Z",
     "shell.execute_reply": "2023-01-18T06:22:01.669852Z"
    },
    "id": "b1czHMZSwCsV",
    "outputId": "46222f06-8c8c-42ad-cfc2-97213539e8e8",
    "papermill": {
     "duration": 0.138658,
     "end_time": "2023-01-18T06:22:01.678061",
     "exception": false,
     "start_time": "2023-01-18T06:22:01.539403",
     "status": "completed"
    },
    "tags": []
   },
   "outputs": [
    {
     "data": {
      "image/png": "[encoded data removed]",
      "text/plain": [
       "<Figure size 432x288 with 1 Axes>"
      ]
     },
     "metadata": {},
     "output_type": "display_data"
    }
   ],
   "source": [
    "topics['has_content'].value_counts().head(5).plot(kind='pie',cmap=\"Set2\")\n",
    "\n",
    "plt.title('Content Items correlated with this topic.')\n",
    "plt.show()"
   ]
  },
  {
   "cell_type": "code",
   "execution_count": 16,
   "id": "a4b046ce",
   "metadata": {
    "execution": {
     "iopub.execute_input": "2023-01-18T06:22:01.755861Z",
     "iopub.status.busy": "2023-01-18T06:22:01.754864Z",
     "iopub.status.idle": "2023-01-18T06:22:01.769527Z",
     "shell.execute_reply": "2023-01-18T06:22:01.768614Z"
    },
    "id": "AEXmjC_FwCsV",
    "papermill": {
     "duration": 0.055568,
     "end_time": "2023-01-18T06:22:01.771941",
     "exception": false,
     "start_time": "2023-01-18T06:22:01.716373",
     "status": "completed"
    },
    "tags": []
   },
   "outputs": [],
   "source": [
    "topics[\"has_content\"] = topics[\"has_content\"].map({True:1, False:0})"
   ]
  },
  {
   "cell_type": "code",
   "execution_count": 17,
   "id": "29d84af3",
   "metadata": {
    "execution": {
     "iopub.execute_input": "2023-01-18T06:22:01.803106Z",
     "iopub.status.busy": "2023-01-18T06:22:01.802362Z",
     "iopub.status.idle": "2023-01-18T06:22:01.811487Z",
     "shell.execute_reply": "2023-01-18T06:22:01.810343Z"
    },
    "id": "aIkCgLvFwCsW",
    "outputId": "23158382-9778-4b2d-ed37-a102e53442f4",
    "papermill": {
     "duration": 0.027179,
     "end_time": "2023-01-18T06:22:01.813675",
     "exception": false,
     "start_time": "2023-01-18T06:22:01.786496",
     "status": "completed"
    },
    "tags": []
   },
   "outputs": [
    {
     "data": {
      "text/plain": [
       "1    61517\n",
       "0    15455\n",
       "Name: has_content, dtype: int64"
      ]
     },
     "execution_count": 17,
     "metadata": {},
     "output_type": "execute_result"
    }
   ],
   "source": [
    "topics['has_content'].value_counts()"
   ]
  },
  {
   "cell_type": "code",
   "execution_count": 18,
   "id": "f76b569a",
   "metadata": {
    "execution": {
     "iopub.execute_input": "2023-01-18T06:22:01.845460Z",
     "iopub.status.busy": "2023-01-18T06:22:01.845023Z",
     "iopub.status.idle": "2023-01-18T06:22:02.045937Z",
     "shell.execute_reply": "2023-01-18T06:22:02.044782Z"
    },
    "id": "fVLUR7vuwCsW",
    "outputId": "a61a598e-b487-4ad4-e4ea-be578f89c792",
    "papermill": {
     "duration": 0.220529,
     "end_time": "2023-01-18T06:22:02.048808",
     "exception": false,
     "start_time": "2023-01-18T06:22:01.828279",
     "status": "completed"
    },
    "tags": []
   },
   "outputs": [
    {
     "data": {
      "image/png": "[encoded data removed]",
      "text/plain": [
       "<Figure size 432x288 with 1 Axes>"
      ]
     },
     "metadata": {
      "needs_background": "light"
     },
     "output_type": "display_data"
    }
   ],
   "source": [
    "topics['channel'].value_counts(ascending = False).head(5).plot(kind='barh',cmap=\"viridis\")\n",
    "\n",
    "plt.title('Mostly used Channel')\n",
    "plt.show()"
   ]
  },
  {
   "cell_type": "markdown",
   "id": "e08c07c5",
   "metadata": {
    "id": "RTmYkm-Zwe4X",
    "papermill": {
     "duration": 0.015205,
     "end_time": "2023-01-18T06:22:02.080105",
     "exception": false,
     "start_time": "2023-01-18T06:22:02.064900",
     "status": "completed"
    },
    "tags": []
   },
   "source": [
    "# **Explore Content Dataset**"
   ]
  },
  {
   "cell_type": "code",
   "execution_count": 19,
   "id": "c9ccef79",
   "metadata": {
    "execution": {
     "iopub.execute_input": "2023-01-18T06:22:02.113256Z",
     "iopub.status.busy": "2023-01-18T06:22:02.112795Z",
     "iopub.status.idle": "2023-01-18T06:22:02.196471Z",
     "shell.execute_reply": "2023-01-18T06:22:02.194715Z"
    },
    "id": "cQxz6ztswCsX",
    "outputId": "260b7629-56bc-4c80-ddfc-0ac8efcdf856",
    "papermill": {
     "duration": 0.103603,
     "end_time": "2023-01-18T06:22:02.199273",
     "exception": false,
     "start_time": "2023-01-18T06:22:02.095670",
     "status": "completed"
    },
    "tags": []
   },
   "outputs": [
    {
     "name": "stdout",
     "output_type": "stream",
     "text": [
      "<class 'pandas.core.frame.DataFrame'>\n",
      "RangeIndex: 154047 entries, 0 to 154046\n",
      "Data columns (total 8 columns):\n",
      " #   Column            Non-Null Count   Dtype \n",
      "---  ------            --------------   ----- \n",
      " 0   id                154047 non-null  object\n",
      " 1   title             154038 non-null  object\n",
      " 2   description       89456 non-null   object\n",
      " 3   kind              154047 non-null  object\n",
      " 4   text              74035 non-null   object\n",
      " 5   language          154047 non-null  object\n",
      " 6   copyright_holder  71821 non-null   object\n",
      " 7   license           74035 non-null   object\n",
      "dtypes: object(8)\n",
      "memory usage: 9.4+ MB\n"
     ]
    }
   ],
   "source": [
    "content.info()"
   ]
  },
  {
   "cell_type": "code",
   "execution_count": 20,
   "id": "98b79d28",
   "metadata": {
    "execution": {
     "iopub.execute_input": "2023-01-18T06:22:02.232863Z",
     "iopub.status.busy": "2023-01-18T06:22:02.231494Z",
     "iopub.status.idle": "2023-01-18T06:22:02.315450Z",
     "shell.execute_reply": "2023-01-18T06:22:02.314169Z"
    },
    "id": "sasqm4VkwCsX",
    "outputId": "175b6f3c-d98d-4b45-a6bf-1beac965c589",
    "papermill": {
     "duration": 0.103586,
     "end_time": "2023-01-18T06:22:02.318241",
     "exception": false,
     "start_time": "2023-01-18T06:22:02.214655",
     "status": "completed"
    },
    "tags": []
   },
   "outputs": [
    {
     "data": {
      "text/plain": [
       "id                      0\n",
       "title                   9\n",
       "description         64591\n",
       "kind                    0\n",
       "text                80012\n",
       "language                0\n",
       "copyright_holder    82226\n",
       "license             80012\n",
       "dtype: int64"
      ]
     },
     "execution_count": 20,
     "metadata": {},
     "output_type": "execute_result"
    }
   ],
   "source": [
    "content.isna().sum()"
   ]
  },
  {
   "cell_type": "code",
   "execution_count": 21,
   "id": "14609102",
   "metadata": {
    "execution": {
     "iopub.execute_input": "2023-01-18T06:22:02.350975Z",
     "iopub.status.busy": "2023-01-18T06:22:02.350525Z",
     "iopub.status.idle": "2023-01-18T06:22:02.373878Z",
     "shell.execute_reply": "2023-01-18T06:22:02.372615Z"
    },
    "id": "cGRkh4qjwCsY",
    "papermill": {
     "duration": 0.04293,
     "end_time": "2023-01-18T06:22:02.376627",
     "exception": false,
     "start_time": "2023-01-18T06:22:02.333697",
     "status": "completed"
    },
    "tags": []
   },
   "outputs": [],
   "source": [
    "content[\"description\"].fillna(\"No Description\", inplace = True)"
   ]
  },
  {
   "cell_type": "code",
   "execution_count": 22,
   "id": "6ade4eed",
   "metadata": {
    "execution": {
     "iopub.execute_input": "2023-01-18T06:22:02.409441Z",
     "iopub.status.busy": "2023-01-18T06:22:02.408999Z",
     "iopub.status.idle": "2023-01-18T06:22:02.438465Z",
     "shell.execute_reply": "2023-01-18T06:22:02.436939Z"
    },
    "id": "LxvqI4ncwCsY",
    "papermill": {
     "duration": 0.048995,
     "end_time": "2023-01-18T06:22:02.440809",
     "exception": false,
     "start_time": "2023-01-18T06:22:02.391814",
     "status": "completed"
    },
    "tags": []
   },
   "outputs": [],
   "source": [
    "content[\"text\"].fillna(\"Not Available\", inplace = True)"
   ]
  },
  {
   "cell_type": "code",
   "execution_count": 23,
   "id": "4ad84b31",
   "metadata": {
    "execution": {
     "iopub.execute_input": "2023-01-18T06:22:02.473791Z",
     "iopub.status.busy": "2023-01-18T06:22:02.473330Z",
     "iopub.status.idle": "2023-01-18T06:22:02.514477Z",
     "shell.execute_reply": "2023-01-18T06:22:02.513343Z"
    },
    "id": "C3JUkzTJwCsY",
    "outputId": "ba26ebaa-dcae-4f40-a13f-cbd03dc72ba5",
    "papermill": {
     "duration": 0.060767,
     "end_time": "2023-01-18T06:22:02.517043",
     "exception": false,
     "start_time": "2023-01-18T06:22:02.456276",
     "status": "completed"
    },
    "tags": []
   },
   "outputs": [
    {
     "data": {
      "text/plain": [
       "154047"
      ]
     },
     "execution_count": 23,
     "metadata": {},
     "output_type": "execute_result"
    }
   ],
   "source": [
    "len(content['id'].unique())"
   ]
  },
  {
   "cell_type": "code",
   "execution_count": 24,
   "id": "9a80d05c",
   "metadata": {
    "execution": {
     "iopub.execute_input": "2023-01-18T06:22:02.552072Z",
     "iopub.status.busy": "2023-01-18T06:22:02.550671Z",
     "iopub.status.idle": "2023-01-18T06:22:02.566761Z",
     "shell.execute_reply": "2023-01-18T06:22:02.565384Z"
    },
    "id": "y4t25kGYwCsZ",
    "papermill": {
     "duration": 0.036132,
     "end_time": "2023-01-18T06:22:02.569489",
     "exception": false,
     "start_time": "2023-01-18T06:22:02.533357",
     "status": "completed"
    },
    "tags": []
   },
   "outputs": [],
   "source": [
    "content[\"license\"].fillna(\"Not Available\", inplace = True)"
   ]
  },
  {
   "cell_type": "code",
   "execution_count": 25,
   "id": "5e0294fb",
   "metadata": {
    "execution": {
     "iopub.execute_input": "2023-01-18T06:22:02.602479Z",
     "iopub.status.busy": "2023-01-18T06:22:02.602059Z",
     "iopub.status.idle": "2023-01-18T06:22:02.619029Z",
     "shell.execute_reply": "2023-01-18T06:22:02.617844Z"
    },
    "id": "DOq4nXevwCsZ",
    "papermill": {
     "duration": 0.036513,
     "end_time": "2023-01-18T06:22:02.621569",
     "exception": false,
     "start_time": "2023-01-18T06:22:02.585056",
     "status": "completed"
    },
    "tags": []
   },
   "outputs": [],
   "source": [
    "content[\"title\"].fillna(\"Not Available\", inplace = True)"
   ]
  },
  {
   "cell_type": "code",
   "execution_count": 26,
   "id": "e3ac9366",
   "metadata": {
    "execution": {
     "iopub.execute_input": "2023-01-18T06:22:02.654379Z",
     "iopub.status.busy": "2023-01-18T06:22:02.653937Z",
     "iopub.status.idle": "2023-01-18T06:22:02.784370Z",
     "shell.execute_reply": "2023-01-18T06:22:02.782746Z"
    },
    "id": "TrMmf6pVwCsZ",
    "outputId": "1b0c85b0-685f-4ea3-f970-22d982ad662f",
    "papermill": {
     "duration": 0.151801,
     "end_time": "2023-01-18T06:22:02.788892",
     "exception": false,
     "start_time": "2023-01-18T06:22:02.637091",
     "status": "completed"
    },
    "tags": []
   },
   "outputs": [
    {
     "data": {
      "image/png": "[encoded data removed]",
      "text/plain": [
       "<Figure size 432x288 with 1 Axes>"
      ]
     },
     "metadata": {},
     "output_type": "display_data"
    }
   ],
   "source": [
    "content['kind'].value_counts().head(5).plot(kind='pie',cmap=\"Set2\")\n",
    "\n",
    "plt.title('Most Commonly Used kinds')\n",
    "plt.show()"
   ]
  },
  {
   "cell_type": "code",
   "execution_count": 27,
   "id": "1d6af5e4",
   "metadata": {
    "execution": {
     "iopub.execute_input": "2023-01-18T06:22:02.863975Z",
     "iopub.status.busy": "2023-01-18T06:22:02.862865Z",
     "iopub.status.idle": "2023-01-18T06:22:03.132666Z",
     "shell.execute_reply": "2023-01-18T06:22:03.131449Z"
    },
    "id": "dIIBHqm4wCsa",
    "outputId": "e43d0d04-a530-421b-8d33-ba65da1aebd3",
    "papermill": {
     "duration": 0.305344,
     "end_time": "2023-01-18T06:22:03.135137",
     "exception": false,
     "start_time": "2023-01-18T06:22:02.829793",
     "status": "completed"
    },
    "tags": []
   },
   "outputs": [
    {
     "data": {
      "image/png": "[encoded data removed]",
      "text/plain": [
       "<Figure size 432x288 with 1 Axes>"
      ]
     },
     "metadata": {
      "needs_background": "light"
     },
     "output_type": "display_data"
    }
   ],
   "source": [
    "content['copyright_holder'].value_counts().head(5).plot(kind='bar',cmap=\"Accent\")\n",
    "\n",
    "plt.title('Most Commonly Used kinds')\n",
    "plt.show()"
   ]
  },
  {
   "cell_type": "code",
   "execution_count": 28,
   "id": "3d60bc3f",
   "metadata": {
    "execution": {
     "iopub.execute_input": "2023-01-18T06:22:03.169426Z",
     "iopub.status.busy": "2023-01-18T06:22:03.168995Z",
     "iopub.status.idle": "2023-01-18T06:22:03.179734Z",
     "shell.execute_reply": "2023-01-18T06:22:03.178658Z"
    },
    "id": "cTalXUSGwCsa",
    "outputId": "826fa286-1d98-4e4b-8d99-abfa65e28609",
    "papermill": {
     "duration": 0.030417,
     "end_time": "2023-01-18T06:22:03.181867",
     "exception": false,
     "start_time": "2023-01-18T06:22:03.151450",
     "status": "completed"
    },
    "tags": []
   },
   "outputs": [
    {
     "data": {
      "text/html": [
       "<div>\n",
       "<style scoped>\n",
       "    .dataframe tbody tr th:only-of-type {\n",
       "        vertical-align: middle;\n",
       "    }\n",
       "\n",
       "    .dataframe tbody tr th {\n",
       "        vertical-align: top;\n",
       "    }\n",
       "\n",
       "    .dataframe thead th {\n",
       "        text-align: right;\n",
       "    }\n",
       "</style>\n",
       "<table border=\"1\" class=\"dataframe\">\n",
       "  <thead>\n",
       "    <tr style=\"text-align: right;\">\n",
       "      <th></th>\n",
       "      <th>topic_id</th>\n",
       "      <th>content_ids</th>\n",
       "    </tr>\n",
       "  </thead>\n",
       "  <tbody>\n",
       "    <tr>\n",
       "      <th>0</th>\n",
       "      <td>t_00004da3a1b2</td>\n",
       "      <td>c_1108dd0c7a5d c_376c5a8eb028 c_5bc0e1e2cba0 c...</td>\n",
       "    </tr>\n",
       "    <tr>\n",
       "      <th>1</th>\n",
       "      <td>t_00068291e9a4</td>\n",
       "      <td>c_639ea2ef9c95 c_89ce9367be10 c_ac1672cdcd2c c...</td>\n",
       "    </tr>\n",
       "    <tr>\n",
       "      <th>2</th>\n",
       "      <td>t_00069b63a70a</td>\n",
       "      <td>c_11a1dc0bfb99</td>\n",
       "    </tr>\n",
       "    <tr>\n",
       "      <th>3</th>\n",
       "      <td>t_0006d41a73a8</td>\n",
       "      <td>c_0c6473c3480d c_1c57a1316568 c_5e375cf14c47 c...</td>\n",
       "    </tr>\n",
       "    <tr>\n",
       "      <th>4</th>\n",
       "      <td>t_0008768bdee6</td>\n",
       "      <td>c_34e1424229b4 c_7d1a964d66d5 c_aab93ee667f4</td>\n",
       "    </tr>\n",
       "  </tbody>\n",
       "</table>\n",
       "</div>"
      ],
      "text/plain": [
       "         topic_id                                        content_ids\n",
       "0  t_00004da3a1b2  c_1108dd0c7a5d c_376c5a8eb028 c_5bc0e1e2cba0 c...\n",
       "1  t_00068291e9a4  c_639ea2ef9c95 c_89ce9367be10 c_ac1672cdcd2c c...\n",
       "2  t_00069b63a70a                                     c_11a1dc0bfb99\n",
       "3  t_0006d41a73a8  c_0c6473c3480d c_1c57a1316568 c_5e375cf14c47 c...\n",
       "4  t_0008768bdee6       c_34e1424229b4 c_7d1a964d66d5 c_aab93ee667f4"
      ]
     },
     "execution_count": 28,
     "metadata": {},
     "output_type": "execute_result"
    }
   ],
   "source": [
    "corr.head()"
   ]
  },
  {
   "cell_type": "code",
   "execution_count": 29,
   "id": "b6fc2d2b",
   "metadata": {
    "execution": {
     "iopub.execute_input": "2023-01-18T06:22:03.216646Z",
     "iopub.status.busy": "2023-01-18T06:22:03.216209Z",
     "iopub.status.idle": "2023-01-18T06:22:03.236230Z",
     "shell.execute_reply": "2023-01-18T06:22:03.234800Z"
    },
    "id": "RPyPeFOgwCsb",
    "outputId": "0fe1e026-0307-4446-a90f-f80cacbe758e",
    "papermill": {
     "duration": 0.040274,
     "end_time": "2023-01-18T06:22:03.238563",
     "exception": false,
     "start_time": "2023-01-18T06:22:03.198289",
     "status": "completed"
    },
    "tags": []
   },
   "outputs": [
    {
     "name": "stdout",
     "output_type": "stream",
     "text": [
      "<class 'pandas.core.frame.DataFrame'>\n",
      "RangeIndex: 61517 entries, 0 to 61516\n",
      "Data columns (total 2 columns):\n",
      " #   Column       Non-Null Count  Dtype \n",
      "---  ------       --------------  ----- \n",
      " 0   topic_id     61517 non-null  object\n",
      " 1   content_ids  61517 non-null  object\n",
      "dtypes: object(2)\n",
      "memory usage: 961.3+ KB\n"
     ]
    }
   ],
   "source": [
    "corr.info()"
   ]
  },
  {
   "cell_type": "code",
   "execution_count": 30,
   "id": "deba1d3d",
   "metadata": {
    "execution": {
     "iopub.execute_input": "2023-01-18T06:22:03.273220Z",
     "iopub.status.busy": "2023-01-18T06:22:03.272782Z",
     "iopub.status.idle": "2023-01-18T06:22:03.278032Z",
     "shell.execute_reply": "2023-01-18T06:22:03.277215Z"
    },
    "id": "PJvVMxIGwCsb",
    "papermill": {
     "duration": 0.025125,
     "end_time": "2023-01-18T06:22:03.280081",
     "exception": false,
     "start_time": "2023-01-18T06:22:03.254956",
     "status": "completed"
    },
    "tags": []
   },
   "outputs": [],
   "source": [
    "topics.rename(columns = {'id':'topic_id'}, inplace = True)"
   ]
  },
  {
   "cell_type": "markdown",
   "id": "edbaf1ae",
   "metadata": {
    "id": "L4gzBlFDwrne",
    "papermill": {
     "duration": 0.015938,
     "end_time": "2023-01-18T06:22:03.312324",
     "exception": false,
     "start_time": "2023-01-18T06:22:03.296386",
     "status": "completed"
    },
    "tags": []
   },
   "source": [
    "# **Merge the datasets**"
   ]
  },
  {
   "cell_type": "code",
   "execution_count": 31,
   "id": "a47f1060",
   "metadata": {
    "execution": {
     "iopub.execute_input": "2023-01-18T06:22:03.347031Z",
     "iopub.status.busy": "2023-01-18T06:22:03.346594Z",
     "iopub.status.idle": "2023-01-18T06:22:03.456934Z",
     "shell.execute_reply": "2023-01-18T06:22:03.455585Z"
    },
    "id": "s_DixCGKwCsb",
    "outputId": "f9cf5131-dcbf-4ff3-aadb-fe9b72ac399b",
    "papermill": {
     "duration": 0.130975,
     "end_time": "2023-01-18T06:22:03.459652",
     "exception": false,
     "start_time": "2023-01-18T06:22:03.328677",
     "status": "completed"
    },
    "tags": []
   },
   "outputs": [
    {
     "name": "stdout",
     "output_type": "stream",
     "text": [
      "Final_df shape: (61517, 10)\n"
     ]
    }
   ],
   "source": [
    "final_df1 = corr.merge(topics, on='topic_id', how='left')\n",
    "\n",
    "print('Final_df shape:', final_df1.shape)"
   ]
  },
  {
   "cell_type": "code",
   "execution_count": 32,
   "id": "7abade56",
   "metadata": {
    "execution": {
     "iopub.execute_input": "2023-01-18T06:22:03.494317Z",
     "iopub.status.busy": "2023-01-18T06:22:03.493878Z",
     "iopub.status.idle": "2023-01-18T06:22:03.514251Z",
     "shell.execute_reply": "2023-01-18T06:22:03.512907Z"
    },
    "id": "QU_2nP1kwCsc",
    "outputId": "11997d0f-42ad-4923-c807-f4dd50e3944f",
    "papermill": {
     "duration": 0.040686,
     "end_time": "2023-01-18T06:22:03.516844",
     "exception": false,
     "start_time": "2023-01-18T06:22:03.476158",
     "status": "completed"
    },
    "tags": []
   },
   "outputs": [
    {
     "data": {
      "text/html": [
       "<div>\n",
       "<style scoped>\n",
       "    .dataframe tbody tr th:only-of-type {\n",
       "        vertical-align: middle;\n",
       "    }\n",
       "\n",
       "    .dataframe tbody tr th {\n",
       "        vertical-align: top;\n",
       "    }\n",
       "\n",
       "    .dataframe thead th {\n",
       "        text-align: right;\n",
       "    }\n",
       "</style>\n",
       "<table border=\"1\" class=\"dataframe\">\n",
       "  <thead>\n",
       "    <tr style=\"text-align: right;\">\n",
       "      <th></th>\n",
       "      <th>topic_id</th>\n",
       "      <th>content_ids</th>\n",
       "      <th>title</th>\n",
       "      <th>description</th>\n",
       "      <th>channel</th>\n",
       "      <th>category</th>\n",
       "      <th>level</th>\n",
       "      <th>language</th>\n",
       "      <th>parent</th>\n",
       "      <th>has_content</th>\n",
       "    </tr>\n",
       "  </thead>\n",
       "  <tbody>\n",
       "    <tr>\n",
       "      <th>0</th>\n",
       "      <td>t_00004da3a1b2</td>\n",
       "      <td>c_1108dd0c7a5d c_376c5a8eb028 c_5bc0e1e2cba0 c...</td>\n",
       "      <td>Откриването на резисторите</td>\n",
       "      <td>Изследване на материали, които предизвикват на...</td>\n",
       "      <td>000cf7</td>\n",
       "      <td>source</td>\n",
       "      <td>4</td>\n",
       "      <td>bg</td>\n",
       "      <td>t_16e29365b50d</td>\n",
       "      <td>1</td>\n",
       "    </tr>\n",
       "    <tr>\n",
       "      <th>1</th>\n",
       "      <td>t_00068291e9a4</td>\n",
       "      <td>c_639ea2ef9c95 c_89ce9367be10 c_ac1672cdcd2c c...</td>\n",
       "      <td>Entradas e saídas de uma função</td>\n",
       "      <td>Entenda um pouco mais sobre funções.</td>\n",
       "      <td>8e286a</td>\n",
       "      <td>source</td>\n",
       "      <td>4</td>\n",
       "      <td>pt</td>\n",
       "      <td>t_d14b6c2a2b70</td>\n",
       "      <td>1</td>\n",
       "    </tr>\n",
       "    <tr>\n",
       "      <th>2</th>\n",
       "      <td>t_00069b63a70a</td>\n",
       "      <td>c_11a1dc0bfb99</td>\n",
       "      <td>Transcripts</td>\n",
       "      <td>No Description</td>\n",
       "      <td>6e3ba4</td>\n",
       "      <td>source</td>\n",
       "      <td>3</td>\n",
       "      <td>en</td>\n",
       "      <td>t_4054df11a74e</td>\n",
       "      <td>1</td>\n",
       "    </tr>\n",
       "    <tr>\n",
       "      <th>3</th>\n",
       "      <td>t_0006d41a73a8</td>\n",
       "      <td>c_0c6473c3480d c_1c57a1316568 c_5e375cf14c47 c...</td>\n",
       "      <td>Графики на експоненциални функции (Алгебра 2 н...</td>\n",
       "      <td>Научи повече за графиките на сложните показате...</td>\n",
       "      <td>000cf7</td>\n",
       "      <td>source</td>\n",
       "      <td>4</td>\n",
       "      <td>bg</td>\n",
       "      <td>t_e2452e21d252</td>\n",
       "      <td>1</td>\n",
       "    </tr>\n",
       "    <tr>\n",
       "      <th>4</th>\n",
       "      <td>t_0008768bdee6</td>\n",
       "      <td>c_34e1424229b4 c_7d1a964d66d5 c_aab93ee667f4</td>\n",
       "      <td>100 સુધીનો સરવાળો</td>\n",
       "      <td>37 અને 49 જેવી બે-અંકની સંખ્યાઓ ઉમેરતા શીખો.</td>\n",
       "      <td>5223e0</td>\n",
       "      <td>supplemental</td>\n",
       "      <td>4</td>\n",
       "      <td>gu</td>\n",
       "      <td>t_0da7a331d666</td>\n",
       "      <td>1</td>\n",
       "    </tr>\n",
       "  </tbody>\n",
       "</table>\n",
       "</div>"
      ],
      "text/plain": [
       "         topic_id                                        content_ids  \\\n",
       "0  t_00004da3a1b2  c_1108dd0c7a5d c_376c5a8eb028 c_5bc0e1e2cba0 c...   \n",
       "1  t_00068291e9a4  c_639ea2ef9c95 c_89ce9367be10 c_ac1672cdcd2c c...   \n",
       "2  t_00069b63a70a                                     c_11a1dc0bfb99   \n",
       "3  t_0006d41a73a8  c_0c6473c3480d c_1c57a1316568 c_5e375cf14c47 c...   \n",
       "4  t_0008768bdee6       c_34e1424229b4 c_7d1a964d66d5 c_aab93ee667f4   \n",
       "\n",
       "                                               title  \\\n",
       "0                         Откриването на резисторите   \n",
       "1                    Entradas e saídas de uma função   \n",
       "2                                        Transcripts   \n",
       "3  Графики на експоненциални функции (Алгебра 2 н...   \n",
       "4                                  100 સુધીનો સરવાળો   \n",
       "\n",
       "                                         description channel      category  \\\n",
       "0  Изследване на материали, които предизвикват на...  000cf7        source   \n",
       "1               Entenda um pouco mais sobre funções.  8e286a        source   \n",
       "2                                     No Description  6e3ba4        source   \n",
       "3  Научи повече за графиките на сложните показате...  000cf7        source   \n",
       "4       37 અને 49 જેવી બે-અંકની સંખ્યાઓ ઉમેરતા શીખો.  5223e0  supplemental   \n",
       "\n",
       "   level language          parent  has_content  \n",
       "0      4       bg  t_16e29365b50d            1  \n",
       "1      4       pt  t_d14b6c2a2b70            1  \n",
       "2      3       en  t_4054df11a74e            1  \n",
       "3      4       bg  t_e2452e21d252            1  \n",
       "4      4       gu  t_0da7a331d666            1  "
      ]
     },
     "execution_count": 32,
     "metadata": {},
     "output_type": "execute_result"
    }
   ],
   "source": [
    "final_df1.head()"
   ]
  },
  {
   "cell_type": "code",
   "execution_count": 33,
   "id": "a4b9cff3",
   "metadata": {
    "execution": {
     "iopub.execute_input": "2023-01-18T06:22:03.553624Z",
     "iopub.status.busy": "2023-01-18T06:22:03.552785Z",
     "iopub.status.idle": "2023-01-18T06:22:03.558065Z",
     "shell.execute_reply": "2023-01-18T06:22:03.557225Z"
    },
    "id": "WSuOlEqawCsc",
    "papermill": {
     "duration": 0.026117,
     "end_time": "2023-01-18T06:22:03.560197",
     "exception": false,
     "start_time": "2023-01-18T06:22:03.534080",
     "status": "completed"
    },
    "tags": []
   },
   "outputs": [],
   "source": [
    "content.rename(columns = {'id':'content_ids'}, inplace = True)"
   ]
  },
  {
   "cell_type": "code",
   "execution_count": 34,
   "id": "94f8986c",
   "metadata": {
    "execution": {
     "iopub.execute_input": "2023-01-18T06:22:03.597527Z",
     "iopub.status.busy": "2023-01-18T06:22:03.596767Z",
     "iopub.status.idle": "2023-01-18T06:22:03.791799Z",
     "shell.execute_reply": "2023-01-18T06:22:03.789890Z"
    },
    "id": "oI-Wu8vhwCsd",
    "outputId": "3935c0b9-2b01-433f-8433-45fe75675f17",
    "papermill": {
     "duration": 0.217405,
     "end_time": "2023-01-18T06:22:03.795255",
     "exception": false,
     "start_time": "2023-01-18T06:22:03.577850",
     "status": "completed"
    },
    "tags": []
   },
   "outputs": [
    {
     "name": "stdout",
     "output_type": "stream",
     "text": [
      "Final_df shape: (61517, 17)\n"
     ]
    }
   ],
   "source": [
    "final_df = final_df1.merge(content, on='content_ids', how='left')\n",
    "\n",
    "print('Final_df shape:', final_df.shape)"
   ]
  },
  {
   "cell_type": "code",
   "execution_count": 35,
   "id": "3f8d086d",
   "metadata": {
    "execution": {
     "iopub.execute_input": "2023-01-18T06:22:03.832783Z",
     "iopub.status.busy": "2023-01-18T06:22:03.831890Z",
     "iopub.status.idle": "2023-01-18T06:22:03.894950Z",
     "shell.execute_reply": "2023-01-18T06:22:03.893725Z"
    },
    "id": "PYZo3m38wCse",
    "outputId": "9f387710-3e85-488b-fc61-21699962822c",
    "papermill": {
     "duration": 0.084168,
     "end_time": "2023-01-18T06:22:03.897540",
     "exception": false,
     "start_time": "2023-01-18T06:22:03.813372",
     "status": "completed"
    },
    "tags": []
   },
   "outputs": [
    {
     "name": "stdout",
     "output_type": "stream",
     "text": [
      "<class 'pandas.core.frame.DataFrame'>\n",
      "Int64Index: 61517 entries, 0 to 61516\n",
      "Data columns (total 17 columns):\n",
      " #   Column            Non-Null Count  Dtype \n",
      "---  ------            --------------  ----- \n",
      " 0   topic_id          61517 non-null  object\n",
      " 1   content_ids       61517 non-null  object\n",
      " 2   title_x           61517 non-null  object\n",
      " 3   description_x     61517 non-null  object\n",
      " 4   channel           61517 non-null  object\n",
      " 5   category          61517 non-null  object\n",
      " 6   level             61517 non-null  int64 \n",
      " 7   language_x        61517 non-null  object\n",
      " 8   parent            61507 non-null  object\n",
      " 9   has_content       61517 non-null  int64 \n",
      " 10  title_y           13437 non-null  object\n",
      " 11  description_y     13437 non-null  object\n",
      " 12  kind              13437 non-null  object\n",
      " 13  text              13437 non-null  object\n",
      " 14  language_y        13437 non-null  object\n",
      " 15  copyright_holder  5962 non-null   object\n",
      " 16  license           13437 non-null  object\n",
      "dtypes: int64(2), object(15)\n",
      "memory usage: 8.4+ MB\n"
     ]
    }
   ],
   "source": [
    "final_df.info()"
   ]
  },
  {
   "cell_type": "code",
   "execution_count": 36,
   "id": "dff81e83",
   "metadata": {
    "execution": {
     "iopub.execute_input": "2023-01-18T06:22:03.932805Z",
     "iopub.status.busy": "2023-01-18T06:22:03.932369Z",
     "iopub.status.idle": "2023-01-18T06:22:03.956943Z",
     "shell.execute_reply": "2023-01-18T06:22:03.955564Z"
    },
    "id": "UkkKwEzZwCse",
    "outputId": "d82d421e-0f7a-4a47-8c75-ddbe245623af",
    "papermill": {
     "duration": 0.045176,
     "end_time": "2023-01-18T06:22:03.959514",
     "exception": false,
     "start_time": "2023-01-18T06:22:03.914338",
     "status": "completed"
    },
    "tags": []
   },
   "outputs": [
    {
     "data": {
      "text/html": [
       "<div>\n",
       "<style scoped>\n",
       "    .dataframe tbody tr th:only-of-type {\n",
       "        vertical-align: middle;\n",
       "    }\n",
       "\n",
       "    .dataframe tbody tr th {\n",
       "        vertical-align: top;\n",
       "    }\n",
       "\n",
       "    .dataframe thead th {\n",
       "        text-align: right;\n",
       "    }\n",
       "</style>\n",
       "<table border=\"1\" class=\"dataframe\">\n",
       "  <thead>\n",
       "    <tr style=\"text-align: right;\">\n",
       "      <th></th>\n",
       "      <th>topic_id</th>\n",
       "      <th>content_ids</th>\n",
       "      <th>title_x</th>\n",
       "      <th>description_x</th>\n",
       "      <th>channel</th>\n",
       "      <th>category</th>\n",
       "      <th>level</th>\n",
       "      <th>language_x</th>\n",
       "      <th>parent</th>\n",
       "      <th>has_content</th>\n",
       "      <th>title_y</th>\n",
       "      <th>description_y</th>\n",
       "      <th>kind</th>\n",
       "      <th>text</th>\n",
       "      <th>language_y</th>\n",
       "      <th>copyright_holder</th>\n",
       "      <th>license</th>\n",
       "    </tr>\n",
       "  </thead>\n",
       "  <tbody>\n",
       "    <tr>\n",
       "      <th>0</th>\n",
       "      <td>t_00004da3a1b2</td>\n",
       "      <td>c_1108dd0c7a5d c_376c5a8eb028 c_5bc0e1e2cba0 c...</td>\n",
       "      <td>Откриването на резисторите</td>\n",
       "      <td>Изследване на материали, които предизвикват на...</td>\n",
       "      <td>000cf7</td>\n",
       "      <td>source</td>\n",
       "      <td>4</td>\n",
       "      <td>bg</td>\n",
       "      <td>t_16e29365b50d</td>\n",
       "      <td>1</td>\n",
       "      <td>NaN</td>\n",
       "      <td>NaN</td>\n",
       "      <td>NaN</td>\n",
       "      <td>NaN</td>\n",
       "      <td>NaN</td>\n",
       "      <td>NaN</td>\n",
       "      <td>NaN</td>\n",
       "    </tr>\n",
       "    <tr>\n",
       "      <th>1</th>\n",
       "      <td>t_00068291e9a4</td>\n",
       "      <td>c_639ea2ef9c95 c_89ce9367be10 c_ac1672cdcd2c c...</td>\n",
       "      <td>Entradas e saídas de uma função</td>\n",
       "      <td>Entenda um pouco mais sobre funções.</td>\n",
       "      <td>8e286a</td>\n",
       "      <td>source</td>\n",
       "      <td>4</td>\n",
       "      <td>pt</td>\n",
       "      <td>t_d14b6c2a2b70</td>\n",
       "      <td>1</td>\n",
       "      <td>NaN</td>\n",
       "      <td>NaN</td>\n",
       "      <td>NaN</td>\n",
       "      <td>NaN</td>\n",
       "      <td>NaN</td>\n",
       "      <td>NaN</td>\n",
       "      <td>NaN</td>\n",
       "    </tr>\n",
       "    <tr>\n",
       "      <th>2</th>\n",
       "      <td>t_00069b63a70a</td>\n",
       "      <td>c_11a1dc0bfb99</td>\n",
       "      <td>Transcripts</td>\n",
       "      <td>No Description</td>\n",
       "      <td>6e3ba4</td>\n",
       "      <td>source</td>\n",
       "      <td>3</td>\n",
       "      <td>en</td>\n",
       "      <td>t_4054df11a74e</td>\n",
       "      <td>1</td>\n",
       "      <td>Flow Charts: Logical..: Written Transcript of ...</td>\n",
       "      <td>Written Transcript of this video lesson, Engli...</td>\n",
       "      <td>document</td>\n",
       "      <td>Español\\t\\n  \\nTítulo\\t\\n  de\\t\\n  la\\t\\n  lec...</td>\n",
       "      <td>en</td>\n",
       "      <td>MIT Blossoms</td>\n",
       "      <td>CC BY-NC-SA</td>\n",
       "    </tr>\n",
       "    <tr>\n",
       "      <th>3</th>\n",
       "      <td>t_0006d41a73a8</td>\n",
       "      <td>c_0c6473c3480d c_1c57a1316568 c_5e375cf14c47 c...</td>\n",
       "      <td>Графики на експоненциални функции (Алгебра 2 н...</td>\n",
       "      <td>Научи повече за графиките на сложните показате...</td>\n",
       "      <td>000cf7</td>\n",
       "      <td>source</td>\n",
       "      <td>4</td>\n",
       "      <td>bg</td>\n",
       "      <td>t_e2452e21d252</td>\n",
       "      <td>1</td>\n",
       "      <td>NaN</td>\n",
       "      <td>NaN</td>\n",
       "      <td>NaN</td>\n",
       "      <td>NaN</td>\n",
       "      <td>NaN</td>\n",
       "      <td>NaN</td>\n",
       "      <td>NaN</td>\n",
       "    </tr>\n",
       "    <tr>\n",
       "      <th>4</th>\n",
       "      <td>t_0008768bdee6</td>\n",
       "      <td>c_34e1424229b4 c_7d1a964d66d5 c_aab93ee667f4</td>\n",
       "      <td>100 સુધીનો સરવાળો</td>\n",
       "      <td>37 અને 49 જેવી બે-અંકની સંખ્યાઓ ઉમેરતા શીખો.</td>\n",
       "      <td>5223e0</td>\n",
       "      <td>supplemental</td>\n",
       "      <td>4</td>\n",
       "      <td>gu</td>\n",
       "      <td>t_0da7a331d666</td>\n",
       "      <td>1</td>\n",
       "      <td>NaN</td>\n",
       "      <td>NaN</td>\n",
       "      <td>NaN</td>\n",
       "      <td>NaN</td>\n",
       "      <td>NaN</td>\n",
       "      <td>NaN</td>\n",
       "      <td>NaN</td>\n",
       "    </tr>\n",
       "  </tbody>\n",
       "</table>\n",
       "</div>"
      ],
      "text/plain": [
       "         topic_id                                        content_ids  \\\n",
       "0  t_00004da3a1b2  c_1108dd0c7a5d c_376c5a8eb028 c_5bc0e1e2cba0 c...   \n",
       "1  t_00068291e9a4  c_639ea2ef9c95 c_89ce9367be10 c_ac1672cdcd2c c...   \n",
       "2  t_00069b63a70a                                     c_11a1dc0bfb99   \n",
       "3  t_0006d41a73a8  c_0c6473c3480d c_1c57a1316568 c_5e375cf14c47 c...   \n",
       "4  t_0008768bdee6       c_34e1424229b4 c_7d1a964d66d5 c_aab93ee667f4   \n",
       "\n",
       "                                             title_x  \\\n",
       "0                         Откриването на резисторите   \n",
       "1                    Entradas e saídas de uma função   \n",
       "2                                        Transcripts   \n",
       "3  Графики на експоненциални функции (Алгебра 2 н...   \n",
       "4                                  100 સુધીનો સરવાળો   \n",
       "\n",
       "                                       description_x channel      category  \\\n",
       "0  Изследване на материали, които предизвикват на...  000cf7        source   \n",
       "1               Entenda um pouco mais sobre funções.  8e286a        source   \n",
       "2                                     No Description  6e3ba4        source   \n",
       "3  Научи повече за графиките на сложните показате...  000cf7        source   \n",
       "4       37 અને 49 જેવી બે-અંકની સંખ્યાઓ ઉમેરતા શીખો.  5223e0  supplemental   \n",
       "\n",
       "   level language_x          parent  has_content  \\\n",
       "0      4         bg  t_16e29365b50d            1   \n",
       "1      4         pt  t_d14b6c2a2b70            1   \n",
       "2      3         en  t_4054df11a74e            1   \n",
       "3      4         bg  t_e2452e21d252            1   \n",
       "4      4         gu  t_0da7a331d666            1   \n",
       "\n",
       "                                             title_y  \\\n",
       "0                                                NaN   \n",
       "1                                                NaN   \n",
       "2  Flow Charts: Logical..: Written Transcript of ...   \n",
       "3                                                NaN   \n",
       "4                                                NaN   \n",
       "\n",
       "                                       description_y      kind  \\\n",
       "0                                                NaN       NaN   \n",
       "1                                                NaN       NaN   \n",
       "2  Written Transcript of this video lesson, Engli...  document   \n",
       "3                                                NaN       NaN   \n",
       "4                                                NaN       NaN   \n",
       "\n",
       "                                                text language_y  \\\n",
       "0                                                NaN        NaN   \n",
       "1                                                NaN        NaN   \n",
       "2  Español\\t\\n  \\nTítulo\\t\\n  de\\t\\n  la\\t\\n  lec...         en   \n",
       "3                                                NaN        NaN   \n",
       "4                                                NaN        NaN   \n",
       "\n",
       "  copyright_holder      license  \n",
       "0              NaN          NaN  \n",
       "1              NaN          NaN  \n",
       "2     MIT Blossoms  CC BY-NC-SA  \n",
       "3              NaN          NaN  \n",
       "4              NaN          NaN  "
      ]
     },
     "execution_count": 36,
     "metadata": {},
     "output_type": "execute_result"
    }
   ],
   "source": [
    "final_df.head()"
   ]
  },
  {
   "cell_type": "markdown",
   "id": "ff8f2ebf",
   "metadata": {
    "id": "7gP-6lCcw4lu",
    "papermill": {
     "duration": 0.016783,
     "end_time": "2023-01-18T06:22:03.993402",
     "exception": false,
     "start_time": "2023-01-18T06:22:03.976619",
     "status": "completed"
    },
    "tags": []
   },
   "source": [
    "# **Data Models**"
   ]
  },
  {
   "cell_type": "code",
   "execution_count": 37,
   "id": "c1b28872",
   "metadata": {
    "execution": {
     "iopub.execute_input": "2023-01-18T06:22:04.029656Z",
     "iopub.status.busy": "2023-01-18T06:22:04.029212Z",
     "iopub.status.idle": "2023-01-18T06:22:11.173382Z",
     "shell.execute_reply": "2023-01-18T06:22:11.172241Z"
    },
    "id": "_Y050vhfwCsf",
    "papermill": {
     "duration": 7.165829,
     "end_time": "2023-01-18T06:22:11.176358",
     "exception": false,
     "start_time": "2023-01-18T06:22:04.010529",
     "status": "completed"
    },
    "tags": []
   },
   "outputs": [],
   "source": [
    "import tensorflow as tf\n",
    "from tensorflow.keras import Model\n",
    "from tensorflow.keras.layers import Input, Embedding, Reshape, Dot, Flatten, concatenate, Dense, Dropout\n",
    "from tensorflow.keras.optimizers import Adam\n",
    "from tensorflow.keras.callbacks import ModelCheckpoint\n",
    "\n",
    "from tensorflow.keras.utils import model_to_dot\n",
    "from IPython.display import SVG"
   ]
  },
  {
   "cell_type": "code",
   "execution_count": 38,
   "id": "894f22cd",
   "metadata": {
    "execution": {
     "iopub.execute_input": "2023-01-18T06:22:11.213986Z",
     "iopub.status.busy": "2023-01-18T06:22:11.213220Z",
     "iopub.status.idle": "2023-01-18T06:22:11.221349Z",
     "shell.execute_reply": "2023-01-18T06:22:11.220154Z"
    },
    "id": "v5nxMj3dwCsf",
    "papermill": {
     "duration": 0.029474,
     "end_time": "2023-01-18T06:22:11.223639",
     "exception": false,
     "start_time": "2023-01-18T06:22:11.194165",
     "status": "completed"
    },
    "tags": []
   },
   "outputs": [],
   "source": [
    "# Notes: Reshape(n_dim, ) is same with Flatten, we can use both (choose one)\n",
    "\n",
    "def RecommenderV1(n_topics, n_content, n_dim):\n",
    "    \n",
    "    # User\n",
    "    topics = Input(shape=(1,))\n",
    "    U = Embedding(n_topics, n_dim)(topics)\n",
    "    U = Flatten()(U)\n",
    "    \n",
    "    # Movie\n",
    "    content = Input(shape=(1,))\n",
    "    M = Embedding(n_content, n_dim)(content)\n",
    "    M = Flatten()(M)\n",
    "    \n",
    "    # Dot U and M\n",
    "    x = Dot(axes=1)([U, M])\n",
    "    \n",
    "    model = Model(inputs=[topics, content], outputs=x)\n",
    "    \n",
    "    model.compile(optimizer=Adam(0.0001),\n",
    "                  loss='mean_squared_error')\n",
    "    \n",
    "    return model"
   ]
  },
  {
   "cell_type": "code",
   "execution_count": 39,
   "id": "90da1282",
   "metadata": {
    "execution": {
     "iopub.execute_input": "2023-01-18T06:22:11.260832Z",
     "iopub.status.busy": "2023-01-18T06:22:11.260425Z",
     "iopub.status.idle": "2023-01-18T06:22:11.304658Z",
     "shell.execute_reply": "2023-01-18T06:22:11.303519Z"
    },
    "id": "rXXWrH9twCsf",
    "outputId": "a8263aaf-8e71-4b29-9231-37103ed4821c",
    "papermill": {
     "duration": 0.066137,
     "end_time": "2023-01-18T06:22:11.307629",
     "exception": false,
     "start_time": "2023-01-18T06:22:11.241492",
     "status": "completed"
    },
    "tags": []
   },
   "outputs": [
    {
     "name": "stdout",
     "output_type": "stream",
     "text": [
      "User_id total unique: 61517\n",
      "Movieid total unique: 47299\n"
     ]
    }
   ],
   "source": [
    "topics_nunique = final_df['topic_id'].nunique()\n",
    "content_nunique = final_df['content_ids'].nunique()\n",
    "\n",
    "print('User_id total unique:', topics_nunique)\n",
    "print('Movieid total unique:', content_nunique)"
   ]
  },
  {
   "cell_type": "code",
   "execution_count": 40,
   "id": "cae54ab9",
   "metadata": {
    "execution": {
     "iopub.execute_input": "2023-01-18T06:22:11.345614Z",
     "iopub.status.busy": "2023-01-18T06:22:11.344726Z",
     "iopub.status.idle": "2023-01-18T06:22:11.573383Z",
     "shell.execute_reply": "2023-01-18T06:22:11.572098Z"
    },
    "id": "w0KsyxXPwCsg",
    "outputId": "5caaefb7-e45d-4d94-8ce3-367afc5dafb4",
    "papermill": {
     "duration": 0.25055,
     "end_time": "2023-01-18T06:22:11.576490",
     "exception": false,
     "start_time": "2023-01-18T06:22:11.325940",
     "status": "completed"
    },
    "tags": []
   },
   "outputs": [
    {
     "name": "stderr",
     "output_type": "stream",
     "text": [
      "2023-01-18 06:22:11.400463: I tensorflow/core/common_runtime/process_util.cc:146] Creating new thread pool with default inter op setting: 2. Tune using inter_op_parallelism_threads for best performance.\n"
     ]
    }
   ],
   "source": [
    "model1 = RecommenderV1(topics_nunique, content_nunique, 100)"
   ]
  },
  {
   "cell_type": "code",
   "execution_count": 41,
   "id": "b10d9094",
   "metadata": {
    "execution": {
     "iopub.execute_input": "2023-01-18T06:22:11.613462Z",
     "iopub.status.busy": "2023-01-18T06:22:11.613043Z",
     "iopub.status.idle": "2023-01-18T06:22:12.881732Z",
     "shell.execute_reply": "2023-01-18T06:22:12.880088Z"
    },
    "id": "oTCwtlUfwCsg",
    "outputId": "efb5f96a-9b78-4697-e226-1a1b02e6ea7e",
    "papermill": {
     "duration": 1.290492,
     "end_time": "2023-01-18T06:22:12.884669",
     "exception": false,
     "start_time": "2023-01-18T06:22:11.594177",
     "status": "completed"
    },
    "tags": []
   },
   "outputs": [
    {
     "data": {
      "image/svg+xml": [
       "<svg height=\"405pt\" viewBox=\"0.00 0.00 790.00 304.00\" width=\"1053pt\" xmlns=\"http://www.w3.org/2000/svg\" xmlns:xlink=\"http://www.w3.org/1999/xlink\">\n",
       "<g class=\"graph\" id=\"graph0\" transform=\"scale(1.33333 1.33333) rotate(0) translate(4 300)\">\n",
       "<title>G</title>\n",
       "<polygon fill=\"white\" points=\"-4,4 -4,-300 786,-300 786,4 -4,4\" stroke=\"transparent\"/>\n",
       "<!-- 140437135354704 -->\n",
       "<g class=\"node\" id=\"node1\">\n",
       "<title>140437135354704</title>\n",
       "<polygon fill=\"none\" points=\"27.5,-249.5 27.5,-295.5 346.5,-295.5 346.5,-249.5 27.5,-249.5\" stroke=\"black\"/>\n",
       "<text font-family=\"Times,serif\" font-size=\"14.00\" text-anchor=\"middle\" x=\"106.5\" y=\"-268.8\">input_1: InputLayer</text>\n",
       "<polyline fill=\"none\" points=\"185.5,-249.5 185.5,-295.5 \" stroke=\"black\"/>\n",
       "<text font-family=\"Times,serif\" font-size=\"14.00\" text-anchor=\"middle\" x=\"219.5\" y=\"-280.3\">input:</text>\n",
       "<polyline fill=\"none\" points=\"185.5,-272.5 253.5,-272.5 \" stroke=\"black\"/>\n",
       "<text font-family=\"Times,serif\" font-size=\"14.00\" text-anchor=\"middle\" x=\"219.5\" y=\"-257.3\">output:</text>\n",
       "<polyline fill=\"none\" points=\"253.5,-249.5 253.5,-295.5 \" stroke=\"black\"/>\n",
       "<text font-family=\"Times,serif\" font-size=\"14.00\" text-anchor=\"middle\" x=\"300\" y=\"-280.3\">[(None, 1)]</text>\n",
       "<polyline fill=\"none\" points=\"253.5,-272.5 346.5,-272.5 \" stroke=\"black\"/>\n",
       "<text font-family=\"Times,serif\" font-size=\"14.00\" text-anchor=\"middle\" x=\"300\" y=\"-257.3\">[(None, 1)]</text>\n",
       "</g>\n",
       "<!-- 140437142743888 -->\n",
       "<g class=\"node\" id=\"node3\">\n",
       "<title>140437142743888</title>\n",
       "<polygon fill=\"none\" points=\"0,-166.5 0,-212.5 374,-212.5 374,-166.5 0,-166.5\" stroke=\"black\"/>\n",
       "<text font-family=\"Times,serif\" font-size=\"14.00\" text-anchor=\"middle\" x=\"93.5\" y=\"-185.8\">embedding: Embedding</text>\n",
       "<polyline fill=\"none\" points=\"187,-166.5 187,-212.5 \" stroke=\"black\"/>\n",
       "<text font-family=\"Times,serif\" font-size=\"14.00\" text-anchor=\"middle\" x=\"221\" y=\"-197.3\">input:</text>\n",
       "<polyline fill=\"none\" points=\"187,-189.5 255,-189.5 \" stroke=\"black\"/>\n",
       "<text font-family=\"Times,serif\" font-size=\"14.00\" text-anchor=\"middle\" x=\"221\" y=\"-174.3\">output:</text>\n",
       "<polyline fill=\"none\" points=\"255,-166.5 255,-212.5 \" stroke=\"black\"/>\n",
       "<text font-family=\"Times,serif\" font-size=\"14.00\" text-anchor=\"middle\" x=\"314.5\" y=\"-197.3\">(None, 1)</text>\n",
       "<polyline fill=\"none\" points=\"255,-189.5 374,-189.5 \" stroke=\"black\"/>\n",
       "<text font-family=\"Times,serif\" font-size=\"14.00\" text-anchor=\"middle\" x=\"314.5\" y=\"-174.3\">(None, 1, 100)</text>\n",
       "</g>\n",
       "<!-- 140437135354704&#45;&gt;140437142743888 -->\n",
       "<g class=\"edge\" id=\"edge1\">\n",
       "<title>140437135354704-&gt;140437142743888</title>\n",
       "<path d=\"M187,-249.37C187,-241.15 187,-231.66 187,-222.73\" fill=\"none\" stroke=\"black\"/>\n",
       "<polygon fill=\"black\" points=\"190.5,-222.61 187,-212.61 183.5,-222.61 190.5,-222.61\" stroke=\"black\"/>\n",
       "</g>\n",
       "<!-- 140437800978832 -->\n",
       "<g class=\"node\" id=\"node2\">\n",
       "<title>140437800978832</title>\n",
       "<polygon fill=\"none\" points=\"427.5,-249.5 427.5,-295.5 746.5,-295.5 746.5,-249.5 427.5,-249.5\" stroke=\"black\"/>\n",
       "<text font-family=\"Times,serif\" font-size=\"14.00\" text-anchor=\"middle\" x=\"506.5\" y=\"-268.8\">input_2: InputLayer</text>\n",
       "<polyline fill=\"none\" points=\"585.5,-249.5 585.5,-295.5 \" stroke=\"black\"/>\n",
       "<text font-family=\"Times,serif\" font-size=\"14.00\" text-anchor=\"middle\" x=\"619.5\" y=\"-280.3\">input:</text>\n",
       "<polyline fill=\"none\" points=\"585.5,-272.5 653.5,-272.5 \" stroke=\"black\"/>\n",
       "<text font-family=\"Times,serif\" font-size=\"14.00\" text-anchor=\"middle\" x=\"619.5\" y=\"-257.3\">output:</text>\n",
       "<polyline fill=\"none\" points=\"653.5,-249.5 653.5,-295.5 \" stroke=\"black\"/>\n",
       "<text font-family=\"Times,serif\" font-size=\"14.00\" text-anchor=\"middle\" x=\"700\" y=\"-280.3\">[(None, 1)]</text>\n",
       "<polyline fill=\"none\" points=\"653.5,-272.5 746.5,-272.5 \" stroke=\"black\"/>\n",
       "<text font-family=\"Times,serif\" font-size=\"14.00\" text-anchor=\"middle\" x=\"700\" y=\"-257.3\">[(None, 1)]</text>\n",
       "</g>\n",
       "<!-- 140437143361040 -->\n",
       "<g class=\"node\" id=\"node4\">\n",
       "<title>140437143361040</title>\n",
       "<polygon fill=\"none\" points=\"392,-166.5 392,-212.5 782,-212.5 782,-166.5 392,-166.5\" stroke=\"black\"/>\n",
       "<text font-family=\"Times,serif\" font-size=\"14.00\" text-anchor=\"middle\" x=\"493.5\" y=\"-185.8\">embedding_1: Embedding</text>\n",
       "<polyline fill=\"none\" points=\"595,-166.5 595,-212.5 \" stroke=\"black\"/>\n",
       "<text font-family=\"Times,serif\" font-size=\"14.00\" text-anchor=\"middle\" x=\"629\" y=\"-197.3\">input:</text>\n",
       "<polyline fill=\"none\" points=\"595,-189.5 663,-189.5 \" stroke=\"black\"/>\n",
       "<text font-family=\"Times,serif\" font-size=\"14.00\" text-anchor=\"middle\" x=\"629\" y=\"-174.3\">output:</text>\n",
       "<polyline fill=\"none\" points=\"663,-166.5 663,-212.5 \" stroke=\"black\"/>\n",
       "<text font-family=\"Times,serif\" font-size=\"14.00\" text-anchor=\"middle\" x=\"722.5\" y=\"-197.3\">(None, 1)</text>\n",
       "<polyline fill=\"none\" points=\"663,-189.5 782,-189.5 \" stroke=\"black\"/>\n",
       "<text font-family=\"Times,serif\" font-size=\"14.00\" text-anchor=\"middle\" x=\"722.5\" y=\"-174.3\">(None, 1, 100)</text>\n",
       "</g>\n",
       "<!-- 140437800978832&#45;&gt;140437143361040 -->\n",
       "<g class=\"edge\" id=\"edge2\">\n",
       "<title>140437800978832-&gt;140437143361040</title>\n",
       "<path d=\"M587,-249.37C587,-241.15 587,-231.66 587,-222.73\" fill=\"none\" stroke=\"black\"/>\n",
       "<polygon fill=\"black\" points=\"590.5,-222.61 587,-212.61 583.5,-222.61 590.5,-222.61\" stroke=\"black\"/>\n",
       "</g>\n",
       "<!-- 140437804887760 -->\n",
       "<g class=\"node\" id=\"node5\">\n",
       "<title>140437804887760</title>\n",
       "<polygon fill=\"none\" points=\"62.5,-83.5 62.5,-129.5 373.5,-129.5 373.5,-83.5 62.5,-83.5\" stroke=\"black\"/>\n",
       "<text font-family=\"Times,serif\" font-size=\"14.00\" text-anchor=\"middle\" x=\"124.5\" y=\"-102.8\">flatten: Flatten</text>\n",
       "<polyline fill=\"none\" points=\"186.5,-83.5 186.5,-129.5 \" stroke=\"black\"/>\n",
       "<text font-family=\"Times,serif\" font-size=\"14.00\" text-anchor=\"middle\" x=\"220.5\" y=\"-114.3\">input:</text>\n",
       "<polyline fill=\"none\" points=\"186.5,-106.5 254.5,-106.5 \" stroke=\"black\"/>\n",
       "<text font-family=\"Times,serif\" font-size=\"14.00\" text-anchor=\"middle\" x=\"220.5\" y=\"-91.3\">output:</text>\n",
       "<polyline fill=\"none\" points=\"254.5,-83.5 254.5,-129.5 \" stroke=\"black\"/>\n",
       "<text font-family=\"Times,serif\" font-size=\"14.00\" text-anchor=\"middle\" x=\"314\" y=\"-114.3\">(None, 1, 100)</text>\n",
       "<polyline fill=\"none\" points=\"254.5,-106.5 373.5,-106.5 \" stroke=\"black\"/>\n",
       "<text font-family=\"Times,serif\" font-size=\"14.00\" text-anchor=\"middle\" x=\"314\" y=\"-91.3\">(None, 100)</text>\n",
       "</g>\n",
       "<!-- 140437142743888&#45;&gt;140437804887760 -->\n",
       "<g class=\"edge\" id=\"edge3\">\n",
       "<title>140437142743888-&gt;140437804887760</title>\n",
       "<path d=\"M195.47,-166.37C198.68,-157.97 202.41,-148.24 205.89,-139.14\" fill=\"none\" stroke=\"black\"/>\n",
       "<polygon fill=\"black\" points=\"209.23,-140.2 209.54,-129.61 202.7,-137.7 209.23,-140.2\" stroke=\"black\"/>\n",
       "</g>\n",
       "<!-- 140437153385296 -->\n",
       "<g class=\"node\" id=\"node6\">\n",
       "<title>140437153385296</title>\n",
       "<polygon fill=\"none\" points=\"407.5,-83.5 407.5,-129.5 734.5,-129.5 734.5,-83.5 407.5,-83.5\" stroke=\"black\"/>\n",
       "<text font-family=\"Times,serif\" font-size=\"14.00\" text-anchor=\"middle\" x=\"477.5\" y=\"-102.8\">flatten_1: Flatten</text>\n",
       "<polyline fill=\"none\" points=\"547.5,-83.5 547.5,-129.5 \" stroke=\"black\"/>\n",
       "<text font-family=\"Times,serif\" font-size=\"14.00\" text-anchor=\"middle\" x=\"581.5\" y=\"-114.3\">input:</text>\n",
       "<polyline fill=\"none\" points=\"547.5,-106.5 615.5,-106.5 \" stroke=\"black\"/>\n",
       "<text font-family=\"Times,serif\" font-size=\"14.00\" text-anchor=\"middle\" x=\"581.5\" y=\"-91.3\">output:</text>\n",
       "<polyline fill=\"none\" points=\"615.5,-83.5 615.5,-129.5 \" stroke=\"black\"/>\n",
       "<text font-family=\"Times,serif\" font-size=\"14.00\" text-anchor=\"middle\" x=\"675\" y=\"-114.3\">(None, 1, 100)</text>\n",
       "<polyline fill=\"none\" points=\"615.5,-106.5 734.5,-106.5 \" stroke=\"black\"/>\n",
       "<text font-family=\"Times,serif\" font-size=\"14.00\" text-anchor=\"middle\" x=\"675\" y=\"-91.3\">(None, 100)</text>\n",
       "</g>\n",
       "<!-- 140437143361040&#45;&gt;140437153385296 -->\n",
       "<g class=\"edge\" id=\"edge4\">\n",
       "<title>140437143361040-&gt;140437153385296</title>\n",
       "<path d=\"M582.63,-166.37C580.99,-158.06 579.09,-148.45 577.31,-139.43\" fill=\"none\" stroke=\"black\"/>\n",
       "<polygon fill=\"black\" points=\"580.74,-138.74 575.37,-129.61 573.87,-140.1 580.74,-138.74\" stroke=\"black\"/>\n",
       "</g>\n",
       "<!-- 140437135498832 -->\n",
       "<g class=\"node\" id=\"node7\">\n",
       "<title>140437135498832</title>\n",
       "<polygon fill=\"none\" points=\"213,-0.5 213,-46.5 559,-46.5 559,-0.5 213,-0.5\" stroke=\"black\"/>\n",
       "<text font-family=\"Times,serif\" font-size=\"14.00\" text-anchor=\"middle\" x=\"250\" y=\"-19.8\">dot: Dot</text>\n",
       "<polyline fill=\"none\" points=\"287,-0.5 287,-46.5 \" stroke=\"black\"/>\n",
       "<text font-family=\"Times,serif\" font-size=\"14.00\" text-anchor=\"middle\" x=\"321\" y=\"-31.3\">input:</text>\n",
       "<polyline fill=\"none\" points=\"287,-23.5 355,-23.5 \" stroke=\"black\"/>\n",
       "<text font-family=\"Times,serif\" font-size=\"14.00\" text-anchor=\"middle\" x=\"321\" y=\"-8.3\">output:</text>\n",
       "<polyline fill=\"none\" points=\"355,-0.5 355,-46.5 \" stroke=\"black\"/>\n",
       "<text font-family=\"Times,serif\" font-size=\"14.00\" text-anchor=\"middle\" x=\"457\" y=\"-31.3\">[(None, 100), (None, 100)]</text>\n",
       "<polyline fill=\"none\" points=\"355,-23.5 559,-23.5 \" stroke=\"black\"/>\n",
       "<text font-family=\"Times,serif\" font-size=\"14.00\" text-anchor=\"middle\" x=\"457\" y=\"-8.3\">(None, 1)</text>\n",
       "</g>\n",
       "<!-- 140437804887760&#45;&gt;140437135498832 -->\n",
       "<g class=\"edge\" id=\"edge5\">\n",
       "<title>140437804887760-&gt;140437135498832</title>\n",
       "<path d=\"M263.91,-83.37C284.65,-73.37 309.32,-61.47 331.04,-51\" fill=\"none\" stroke=\"black\"/>\n",
       "<polygon fill=\"black\" points=\"332.66,-54.1 340.15,-46.61 329.62,-47.8 332.66,-54.1\" stroke=\"black\"/>\n",
       "</g>\n",
       "<!-- 140437153385296&#45;&gt;140437135498832 -->\n",
       "<g class=\"edge\" id=\"edge6\">\n",
       "<title>140437153385296-&gt;140437135498832</title>\n",
       "<path d=\"M520.45,-83.37C497.4,-73.28 469.95,-61.26 445.88,-50.72\" fill=\"none\" stroke=\"black\"/>\n",
       "<polygon fill=\"black\" points=\"447.06,-47.41 436.49,-46.61 444.25,-53.82 447.06,-47.41\" stroke=\"black\"/>\n",
       "</g>\n",
       "</g>\n",
       "</svg>"
      ],
      "text/plain": [
       "<IPython.core.display.SVG object>"
      ]
     },
     "execution_count": 41,
     "metadata": {},
     "output_type": "execute_result"
    }
   ],
   "source": [
    "SVG(model_to_dot(model1,  show_shapes=True, show_layer_names=True).create(prog='dot', format='svg'))"
   ]
  },
  {
   "cell_type": "code",
   "execution_count": 42,
   "id": "bf22052f",
   "metadata": {
    "execution": {
     "iopub.execute_input": "2023-01-18T06:22:12.923045Z",
     "iopub.status.busy": "2023-01-18T06:22:12.922588Z",
     "iopub.status.idle": "2023-01-18T06:22:12.932129Z",
     "shell.execute_reply": "2023-01-18T06:22:12.930438Z"
    },
    "id": "ExYn1GqDwCsh",
    "outputId": "448dbcdc-c45f-433f-efe0-24e2063aff9b",
    "papermill": {
     "duration": 0.032856,
     "end_time": "2023-01-18T06:22:12.935549",
     "exception": false,
     "start_time": "2023-01-18T06:22:12.902693",
     "status": "completed"
    },
    "tags": []
   },
   "outputs": [
    {
     "name": "stdout",
     "output_type": "stream",
     "text": [
      "Model: \"model\"\n",
      "__________________________________________________________________________________________________\n",
      "Layer (type)                    Output Shape         Param #     Connected to                     \n",
      "==================================================================================================\n",
      "input_1 (InputLayer)            [(None, 1)]          0                                            \n",
      "__________________________________________________________________________________________________\n",
      "input_2 (InputLayer)            [(None, 1)]          0                                            \n",
      "__________________________________________________________________________________________________\n",
      "embedding (Embedding)           (None, 1, 100)       6151700     input_1[0][0]                    \n",
      "__________________________________________________________________________________________________\n",
      "embedding_1 (Embedding)         (None, 1, 100)       4729900     input_2[0][0]                    \n",
      "__________________________________________________________________________________________________\n",
      "flatten (Flatten)               (None, 100)          0           embedding[0][0]                  \n",
      "__________________________________________________________________________________________________\n",
      "flatten_1 (Flatten)             (None, 100)          0           embedding_1[0][0]                \n",
      "__________________________________________________________________________________________________\n",
      "dot (Dot)                       (None, 1)            0           flatten[0][0]                    \n",
      "                                                                 flatten_1[0][0]                  \n",
      "==================================================================================================\n",
      "Total params: 10,881,600\n",
      "Trainable params: 10,881,600\n",
      "Non-trainable params: 0\n",
      "__________________________________________________________________________________________________\n"
     ]
    }
   ],
   "source": [
    "model1.summary()"
   ]
  },
  {
   "cell_type": "code",
   "execution_count": 43,
   "id": "b58ee067",
   "metadata": {
    "execution": {
     "iopub.execute_input": "2023-01-18T06:22:12.974857Z",
     "iopub.status.busy": "2023-01-18T06:22:12.974457Z",
     "iopub.status.idle": "2023-01-18T06:22:12.981002Z",
     "shell.execute_reply": "2023-01-18T06:22:12.979537Z"
    },
    "id": "x1o9C--NwCsh",
    "papermill": {
     "duration": 0.02835,
     "end_time": "2023-01-18T06:22:12.983406",
     "exception": false,
     "start_time": "2023-01-18T06:22:12.955056",
     "status": "completed"
    },
    "tags": []
   },
   "outputs": [],
   "source": [
    "checkpoint1 = ModelCheckpoint('model1.h5', monitor='val_loss', verbose=0, save_best_only=True)"
   ]
  },
  {
   "cell_type": "code",
   "execution_count": 44,
   "id": "d96ba913",
   "metadata": {
    "execution": {
     "iopub.execute_input": "2023-01-18T06:22:13.023151Z",
     "iopub.status.busy": "2023-01-18T06:22:13.022095Z",
     "iopub.status.idle": "2023-01-18T06:22:13.384889Z",
     "shell.execute_reply": "2023-01-18T06:22:13.383751Z"
    },
    "id": "IdJPOQoSwCsh",
    "papermill": {
     "duration": 0.386414,
     "end_time": "2023-01-18T06:22:13.387873",
     "exception": false,
     "start_time": "2023-01-18T06:22:13.001459",
     "status": "completed"
    },
    "tags": []
   },
   "outputs": [],
   "source": [
    "final_df[\"corr\"] = final_df[[\"title_x\", \"title_y\"]].values.tolist()\n",
    "train_df = pd.DataFrame(final_df[\"corr\"])"
   ]
  },
  {
   "cell_type": "code",
   "execution_count": 45,
   "id": "9b750cac",
   "metadata": {
    "execution": {
     "iopub.execute_input": "2023-01-18T06:22:13.425670Z",
     "iopub.status.busy": "2023-01-18T06:22:13.425228Z",
     "iopub.status.idle": "2023-01-18T06:22:29.096667Z",
     "shell.execute_reply": "2023-01-18T06:22:29.095147Z"
    },
    "id": "LjJm2sKrwCsi",
    "papermill": {
     "duration": 15.693503,
     "end_time": "2023-01-18T06:22:29.099457",
     "exception": false,
     "start_time": "2023-01-18T06:22:13.405954",
     "status": "completed"
    },
    "tags": []
   },
   "outputs": [],
   "source": [
    "!pip -qqq install sentence-transformers"
   ]
  },
  {
   "cell_type": "code",
   "execution_count": 46,
   "id": "19025f5c",
   "metadata": {
    "execution": {
     "iopub.execute_input": "2023-01-18T06:22:29.138582Z",
     "iopub.status.busy": "2023-01-18T06:22:29.137723Z",
     "iopub.status.idle": "2023-01-18T06:22:33.861930Z",
     "shell.execute_reply": "2023-01-18T06:22:33.860322Z"
    },
    "id": "x1NO9QGGwCsi",
    "papermill": {
     "duration": 4.747059,
     "end_time": "2023-01-18T06:22:33.865000",
     "exception": false,
     "start_time": "2023-01-18T06:22:29.117941",
     "status": "completed"
    },
    "tags": []
   },
   "outputs": [],
   "source": [
    "from datasets import Dataset\n",
    "from torch.utils.data import DataLoader\n",
    "from tqdm.notebook import tqdm\n",
    "from sentence_transformers import SentenceTransformer, models, InputExample, losses"
   ]
  },
  {
   "cell_type": "code",
   "execution_count": 47,
   "id": "203cd07d",
   "metadata": {
    "execution": {
     "iopub.execute_input": "2023-01-18T06:22:33.903666Z",
     "iopub.status.busy": "2023-01-18T06:22:33.903244Z",
     "iopub.status.idle": "2023-01-18T06:22:33.988439Z",
     "shell.execute_reply": "2023-01-18T06:22:33.987051Z"
    },
    "id": "3VZG_HlbwCsi",
    "papermill": {
     "duration": 0.108223,
     "end_time": "2023-01-18T06:22:33.991606",
     "exception": false,
     "start_time": "2023-01-18T06:22:33.883383",
     "status": "completed"
    },
    "tags": []
   },
   "outputs": [],
   "source": [
    "df = Dataset.from_pandas(train_df)"
   ]
  },
  {
   "cell_type": "code",
   "execution_count": 48,
   "id": "96de3799",
   "metadata": {
    "execution": {
     "iopub.execute_input": "2023-01-18T06:22:34.030509Z",
     "iopub.status.busy": "2023-01-18T06:22:34.029820Z",
     "iopub.status.idle": "2023-01-18T06:22:34.037193Z",
     "shell.execute_reply": "2023-01-18T06:22:34.036022Z"
    },
    "id": "Vzr_2QiXwCsi",
    "outputId": "fae8ddb2-4898-4c2a-b007-724b3760d5ca",
    "papermill": {
     "duration": 0.030271,
     "end_time": "2023-01-18T06:22:34.040219",
     "exception": false,
     "start_time": "2023-01-18T06:22:34.009948",
     "status": "completed"
    },
    "tags": []
   },
   "outputs": [
    {
     "data": {
      "text/plain": [
       "Dataset({\n",
       "    features: ['corr', '__index_level_0__'],\n",
       "    num_rows: 61517\n",
       "})"
      ]
     },
     "execution_count": 48,
     "metadata": {},
     "output_type": "execute_result"
    }
   ],
   "source": [
    "df"
   ]
  },
  {
   "cell_type": "code",
   "execution_count": 49,
   "id": "3eaee630",
   "metadata": {
    "execution": {
     "iopub.execute_input": "2023-01-18T06:22:34.079601Z",
     "iopub.status.busy": "2023-01-18T06:22:34.078389Z",
     "iopub.status.idle": "2023-01-18T06:22:34.766001Z",
     "shell.execute_reply": "2023-01-18T06:22:34.764620Z"
    },
    "id": "cxmUIFxqwCsj",
    "papermill": {
     "duration": 0.71008,
     "end_time": "2023-01-18T06:22:34.768774",
     "exception": false,
     "start_time": "2023-01-18T06:22:34.058694",
     "status": "completed"
    },
    "tags": []
   },
   "outputs": [],
   "source": [
    "train_set = []\n",
    "train_data = df[\"corr\"]\n",
    "n_set = df.num_rows\n",
    "\n",
    "for i in range(n_set):\n",
    "    trial = train_data[i]\n",
    "    if trial[0] == None:\n",
    "        print(trial)\n",
    "        continue        \n",
    "    train_set.append(InputExample(texts=[str(trial[0]), str(trial[1])]))"
   ]
  },
  {
   "cell_type": "code",
   "execution_count": 50,
   "id": "e752be8a",
   "metadata": {
    "execution": {
     "iopub.execute_input": "2023-01-18T06:22:34.810170Z",
     "iopub.status.busy": "2023-01-18T06:22:34.809693Z",
     "iopub.status.idle": "2023-01-18T06:23:39.412834Z",
     "shell.execute_reply": "2023-01-18T06:23:39.411655Z"
    },
    "id": "ZNpwP6ZNwCsj",
    "outputId": "6f25fd2e-19fa-44cc-d148-6ac1c651b9ab",
    "papermill": {
     "duration": 64.626715,
     "end_time": "2023-01-18T06:23:39.415751",
     "exception": false,
     "start_time": "2023-01-18T06:22:34.789036",
     "status": "completed"
    },
    "tags": []
   },
   "outputs": [
    {
     "data": {
      "application/vnd.jupyter.widget-view+json": {
       "model_id": "db91e59158cb4187953b98a7fa293b35",
       "version_major": 2,
       "version_minor": 0
      },
      "text/plain": [
       "Downloading:   0%|          | 0.00/690 [00:00<?, ?B/s]"
      ]
     },
     "metadata": {},
     "output_type": "display_data"
    },
    {
     "data": {
      "application/vnd.jupyter.widget-view+json": {
       "model_id": "94d53c1c5c91417f906467a4e47b955e",
       "version_major": 2,
       "version_minor": 0
      },
      "text/plain": [
       "Downloading:   0%|          | 0.00/190 [00:00<?, ?B/s]"
      ]
     },
     "metadata": {},
     "output_type": "display_data"
    },
    {
     "data": {
      "application/vnd.jupyter.widget-view+json": {
       "model_id": "d7b8961e78214b0fb1c77817fc0fcb37",
       "version_major": 2,
       "version_minor": 0
      },
      "text/plain": [
       "Downloading:   0%|          | 0.00/3.77k [00:00<?, ?B/s]"
      ]
     },
     "metadata": {},
     "output_type": "display_data"
    },
    {
     "data": {
      "application/vnd.jupyter.widget-view+json": {
       "model_id": "ac7250acb1e24f0395d38b756b787768",
       "version_major": 2,
       "version_minor": 0
      },
      "text/plain": [
       "Downloading:   0%|          | 0.00/723 [00:00<?, ?B/s]"
      ]
     },
     "metadata": {},
     "output_type": "display_data"
    },
    {
     "data": {
      "application/vnd.jupyter.widget-view+json": {
       "model_id": "968aded1e2864e7ab6948c46caf9c67e",
       "version_major": 2,
       "version_minor": 0
      },
      "text/plain": [
       "Downloading:   0%|          | 0.00/122 [00:00<?, ?B/s]"
      ]
     },
     "metadata": {},
     "output_type": "display_data"
    },
    {
     "data": {
      "application/vnd.jupyter.widget-view+json": {
       "model_id": "636a88c73c284748b0d9d7cff8ea33bb",
       "version_major": 2,
       "version_minor": 0
      },
      "text/plain": [
       "Downloading:   0%|          | 0.00/1.11G [00:00<?, ?B/s]"
      ]
     },
     "metadata": {},
     "output_type": "display_data"
    },
    {
     "data": {
      "application/vnd.jupyter.widget-view+json": {
       "model_id": "00b9c0b2235a49ff92c3a090cc0e418e",
       "version_major": 2,
       "version_minor": 0
      },
      "text/plain": [
       "Downloading:   0%|          | 0.00/53.0 [00:00<?, ?B/s]"
      ]
     },
     "metadata": {},
     "output_type": "display_data"
    },
    {
     "data": {
      "application/vnd.jupyter.widget-view+json": {
       "model_id": "0d844bbb4faf47c3ba75bc6025f6ba1c",
       "version_major": 2,
       "version_minor": 0
      },
      "text/plain": [
       "Downloading:   0%|          | 0.00/5.07M [00:00<?, ?B/s]"
      ]
     },
     "metadata": {},
     "output_type": "display_data"
    },
    {
     "data": {
      "application/vnd.jupyter.widget-view+json": {
       "model_id": "80124f0a135044fcb46cca44013474ca",
       "version_major": 2,
       "version_minor": 0
      },
      "text/plain": [
       "Downloading:   0%|          | 0.00/239 [00:00<?, ?B/s]"
      ]
     },
     "metadata": {},
     "output_type": "display_data"
    },
    {
     "data": {
      "application/vnd.jupyter.widget-view+json": {
       "model_id": "f2c3fcd661aa488bbc197be232d855ed",
       "version_major": 2,
       "version_minor": 0
      },
      "text/plain": [
       "Downloading:   0%|          | 0.00/9.08M [00:00<?, ?B/s]"
      ]
     },
     "metadata": {},
     "output_type": "display_data"
    },
    {
     "data": {
      "application/vnd.jupyter.widget-view+json": {
       "model_id": "6bf5196a4a3a450c9188357d16d1e6d2",
       "version_major": 2,
       "version_minor": 0
      },
      "text/plain": [
       "Downloading:   0%|          | 0.00/402 [00:00<?, ?B/s]"
      ]
     },
     "metadata": {},
     "output_type": "display_data"
    },
    {
     "data": {
      "application/vnd.jupyter.widget-view+json": {
       "model_id": "c9e230a1762e49fbb8188bec7f3afd88",
       "version_major": 2,
       "version_minor": 0
      },
      "text/plain": [
       "Downloading:   0%|          | 0.00/229 [00:00<?, ?B/s]"
      ]
     },
     "metadata": {},
     "output_type": "display_data"
    }
   ],
   "source": [
    "model2 = SentenceTransformer(\"sentence-transformers/paraphrase-multilingual-mpnet-base-v2\")"
   ]
  },
  {
   "cell_type": "code",
   "execution_count": 51,
   "id": "df8797b8",
   "metadata": {
    "execution": {
     "iopub.execute_input": "2023-01-18T06:23:39.457123Z",
     "iopub.status.busy": "2023-01-18T06:23:39.456687Z",
     "iopub.status.idle": "2023-01-18T06:23:39.462831Z",
     "shell.execute_reply": "2023-01-18T06:23:39.461696Z"
    },
    "papermill": {
     "duration": 0.029399,
     "end_time": "2023-01-18T06:23:39.465216",
     "exception": false,
     "start_time": "2023-01-18T06:23:39.435817",
     "status": "completed"
    },
    "tags": []
   },
   "outputs": [],
   "source": [
    "train_dl = DataLoader(train_set, shuffle=True, batch_size=64)\n",
    "train_loss = losses.MultipleNegativesRankingLoss(model=model2)\n",
    "\n",
    "num_epochs = 1\n",
    "warmup_steps = int(len(train_dl) * num_epochs * 0.1)"
   ]
  },
  {
   "cell_type": "code",
   "execution_count": 52,
   "id": "43e48789",
   "metadata": {
    "execution": {
     "iopub.execute_input": "2023-01-18T06:23:39.506913Z",
     "iopub.status.busy": "2023-01-18T06:23:39.506529Z",
     "iopub.status.idle": "2023-01-18T11:05:38.883713Z",
     "shell.execute_reply": "2023-01-18T11:05:38.879577Z"
    },
    "id": "4lrbyiPSwCsk",
    "papermill": {
     "duration": 16919.401647,
     "end_time": "2023-01-18T11:05:38.887409",
     "exception": false,
     "start_time": "2023-01-18T06:23:39.485762",
     "status": "completed"
    },
    "tags": []
   },
   "outputs": [
    {
     "data": {
      "application/vnd.jupyter.widget-view+json": {
       "model_id": "0f496e02365640a2ac95fa443d793c0b",
       "version_major": 2,
       "version_minor": 0
      },
      "text/plain": [
       "Epoch:   0%|          | 0/1 [00:00<?, ?it/s]"
      ]
     },
     "metadata": {},
     "output_type": "display_data"
    },
    {
     "data": {
      "application/vnd.jupyter.widget-view+json": {
       "model_id": "2bc216bd5350461e9f1294d02d236806",
       "version_major": 2,
       "version_minor": 0
      },
      "text/plain": [
       "Iteration:   0%|          | 0/962 [00:00<?, ?it/s]"
      ]
     },
     "metadata": {},
     "output_type": "display_data"
    }
   ],
   "source": [
    "model2.fit(train_objectives=[(train_dl, train_loss)],\n",
    "          epochs=num_epochs,\n",
    "          warmup_steps=warmup_steps)\\"
   ]
  },
  {
   "cell_type": "code",
   "execution_count": null,
   "id": "684e9d55",
   "metadata": {
    "id": "GUfiXWIvwCsk",
    "papermill": {
     "duration": 0.02027,
     "end_time": "2023-01-18T11:05:38.931155",
     "exception": false,
     "start_time": "2023-01-18T11:05:38.910885",
     "status": "completed"
    },
    "tags": []
   },
   "outputs": [],
   "source": []
  }
 ],
 "metadata": {
  "kernelspec": {
   "display_name": "Python 3",
   "language": "python",
   "name": "python3"
  },
  "language_info": {
   "codemirror_mode": {
    "name": "ipython",
    "version": 3
   },
   "file_extension": ".py",
   "mimetype": "text/x-python",
   "name": "python",
   "nbconvert_exporter": "python",
   "pygments_lexer": "ipython3",
   "version": "3.7.12"
  },
  "papermill": {
   "default_parameters": {},
   "duration": 17056.353667,
   "end_time": "2023-01-18T11:05:42.826188",
   "environment_variables": {},
   "exception": null,
   "input_path": "__notebook__.ipynb",
   "output_path": "__notebook__.ipynb",
   "parameters": {},
   "start_time": "2023-01-18T06:21:26.472521",
   "version": "2.3.4"
  },
  "widgets": {
   "application/vnd.jupyter.widget-state+json": {
    "state": {
     "00b9c0b2235a49ff92c3a090cc0e418e": {
      "model_module": "@jupyter-widgets/controls",
      "model_module_version": "1.5.0",
      "model_name": "HBoxModel",
      "state": {
       "_dom_classes": [],
       "_model_module": "@jupyter-widgets/controls",
       "_model_module_version": "1.5.0",
       "_model_name": "HBoxModel",
       "_view_count": null,
       "_view_module": "@jupyter-widgets/controls",
       "_view_module_version": "1.5.0",
       "_view_name": "HBoxView",
       "box_style": "",
       "children": [
        "IPY_MODEL_4802b48082124d29bae4d0b1b6848f2f",
        "IPY_MODEL_d21a5d5988e14fd6aa777263b5c6d443",
        "IPY_MODEL_edf39ce902b1434f9c3b5d927cd97d80"
       ],
       "layout": "IPY_MODEL_026e83ef47294f8396fad0d8c28a674e"
      }
     },
     "026e83ef47294f8396fad0d8c28a674e": {
      "model_module": "@jupyter-widgets/base",
      "model_module_version": "1.2.0",
      "model_name": "LayoutModel",
      "state": {
       "_model_module": "@jupyter-widgets/base",
       "_model_module_version": "1.2.0",
       "_model_name": "LayoutModel",
       "_view_count": null,
       "_view_module": "@jupyter-widgets/base",
       "_view_module_version": "1.2.0",
       "_view_name": "LayoutView",
       "align_content": null,
       "align_items": null,
       "align_self": null,
       "border": null,
       "bottom": null,
       "display": null,
       "flex": null,
       "flex_flow": null,
       "grid_area": null,
       "grid_auto_columns": null,
       "grid_auto_flow": null,
       "grid_auto_rows": null,
       "grid_column": null,
       "grid_gap": null,
       "grid_row": null,
       "grid_template_areas": null,
       "grid_template_columns": null,
       "grid_template_rows": null,
       "height": null,
       "justify_content": null,
       "justify_items": null,
       "left": null,
       "margin": null,
       "max_height": null,
       "max_width": null,
       "min_height": null,
       "min_width": null,
       "object_fit": null,
       "object_position": null,
       "order": null,
       "overflow": null,
       "overflow_x": null,
       "overflow_y": null,
       "padding": null,
       "right": null,
       "top": null,
       "visibility": null,
       "width": null
      }
     },
     "07e1eb50cf864d41890b57c988f0d616": {
      "model_module": "@jupyter-widgets/controls",
      "model_module_version": "1.5.0",
      "model_name": "HTMLModel",
      "state": {
       "_dom_classes": [],
       "_model_module": "@jupyter-widgets/controls",
       "_model_module_version": "1.5.0",
       "_model_name": "HTMLModel",
       "_view_count": null,
       "_view_module": "@jupyter-widgets/controls",
       "_view_module_version": "1.5.0",
       "_view_name": "HTMLView",
       "description": "",
       "description_tooltip": null,
       "layout": "IPY_MODEL_6332a466ee3d4101a387514e2200da1c",
       "placeholder": "​",
       "style": "IPY_MODEL_ac64c290bfe64e3a8e92fad6255c0d4d",
       "value": " 190/190 [00:00&lt;00:00, 6.24kB/s]"
      }
     },
     "091c9b277832445b845ba8aeb7b159ae": {
      "model_module": "@jupyter-widgets/controls",
      "model_module_version": "1.5.0",
      "model_name": "HTMLModel",
      "state": {
       "_dom_classes": [],
       "_model_module": "@jupyter-widgets/controls",
       "_model_module_version": "1.5.0",
       "_model_name": "HTMLModel",
       "_view_count": null,
       "_view_module": "@jupyter-widgets/controls",
       "_view_module_version": "1.5.0",
       "_view_name": "HTMLView",
       "description": "",
       "description_tooltip": null,
       "layout": "IPY_MODEL_b6de785634e648d1b2d7b96a7c6881a5",
       "placeholder": "​",
       "style": "IPY_MODEL_32d4564cf8ab4530be7e6771e34c5553",
       "value": "Downloading: 100%"
      }
     },
     "094b7527a903401c96970e975b85d3b9": {
      "model_module": "@jupyter-widgets/base",
      "model_module_version": "1.2.0",
      "model_name": "LayoutModel",
      "state": {
       "_model_module": "@jupyter-widgets/base",
       "_model_module_version": "1.2.0",
       "_model_name": "LayoutModel",
       "_view_count": null,
       "_view_module": "@jupyter-widgets/base",
       "_view_module_version": "1.2.0",
       "_view_name": "LayoutView",
       "align_content": null,
       "align_items": null,
       "align_self": null,
       "border": null,
       "bottom": null,
       "display": null,
       "flex": null,
       "flex_flow": null,
       "grid_area": null,
       "grid_auto_columns": null,
       "grid_auto_flow": null,
       "grid_auto_rows": null,
       "grid_column": null,
       "grid_gap": null,
       "grid_row": null,
       "grid_template_areas": null,
       "grid_template_columns": null,
       "grid_template_rows": null,
       "height": null,
       "justify_content": null,
       "justify_items": null,
       "left": null,
       "margin": null,
       "max_height": null,
       "max_width": null,
       "min_height": null,
       "min_width": null,
       "object_fit": null,
       "object_position": null,
       "order": null,
       "overflow": null,
       "overflow_x": null,
       "overflow_y": null,
       "padding": null,
       "right": null,
       "top": null,
       "visibility": null,
       "width": null
      }
     },
     "0b280e4de7d84ff7bc35240a31076f5c": {
      "model_module": "@jupyter-widgets/controls",
      "model_module_version": "1.5.0",
      "model_name": "HTMLModel",
      "state": {
       "_dom_classes": [],
       "_model_module": "@jupyter-widgets/controls",
       "_model_module_version": "1.5.0",
       "_model_name": "HTMLModel",
       "_view_count": null,
       "_view_module": "@jupyter-widgets/controls",
       "_view_module_version": "1.5.0",
       "_view_name": "HTMLView",
       "description": "",
       "description_tooltip": null,
       "layout": "IPY_MODEL_4aacb9221902460e9a6e0c881b344f2b",
       "placeholder": "​",
       "style": "IPY_MODEL_d750d273ff2f4e5a9f38327ff774ad5c",
       "value": " 3.77k/3.77k [00:00&lt;00:00, 121kB/s]"
      }
     },
     "0b390d8985d84895be919582c0c72fce": {
      "model_module": "@jupyter-widgets/controls",
      "model_module_version": "1.5.0",
      "model_name": "DescriptionStyleModel",
      "state": {
       "_model_module": "@jupyter-widgets/controls",
       "_model_module_version": "1.5.0",
       "_model_name": "DescriptionStyleModel",
       "_view_count": null,
       "_view_module": "@jupyter-widgets/base",
       "_view_module_version": "1.2.0",
       "_view_name": "StyleView",
       "description_width": ""
      }
     },
     "0d844bbb4faf47c3ba75bc6025f6ba1c": {
      "model_module": "@jupyter-widgets/controls",
      "model_module_version": "1.5.0",
      "model_name": "HBoxModel",
      "state": {
       "_dom_classes": [],
       "_model_module": "@jupyter-widgets/controls",
       "_model_module_version": "1.5.0",
       "_model_name": "HBoxModel",
       "_view_count": null,
       "_view_module": "@jupyter-widgets/controls",
       "_view_module_version": "1.5.0",
       "_view_name": "HBoxView",
       "box_style": "",
       "children": [
        "IPY_MODEL_aa7a9ddeb4b448e3a228d00252acbeab",
        "IPY_MODEL_2f9589f334b04052a5316baa75b6028d",
        "IPY_MODEL_166fc74cd8f544418e94c7f8ab9b0514"
       ],
       "layout": "IPY_MODEL_58023c7cbf6c43728b9adca92ec6c712"
      }
     },
     "0f496e02365640a2ac95fa443d793c0b": {
      "model_module": "@jupyter-widgets/controls",
      "model_module_version": "1.5.0",
      "model_name": "HBoxModel",
      "state": {
       "_dom_classes": [],
       "_model_module": "@jupyter-widgets/controls",
       "_model_module_version": "1.5.0",
       "_model_name": "HBoxModel",
       "_view_count": null,
       "_view_module": "@jupyter-widgets/controls",
       "_view_module_version": "1.5.0",
       "_view_name": "HBoxView",
       "box_style": "",
       "children": [
        "IPY_MODEL_e564f80a0e0d428786e054a2add67a4a",
        "IPY_MODEL_bb3fff6e589f4a90a553cf3355bc4cf8",
        "IPY_MODEL_a196a8bceac5491fb3e04b6dc8189636"
       ],
       "layout": "IPY_MODEL_b23fb15137214902bb41ec025fb113c8"
      }
     },
     "0fec97fa18ba4c67b78323ecfb5e309f": {
      "model_module": "@jupyter-widgets/controls",
      "model_module_version": "1.5.0",
      "model_name": "FloatProgressModel",
      "state": {
       "_dom_classes": [],
       "_model_module": "@jupyter-widgets/controls",
       "_model_module_version": "1.5.0",
       "_model_name": "FloatProgressModel",
       "_view_count": null,
       "_view_module": "@jupyter-widgets/controls",
       "_view_module_version": "1.5.0",
       "_view_name": "ProgressView",
       "bar_style": "success",
       "description": "",
       "description_tooltip": null,
       "layout": "IPY_MODEL_c59f11eee86d4d5b8dbc75a3ef4db873",
       "max": 402.0,
       "min": 0.0,
       "orientation": "horizontal",
       "style": "IPY_MODEL_b2d4aee8a9f442dfac68ea2a26efb640",
       "value": 402.0
      }
     },
     "102efd3613114648aff9661da14c42b2": {
      "model_module": "@jupyter-widgets/controls",
      "model_module_version": "1.5.0",
      "model_name": "ProgressStyleModel",
      "state": {
       "_model_module": "@jupyter-widgets/controls",
       "_model_module_version": "1.5.0",
       "_model_name": "ProgressStyleModel",
       "_view_count": null,
       "_view_module": "@jupyter-widgets/base",
       "_view_module_version": "1.2.0",
       "_view_name": "StyleView",
       "bar_color": null,
       "description_width": ""
      }
     },
     "130fb8de066a4097ab1d979b2d86a2f5": {
      "model_module": "@jupyter-widgets/controls",
      "model_module_version": "1.5.0",
      "model_name": "DescriptionStyleModel",
      "state": {
       "_model_module": "@jupyter-widgets/controls",
       "_model_module_version": "1.5.0",
       "_model_name": "DescriptionStyleModel",
       "_view_count": null,
       "_view_module": "@jupyter-widgets/base",
       "_view_module_version": "1.2.0",
       "_view_name": "StyleView",
       "description_width": ""
      }
     },
     "159c9cfbf59f40ac92de0b8b6d825df4": {
      "model_module": "@jupyter-widgets/controls",
      "model_module_version": "1.5.0",
      "model_name": "HTMLModel",
      "state": {
       "_dom_classes": [],
       "_model_module": "@jupyter-widgets/controls",
       "_model_module_version": "1.5.0",
       "_model_name": "HTMLModel",
       "_view_count": null,
       "_view_module": "@jupyter-widgets/controls",
       "_view_module_version": "1.5.0",
       "_view_name": "HTMLView",
       "description": "",
       "description_tooltip": null,
       "layout": "IPY_MODEL_912eed26c62746e18bc4f777e62f0de2",
       "placeholder": "​",
       "style": "IPY_MODEL_7993442bf671428ba1c4736a862d4427",
       "value": " 690/690 [00:00&lt;00:00, 20.8kB/s]"
      }
     },
     "166abacb18d743348c9631b0ad86bb7c": {
      "model_module": "@jupyter-widgets/controls",
      "model_module_version": "1.5.0",
      "model_name": "HTMLModel",
      "state": {
       "_dom_classes": [],
       "_model_module": "@jupyter-widgets/controls",
       "_model_module_version": "1.5.0",
       "_model_name": "HTMLModel",
       "_view_count": null,
       "_view_module": "@jupyter-widgets/controls",
       "_view_module_version": "1.5.0",
       "_view_name": "HTMLView",
       "description": "",
       "description_tooltip": null,
       "layout": "IPY_MODEL_77bf5a03f55c4cf48b4f33010024934e",
       "placeholder": "​",
       "style": "IPY_MODEL_da087be2024843ffbf6e568628ee7dc5",
       "value": "Iteration: 100%"
      }
     },
     "166fc74cd8f544418e94c7f8ab9b0514": {
      "model_module": "@jupyter-widgets/controls",
      "model_module_version": "1.5.0",
      "model_name": "HTMLModel",
      "state": {
       "_dom_classes": [],
       "_model_module": "@jupyter-widgets/controls",
       "_model_module_version": "1.5.0",
       "_model_name": "HTMLModel",
       "_view_count": null,
       "_view_module": "@jupyter-widgets/controls",
       "_view_module_version": "1.5.0",
       "_view_name": "HTMLView",
       "description": "",
       "description_tooltip": null,
       "layout": "IPY_MODEL_b3849c42e70b410180340d6e56f88d1a",
       "placeholder": "​",
       "style": "IPY_MODEL_d7b05371e7144158ab32a498b0c4e147",
       "value": " 5.07M/5.07M [00:00&lt;00:00, 10.6MB/s]"
      }
     },
     "19a59584c2fe41e0982fcf388ac142dd": {
      "model_module": "@jupyter-widgets/base",
      "model_module_version": "1.2.0",
      "model_name": "LayoutModel",
      "state": {
       "_model_module": "@jupyter-widgets/base",
       "_model_module_version": "1.2.0",
       "_model_name": "LayoutModel",
       "_view_count": null,
       "_view_module": "@jupyter-widgets/base",
       "_view_module_version": "1.2.0",
       "_view_name": "LayoutView",
       "align_content": null,
       "align_items": null,
       "align_self": null,
       "border": null,
       "bottom": null,
       "display": null,
       "flex": null,
       "flex_flow": null,
       "grid_area": null,
       "grid_auto_columns": null,
       "grid_auto_flow": null,
       "grid_auto_rows": null,
       "grid_column": null,
       "grid_gap": null,
       "grid_row": null,
       "grid_template_areas": null,
       "grid_template_columns": null,
       "grid_template_rows": null,
       "height": null,
       "justify_content": null,
       "justify_items": null,
       "left": null,
       "margin": null,
       "max_height": null,
       "max_width": null,
       "min_height": null,
       "min_width": null,
       "object_fit": null,
       "object_position": null,
       "order": null,
       "overflow": null,
       "overflow_x": null,
       "overflow_y": null,
       "padding": null,
       "right": null,
       "top": null,
       "visibility": null,
       "width": null
      }
     },
     "19c218fae38d4dea907273506389cb9d": {
      "model_module": "@jupyter-widgets/controls",
      "model_module_version": "1.5.0",
      "model_name": "FloatProgressModel",
      "state": {
       "_dom_classes": [],
       "_model_module": "@jupyter-widgets/controls",
       "_model_module_version": "1.5.0",
       "_model_name": "FloatProgressModel",
       "_view_count": null,
       "_view_module": "@jupyter-widgets/controls",
       "_view_module_version": "1.5.0",
       "_view_name": "ProgressView",
       "bar_style": "success",
       "description": "",
       "description_tooltip": null,
       "layout": "IPY_MODEL_b9a3fe40da4940bca153e05ebdea7d53",
       "max": 239.0,
       "min": 0.0,
       "orientation": "horizontal",
       "style": "IPY_MODEL_85f6db261a9f423293468cc6a26e3c5d",
       "value": 239.0
      }
     },
     "1d47101002fc49eebf87463d53f0726c": {
      "model_module": "@jupyter-widgets/base",
      "model_module_version": "1.2.0",
      "model_name": "LayoutModel",
      "state": {
       "_model_module": "@jupyter-widgets/base",
       "_model_module_version": "1.2.0",
       "_model_name": "LayoutModel",
       "_view_count": null,
       "_view_module": "@jupyter-widgets/base",
       "_view_module_version": "1.2.0",
       "_view_name": "LayoutView",
       "align_content": null,
       "align_items": null,
       "align_self": null,
       "border": null,
       "bottom": null,
       "display": null,
       "flex": null,
       "flex_flow": null,
       "grid_area": null,
       "grid_auto_columns": null,
       "grid_auto_flow": null,
       "grid_auto_rows": null,
       "grid_column": null,
       "grid_gap": null,
       "grid_row": null,
       "grid_template_areas": null,
       "grid_template_columns": null,
       "grid_template_rows": null,
       "height": null,
       "justify_content": null,
       "justify_items": null,
       "left": null,
       "margin": null,
       "max_height": null,
       "max_width": null,
       "min_height": null,
       "min_width": null,
       "object_fit": null,
       "object_position": null,
       "order": null,
       "overflow": null,
       "overflow_x": null,
       "overflow_y": null,
       "padding": null,
       "right": null,
       "top": null,
       "visibility": null,
       "width": null
      }
     },
     "26ccb82a62ea4d65b358fccb271e1d13": {
      "model_module": "@jupyter-widgets/base",
      "model_module_version": "1.2.0",
      "model_name": "LayoutModel",
      "state": {
       "_model_module": "@jupyter-widgets/base",
       "_model_module_version": "1.2.0",
       "_model_name": "LayoutModel",
       "_view_count": null,
       "_view_module": "@jupyter-widgets/base",
       "_view_module_version": "1.2.0",
       "_view_name": "LayoutView",
       "align_content": null,
       "align_items": null,
       "align_self": null,
       "border": null,
       "bottom": null,
       "display": null,
       "flex": null,
       "flex_flow": null,
       "grid_area": null,
       "grid_auto_columns": null,
       "grid_auto_flow": null,
       "grid_auto_rows": null,
       "grid_column": null,
       "grid_gap": null,
       "grid_row": null,
       "grid_template_areas": null,
       "grid_template_columns": null,
       "grid_template_rows": null,
       "height": null,
       "justify_content": null,
       "justify_items": null,
       "left": null,
       "margin": null,
       "max_height": null,
       "max_width": null,
       "min_height": null,
       "min_width": null,
       "object_fit": null,
       "object_position": null,
       "order": null,
       "overflow": null,
       "overflow_x": null,
       "overflow_y": null,
       "padding": null,
       "right": null,
       "top": null,
       "visibility": null,
       "width": null
      }
     },
     "281e811f1cf840788167959cb5f0dc50": {
      "model_module": "@jupyter-widgets/base",
      "model_module_version": "1.2.0",
      "model_name": "LayoutModel",
      "state": {
       "_model_module": "@jupyter-widgets/base",
       "_model_module_version": "1.2.0",
       "_model_name": "LayoutModel",
       "_view_count": null,
       "_view_module": "@jupyter-widgets/base",
       "_view_module_version": "1.2.0",
       "_view_name": "LayoutView",
       "align_content": null,
       "align_items": null,
       "align_self": null,
       "border": null,
       "bottom": null,
       "display": null,
       "flex": null,
       "flex_flow": null,
       "grid_area": null,
       "grid_auto_columns": null,
       "grid_auto_flow": null,
       "grid_auto_rows": null,
       "grid_column": null,
       "grid_gap": null,
       "grid_row": null,
       "grid_template_areas": null,
       "grid_template_columns": null,
       "grid_template_rows": null,
       "height": null,
       "justify_content": null,
       "justify_items": null,
       "left": null,
       "margin": null,
       "max_height": null,
       "max_width": null,
       "min_height": null,
       "min_width": null,
       "object_fit": null,
       "object_position": null,
       "order": null,
       "overflow": null,
       "overflow_x": null,
       "overflow_y": null,
       "padding": null,
       "right": null,
       "top": null,
       "visibility": null,
       "width": null
      }
     },
     "28a4fd443248482ea3794682ae1423f5": {
      "model_module": "@jupyter-widgets/controls",
      "model_module_version": "1.5.0",
      "model_name": "FloatProgressModel",
      "state": {
       "_dom_classes": [],
       "_model_module": "@jupyter-widgets/controls",
       "_model_module_version": "1.5.0",
       "_model_name": "FloatProgressModel",
       "_view_count": null,
       "_view_module": "@jupyter-widgets/controls",
       "_view_module_version": "1.5.0",
       "_view_name": "ProgressView",
       "bar_style": "success",
       "description": "",
       "description_tooltip": null,
       "layout": "IPY_MODEL_70311caa2d0d4ce5bac253dfc2bca3ac",
       "max": 1112253233.0,
       "min": 0.0,
       "orientation": "horizontal",
       "style": "IPY_MODEL_74f289839c294ff6b3e91d09457d3eca",
       "value": 1112253233.0
      }
     },
     "29d3dc7e68f54605b3f3e7d8b92cf35a": {
      "model_module": "@jupyter-widgets/controls",
      "model_module_version": "1.5.0",
      "model_name": "DescriptionStyleModel",
      "state": {
       "_model_module": "@jupyter-widgets/controls",
       "_model_module_version": "1.5.0",
       "_model_name": "DescriptionStyleModel",
       "_view_count": null,
       "_view_module": "@jupyter-widgets/base",
       "_view_module_version": "1.2.0",
       "_view_name": "StyleView",
       "description_width": ""
      }
     },
     "2bc216bd5350461e9f1294d02d236806": {
      "model_module": "@jupyter-widgets/controls",
      "model_module_version": "1.5.0",
      "model_name": "HBoxModel",
      "state": {
       "_dom_classes": [],
       "_model_module": "@jupyter-widgets/controls",
       "_model_module_version": "1.5.0",
       "_model_name": "HBoxModel",
       "_view_count": null,
       "_view_module": "@jupyter-widgets/controls",
       "_view_module_version": "1.5.0",
       "_view_name": "HBoxView",
       "box_style": "",
       "children": [
        "IPY_MODEL_166abacb18d743348c9631b0ad86bb7c",
        "IPY_MODEL_a8ee92b0df44479e8694637b33d15758",
        "IPY_MODEL_cfefaf381f3e497c902d21fd9c0f6f8f"
       ],
       "layout": "IPY_MODEL_b0046ee1e5da43ee91ad0ef240e0e409"
      }
     },
     "2f499e2b13504654bb72dac863ce7e36": {
      "model_module": "@jupyter-widgets/base",
      "model_module_version": "1.2.0",
      "model_name": "LayoutModel",
      "state": {
       "_model_module": "@jupyter-widgets/base",
       "_model_module_version": "1.2.0",
       "_model_name": "LayoutModel",
       "_view_count": null,
       "_view_module": "@jupyter-widgets/base",
       "_view_module_version": "1.2.0",
       "_view_name": "LayoutView",
       "align_content": null,
       "align_items": null,
       "align_self": null,
       "border": null,
       "bottom": null,
       "display": null,
       "flex": null,
       "flex_flow": null,
       "grid_area": null,
       "grid_auto_columns": null,
       "grid_auto_flow": null,
       "grid_auto_rows": null,
       "grid_column": null,
       "grid_gap": null,
       "grid_row": null,
       "grid_template_areas": null,
       "grid_template_columns": null,
       "grid_template_rows": null,
       "height": null,
       "justify_content": null,
       "justify_items": null,
       "left": null,
       "margin": null,
       "max_height": null,
       "max_width": null,
       "min_height": null,
       "min_width": null,
       "object_fit": null,
       "object_position": null,
       "order": null,
       "overflow": null,
       "overflow_x": null,
       "overflow_y": null,
       "padding": null,
       "right": null,
       "top": null,
       "visibility": null,
       "width": null
      }
     },
     "2f9589f334b04052a5316baa75b6028d": {
      "model_module": "@jupyter-widgets/controls",
      "model_module_version": "1.5.0",
      "model_name": "FloatProgressModel",
      "state": {
       "_dom_classes": [],
       "_model_module": "@jupyter-widgets/controls",
       "_model_module_version": "1.5.0",
       "_model_name": "FloatProgressModel",
       "_view_count": null,
       "_view_module": "@jupyter-widgets/controls",
       "_view_module_version": "1.5.0",
       "_view_name": "ProgressView",
       "bar_style": "success",
       "description": "",
       "description_tooltip": null,
       "layout": "IPY_MODEL_34cd227196f34cdbb40cfa7f35036fe3",
       "max": 5069051.0,
       "min": 0.0,
       "orientation": "horizontal",
       "style": "IPY_MODEL_e1e9e177509f4bc789fc248ab97fdd6c",
       "value": 5069051.0
      }
     },
     "32d4564cf8ab4530be7e6771e34c5553": {
      "model_module": "@jupyter-widgets/controls",
      "model_module_version": "1.5.0",
      "model_name": "DescriptionStyleModel",
      "state": {
       "_model_module": "@jupyter-widgets/controls",
       "_model_module_version": "1.5.0",
       "_model_name": "DescriptionStyleModel",
       "_view_count": null,
       "_view_module": "@jupyter-widgets/base",
       "_view_module_version": "1.2.0",
       "_view_name": "StyleView",
       "description_width": ""
      }
     },
     "3466ac2d0ac54b92a98d8147585836e9": {
      "model_module": "@jupyter-widgets/controls",
      "model_module_version": "1.5.0",
      "model_name": "HTMLModel",
      "state": {
       "_dom_classes": [],
       "_model_module": "@jupyter-widgets/controls",
       "_model_module_version": "1.5.0",
       "_model_name": "HTMLModel",
       "_view_count": null,
       "_view_module": "@jupyter-widgets/controls",
       "_view_module_version": "1.5.0",
       "_view_name": "HTMLView",
       "description": "",
       "description_tooltip": null,
       "layout": "IPY_MODEL_b73132c73fec46f7829835fb84b17f5c",
       "placeholder": "​",
       "style": "IPY_MODEL_af4e2d72ea0742a09619ad5d87ee96f0",
       "value": "Downloading: 100%"
      }
     },
     "34cd227196f34cdbb40cfa7f35036fe3": {
      "model_module": "@jupyter-widgets/base",
      "model_module_version": "1.2.0",
      "model_name": "LayoutModel",
      "state": {
       "_model_module": "@jupyter-widgets/base",
       "_model_module_version": "1.2.0",
       "_model_name": "LayoutModel",
       "_view_count": null,
       "_view_module": "@jupyter-widgets/base",
       "_view_module_version": "1.2.0",
       "_view_name": "LayoutView",
       "align_content": null,
       "align_items": null,
       "align_self": null,
       "border": null,
       "bottom": null,
       "display": null,
       "flex": null,
       "flex_flow": null,
       "grid_area": null,
       "grid_auto_columns": null,
       "grid_auto_flow": null,
       "grid_auto_rows": null,
       "grid_column": null,
       "grid_gap": null,
       "grid_row": null,
       "grid_template_areas": null,
       "grid_template_columns": null,
       "grid_template_rows": null,
       "height": null,
       "justify_content": null,
       "justify_items": null,
       "left": null,
       "margin": null,
       "max_height": null,
       "max_width": null,
       "min_height": null,
       "min_width": null,
       "object_fit": null,
       "object_position": null,
       "order": null,
       "overflow": null,
       "overflow_x": null,
       "overflow_y": null,
       "padding": null,
       "right": null,
       "top": null,
       "visibility": null,
       "width": null
      }
     },
     "351b85854ce046f496ba22b9a67eb727": {
      "model_module": "@jupyter-widgets/controls",
      "model_module_version": "1.5.0",
      "model_name": "DescriptionStyleModel",
      "state": {
       "_model_module": "@jupyter-widgets/controls",
       "_model_module_version": "1.5.0",
       "_model_name": "DescriptionStyleModel",
       "_view_count": null,
       "_view_module": "@jupyter-widgets/base",
       "_view_module_version": "1.2.0",
       "_view_name": "StyleView",
       "description_width": ""
      }
     },
     "3546f1d8a3bc49b9a32bb4995f8459cf": {
      "model_module": "@jupyter-widgets/controls",
      "model_module_version": "1.5.0",
      "model_name": "ProgressStyleModel",
      "state": {
       "_model_module": "@jupyter-widgets/controls",
       "_model_module_version": "1.5.0",
       "_model_name": "ProgressStyleModel",
       "_view_count": null,
       "_view_module": "@jupyter-widgets/base",
       "_view_module_version": "1.2.0",
       "_view_name": "StyleView",
       "bar_color": null,
       "description_width": ""
      }
     },
     "357d4f2997f541029d8382438954334e": {
      "model_module": "@jupyter-widgets/base",
      "model_module_version": "1.2.0",
      "model_name": "LayoutModel",
      "state": {
       "_model_module": "@jupyter-widgets/base",
       "_model_module_version": "1.2.0",
       "_model_name": "LayoutModel",
       "_view_count": null,
       "_view_module": "@jupyter-widgets/base",
       "_view_module_version": "1.2.0",
       "_view_name": "LayoutView",
       "align_content": null,
       "align_items": null,
       "align_self": null,
       "border": null,
       "bottom": null,
       "display": null,
       "flex": null,
       "flex_flow": null,
       "grid_area": null,
       "grid_auto_columns": null,
       "grid_auto_flow": null,
       "grid_auto_rows": null,
       "grid_column": null,
       "grid_gap": null,
       "grid_row": null,
       "grid_template_areas": null,
       "grid_template_columns": null,
       "grid_template_rows": null,
       "height": null,
       "justify_content": null,
       "justify_items": null,
       "left": null,
       "margin": null,
       "max_height": null,
       "max_width": null,
       "min_height": null,
       "min_width": null,
       "object_fit": null,
       "object_position": null,
       "order": null,
       "overflow": null,
       "overflow_x": null,
       "overflow_y": null,
       "padding": null,
       "right": null,
       "top": null,
       "visibility": null,
       "width": null
      }
     },
     "3b784de3604c4cf1b23693ccde713b45": {
      "model_module": "@jupyter-widgets/base",
      "model_module_version": "1.2.0",
      "model_name": "LayoutModel",
      "state": {
       "_model_module": "@jupyter-widgets/base",
       "_model_module_version": "1.2.0",
       "_model_name": "LayoutModel",
       "_view_count": null,
       "_view_module": "@jupyter-widgets/base",
       "_view_module_version": "1.2.0",
       "_view_name": "LayoutView",
       "align_content": null,
       "align_items": null,
       "align_self": null,
       "border": null,
       "bottom": null,
       "display": null,
       "flex": null,
       "flex_flow": null,
       "grid_area": null,
       "grid_auto_columns": null,
       "grid_auto_flow": null,
       "grid_auto_rows": null,
       "grid_column": null,
       "grid_gap": null,
       "grid_row": null,
       "grid_template_areas": null,
       "grid_template_columns": null,
       "grid_template_rows": null,
       "height": null,
       "justify_content": null,
       "justify_items": null,
       "left": null,
       "margin": null,
       "max_height": null,
       "max_width": null,
       "min_height": null,
       "min_width": null,
       "object_fit": null,
       "object_position": null,
       "order": null,
       "overflow": null,
       "overflow_x": null,
       "overflow_y": null,
       "padding": null,
       "right": null,
       "top": null,
       "visibility": null,
       "width": null
      }
     },
     "40767a8dcda54bd2b22423569430a13c": {
      "model_module": "@jupyter-widgets/base",
      "model_module_version": "1.2.0",
      "model_name": "LayoutModel",
      "state": {
       "_model_module": "@jupyter-widgets/base",
       "_model_module_version": "1.2.0",
       "_model_name": "LayoutModel",
       "_view_count": null,
       "_view_module": "@jupyter-widgets/base",
       "_view_module_version": "1.2.0",
       "_view_name": "LayoutView",
       "align_content": null,
       "align_items": null,
       "align_self": null,
       "border": null,
       "bottom": null,
       "display": null,
       "flex": null,
       "flex_flow": null,
       "grid_area": null,
       "grid_auto_columns": null,
       "grid_auto_flow": null,
       "grid_auto_rows": null,
       "grid_column": null,
       "grid_gap": null,
       "grid_row": null,
       "grid_template_areas": null,
       "grid_template_columns": null,
       "grid_template_rows": null,
       "height": null,
       "justify_content": null,
       "justify_items": null,
       "left": null,
       "margin": null,
       "max_height": null,
       "max_width": null,
       "min_height": null,
       "min_width": null,
       "object_fit": null,
       "object_position": null,
       "order": null,
       "overflow": null,
       "overflow_x": null,
       "overflow_y": null,
       "padding": null,
       "right": null,
       "top": null,
       "visibility": null,
       "width": null
      }
     },
     "40d730d306014248b111e834c043dfd6": {
      "model_module": "@jupyter-widgets/controls",
      "model_module_version": "1.5.0",
      "model_name": "HTMLModel",
      "state": {
       "_dom_classes": [],
       "_model_module": "@jupyter-widgets/controls",
       "_model_module_version": "1.5.0",
       "_model_name": "HTMLModel",
       "_view_count": null,
       "_view_module": "@jupyter-widgets/controls",
       "_view_module_version": "1.5.0",
       "_view_name": "HTMLView",
       "description": "",
       "description_tooltip": null,
       "layout": "IPY_MODEL_75e04f9f0e4b461ab05b8def9623dc3b",
       "placeholder": "​",
       "style": "IPY_MODEL_54c3d1d4c8104415a242ae129bde78ce",
       "value": " 1.11G/1.11G [00:48&lt;00:00, 23.6MB/s]"
      }
     },
     "40db854060e046f6a3166f558c8b70ca": {
      "model_module": "@jupyter-widgets/base",
      "model_module_version": "1.2.0",
      "model_name": "LayoutModel",
      "state": {
       "_model_module": "@jupyter-widgets/base",
       "_model_module_version": "1.2.0",
       "_model_name": "LayoutModel",
       "_view_count": null,
       "_view_module": "@jupyter-widgets/base",
       "_view_module_version": "1.2.0",
       "_view_name": "LayoutView",
       "align_content": null,
       "align_items": null,
       "align_self": null,
       "border": null,
       "bottom": null,
       "display": null,
       "flex": null,
       "flex_flow": null,
       "grid_area": null,
       "grid_auto_columns": null,
       "grid_auto_flow": null,
       "grid_auto_rows": null,
       "grid_column": null,
       "grid_gap": null,
       "grid_row": null,
       "grid_template_areas": null,
       "grid_template_columns": null,
       "grid_template_rows": null,
       "height": null,
       "justify_content": null,
       "justify_items": null,
       "left": null,
       "margin": null,
       "max_height": null,
       "max_width": null,
       "min_height": null,
       "min_width": null,
       "object_fit": null,
       "object_position": null,
       "order": null,
       "overflow": null,
       "overflow_x": null,
       "overflow_y": null,
       "padding": null,
       "right": null,
       "top": null,
       "visibility": null,
       "width": null
      }
     },
     "4215ab79238243a6bc2fa44d63d26e75": {
      "model_module": "@jupyter-widgets/controls",
      "model_module_version": "1.5.0",
      "model_name": "DescriptionStyleModel",
      "state": {
       "_model_module": "@jupyter-widgets/controls",
       "_model_module_version": "1.5.0",
       "_model_name": "DescriptionStyleModel",
       "_view_count": null,
       "_view_module": "@jupyter-widgets/base",
       "_view_module_version": "1.2.0",
       "_view_name": "StyleView",
       "description_width": ""
      }
     },
     "43f3385800b44e8abf324aa6e504bd65": {
      "model_module": "@jupyter-widgets/controls",
      "model_module_version": "1.5.0",
      "model_name": "HTMLModel",
      "state": {
       "_dom_classes": [],
       "_model_module": "@jupyter-widgets/controls",
       "_model_module_version": "1.5.0",
       "_model_name": "HTMLModel",
       "_view_count": null,
       "_view_module": "@jupyter-widgets/controls",
       "_view_module_version": "1.5.0",
       "_view_name": "HTMLView",
       "description": "",
       "description_tooltip": null,
       "layout": "IPY_MODEL_6a7a85828d6f4c19940ac9d9c6de071a",
       "placeholder": "​",
       "style": "IPY_MODEL_29d3dc7e68f54605b3f3e7d8b92cf35a",
       "value": "Downloading: 100%"
      }
     },
     "4499d8400121477b98185dfe381aa531": {
      "model_module": "@jupyter-widgets/base",
      "model_module_version": "1.2.0",
      "model_name": "LayoutModel",
      "state": {
       "_model_module": "@jupyter-widgets/base",
       "_model_module_version": "1.2.0",
       "_model_name": "LayoutModel",
       "_view_count": null,
       "_view_module": "@jupyter-widgets/base",
       "_view_module_version": "1.2.0",
       "_view_name": "LayoutView",
       "align_content": null,
       "align_items": null,
       "align_self": null,
       "border": null,
       "bottom": null,
       "display": null,
       "flex": null,
       "flex_flow": null,
       "grid_area": null,
       "grid_auto_columns": null,
       "grid_auto_flow": null,
       "grid_auto_rows": null,
       "grid_column": null,
       "grid_gap": null,
       "grid_row": null,
       "grid_template_areas": null,
       "grid_template_columns": null,
       "grid_template_rows": null,
       "height": null,
       "justify_content": null,
       "justify_items": null,
       "left": null,
       "margin": null,
       "max_height": null,
       "max_width": null,
       "min_height": null,
       "min_width": null,
       "object_fit": null,
       "object_position": null,
       "order": null,
       "overflow": null,
       "overflow_x": null,
       "overflow_y": null,
       "padding": null,
       "right": null,
       "top": null,
       "visibility": null,
       "width": null
      }
     },
     "4802b48082124d29bae4d0b1b6848f2f": {
      "model_module": "@jupyter-widgets/controls",
      "model_module_version": "1.5.0",
      "model_name": "HTMLModel",
      "state": {
       "_dom_classes": [],
       "_model_module": "@jupyter-widgets/controls",
       "_model_module_version": "1.5.0",
       "_model_name": "HTMLModel",
       "_view_count": null,
       "_view_module": "@jupyter-widgets/controls",
       "_view_module_version": "1.5.0",
       "_view_name": "HTMLView",
       "description": "",
       "description_tooltip": null,
       "layout": "IPY_MODEL_72f77a2206fc415c95bce8dae0b38676",
       "placeholder": "​",
       "style": "IPY_MODEL_f8ee8e9683b240c19c1a8ec0afa7df29",
       "value": "Downloading: 100%"
      }
     },
     "4915c2739b5945e4a87ed90e4157b952": {
      "model_module": "@jupyter-widgets/controls",
      "model_module_version": "1.5.0",
      "model_name": "ProgressStyleModel",
      "state": {
       "_model_module": "@jupyter-widgets/controls",
       "_model_module_version": "1.5.0",
       "_model_name": "ProgressStyleModel",
       "_view_count": null,
       "_view_module": "@jupyter-widgets/base",
       "_view_module_version": "1.2.0",
       "_view_name": "StyleView",
       "bar_color": null,
       "description_width": ""
      }
     },
     "4a8b9614efb4449e905a10eb2d89e30b": {
      "model_module": "@jupyter-widgets/base",
      "model_module_version": "1.2.0",
      "model_name": "LayoutModel",
      "state": {
       "_model_module": "@jupyter-widgets/base",
       "_model_module_version": "1.2.0",
       "_model_name": "LayoutModel",
       "_view_count": null,
       "_view_module": "@jupyter-widgets/base",
       "_view_module_version": "1.2.0",
       "_view_name": "LayoutView",
       "align_content": null,
       "align_items": null,
       "align_self": null,
       "border": null,
       "bottom": null,
       "display": null,
       "flex": null,
       "flex_flow": null,
       "grid_area": null,
       "grid_auto_columns": null,
       "grid_auto_flow": null,
       "grid_auto_rows": null,
       "grid_column": null,
       "grid_gap": null,
       "grid_row": null,
       "grid_template_areas": null,
       "grid_template_columns": null,
       "grid_template_rows": null,
       "height": null,
       "justify_content": null,
       "justify_items": null,
       "left": null,
       "margin": null,
       "max_height": null,
       "max_width": null,
       "min_height": null,
       "min_width": null,
       "object_fit": null,
       "object_position": null,
       "order": null,
       "overflow": null,
       "overflow_x": null,
       "overflow_y": null,
       "padding": null,
       "right": null,
       "top": null,
       "visibility": null,
       "width": null
      }
     },
     "4aacb9221902460e9a6e0c881b344f2b": {
      "model_module": "@jupyter-widgets/base",
      "model_module_version": "1.2.0",
      "model_name": "LayoutModel",
      "state": {
       "_model_module": "@jupyter-widgets/base",
       "_model_module_version": "1.2.0",
       "_model_name": "LayoutModel",
       "_view_count": null,
       "_view_module": "@jupyter-widgets/base",
       "_view_module_version": "1.2.0",
       "_view_name": "LayoutView",
       "align_content": null,
       "align_items": null,
       "align_self": null,
       "border": null,
       "bottom": null,
       "display": null,
       "flex": null,
       "flex_flow": null,
       "grid_area": null,
       "grid_auto_columns": null,
       "grid_auto_flow": null,
       "grid_auto_rows": null,
       "grid_column": null,
       "grid_gap": null,
       "grid_row": null,
       "grid_template_areas": null,
       "grid_template_columns": null,
       "grid_template_rows": null,
       "height": null,
       "justify_content": null,
       "justify_items": null,
       "left": null,
       "margin": null,
       "max_height": null,
       "max_width": null,
       "min_height": null,
       "min_width": null,
       "object_fit": null,
       "object_position": null,
       "order": null,
       "overflow": null,
       "overflow_x": null,
       "overflow_y": null,
       "padding": null,
       "right": null,
       "top": null,
       "visibility": null,
       "width": null
      }
     },
     "4b7a7ea57d324833b5da1437cd9f016c": {
      "model_module": "@jupyter-widgets/controls",
      "model_module_version": "1.5.0",
      "model_name": "FloatProgressModel",
      "state": {
       "_dom_classes": [],
       "_model_module": "@jupyter-widgets/controls",
       "_model_module_version": "1.5.0",
       "_model_name": "FloatProgressModel",
       "_view_count": null,
       "_view_module": "@jupyter-widgets/controls",
       "_view_module_version": "1.5.0",
       "_view_name": "ProgressView",
       "bar_style": "success",
       "description": "",
       "description_tooltip": null,
       "layout": "IPY_MODEL_c21716a1dab44a89bf18db64ce593cf8",
       "max": 3769.0,
       "min": 0.0,
       "orientation": "horizontal",
       "style": "IPY_MODEL_3546f1d8a3bc49b9a32bb4995f8459cf",
       "value": 3769.0
      }
     },
     "54202df779ff4585b32931ae3356ee13": {
      "model_module": "@jupyter-widgets/base",
      "model_module_version": "1.2.0",
      "model_name": "LayoutModel",
      "state": {
       "_model_module": "@jupyter-widgets/base",
       "_model_module_version": "1.2.0",
       "_model_name": "LayoutModel",
       "_view_count": null,
       "_view_module": "@jupyter-widgets/base",
       "_view_module_version": "1.2.0",
       "_view_name": "LayoutView",
       "align_content": null,
       "align_items": null,
       "align_self": null,
       "border": null,
       "bottom": null,
       "display": null,
       "flex": null,
       "flex_flow": null,
       "grid_area": null,
       "grid_auto_columns": null,
       "grid_auto_flow": null,
       "grid_auto_rows": null,
       "grid_column": null,
       "grid_gap": null,
       "grid_row": null,
       "grid_template_areas": null,
       "grid_template_columns": null,
       "grid_template_rows": null,
       "height": null,
       "justify_content": null,
       "justify_items": null,
       "left": null,
       "margin": null,
       "max_height": null,
       "max_width": null,
       "min_height": null,
       "min_width": null,
       "object_fit": null,
       "object_position": null,
       "order": null,
       "overflow": null,
       "overflow_x": null,
       "overflow_y": null,
       "padding": null,
       "right": null,
       "top": null,
       "visibility": null,
       "width": null
      }
     },
     "543547a50fa94fe98409d92486178051": {
      "model_module": "@jupyter-widgets/controls",
      "model_module_version": "1.5.0",
      "model_name": "HTMLModel",
      "state": {
       "_dom_classes": [],
       "_model_module": "@jupyter-widgets/controls",
       "_model_module_version": "1.5.0",
       "_model_name": "HTMLModel",
       "_view_count": null,
       "_view_module": "@jupyter-widgets/controls",
       "_view_module_version": "1.5.0",
       "_view_name": "HTMLView",
       "description": "",
       "description_tooltip": null,
       "layout": "IPY_MODEL_40767a8dcda54bd2b22423569430a13c",
       "placeholder": "​",
       "style": "IPY_MODEL_a32f7c024aff4a6fa6e591672daff1e6",
       "value": "Downloading: 100%"
      }
     },
     "54645f4a9ab44a01ab025a5946b8693d": {
      "model_module": "@jupyter-widgets/controls",
      "model_module_version": "1.5.0",
      "model_name": "DescriptionStyleModel",
      "state": {
       "_model_module": "@jupyter-widgets/controls",
       "_model_module_version": "1.5.0",
       "_model_name": "DescriptionStyleModel",
       "_view_count": null,
       "_view_module": "@jupyter-widgets/base",
       "_view_module_version": "1.2.0",
       "_view_name": "StyleView",
       "description_width": ""
      }
     },
     "54c3d1d4c8104415a242ae129bde78ce": {
      "model_module": "@jupyter-widgets/controls",
      "model_module_version": "1.5.0",
      "model_name": "DescriptionStyleModel",
      "state": {
       "_model_module": "@jupyter-widgets/controls",
       "_model_module_version": "1.5.0",
       "_model_name": "DescriptionStyleModel",
       "_view_count": null,
       "_view_module": "@jupyter-widgets/base",
       "_view_module_version": "1.2.0",
       "_view_name": "StyleView",
       "description_width": ""
      }
     },
     "573998e9fa1a4328b1650e7d7daae359": {
      "model_module": "@jupyter-widgets/controls",
      "model_module_version": "1.5.0",
      "model_name": "HTMLModel",
      "state": {
       "_dom_classes": [],
       "_model_module": "@jupyter-widgets/controls",
       "_model_module_version": "1.5.0",
       "_model_name": "HTMLModel",
       "_view_count": null,
       "_view_module": "@jupyter-widgets/controls",
       "_view_module_version": "1.5.0",
       "_view_name": "HTMLView",
       "description": "",
       "description_tooltip": null,
       "layout": "IPY_MODEL_7e915b0828a8479182e1ee768af3c490",
       "placeholder": "​",
       "style": "IPY_MODEL_da910606d4ba497c9a885382e9540f7c",
       "value": "Downloading: 100%"
      }
     },
     "58023c7cbf6c43728b9adca92ec6c712": {
      "model_module": "@jupyter-widgets/base",
      "model_module_version": "1.2.0",
      "model_name": "LayoutModel",
      "state": {
       "_model_module": "@jupyter-widgets/base",
       "_model_module_version": "1.2.0",
       "_model_name": "LayoutModel",
       "_view_count": null,
       "_view_module": "@jupyter-widgets/base",
       "_view_module_version": "1.2.0",
       "_view_name": "LayoutView",
       "align_content": null,
       "align_items": null,
       "align_self": null,
       "border": null,
       "bottom": null,
       "display": null,
       "flex": null,
       "flex_flow": null,
       "grid_area": null,
       "grid_auto_columns": null,
       "grid_auto_flow": null,
       "grid_auto_rows": null,
       "grid_column": null,
       "grid_gap": null,
       "grid_row": null,
       "grid_template_areas": null,
       "grid_template_columns": null,
       "grid_template_rows": null,
       "height": null,
       "justify_content": null,
       "justify_items": null,
       "left": null,
       "margin": null,
       "max_height": null,
       "max_width": null,
       "min_height": null,
       "min_width": null,
       "object_fit": null,
       "object_position": null,
       "order": null,
       "overflow": null,
       "overflow_x": null,
       "overflow_y": null,
       "padding": null,
       "right": null,
       "top": null,
       "visibility": null,
       "width": null
      }
     },
     "5c77f47d81ca48a2b50c6f4ca0822223": {
      "model_module": "@jupyter-widgets/base",
      "model_module_version": "1.2.0",
      "model_name": "LayoutModel",
      "state": {
       "_model_module": "@jupyter-widgets/base",
       "_model_module_version": "1.2.0",
       "_model_name": "LayoutModel",
       "_view_count": null,
       "_view_module": "@jupyter-widgets/base",
       "_view_module_version": "1.2.0",
       "_view_name": "LayoutView",
       "align_content": null,
       "align_items": null,
       "align_self": null,
       "border": null,
       "bottom": null,
       "display": null,
       "flex": null,
       "flex_flow": null,
       "grid_area": null,
       "grid_auto_columns": null,
       "grid_auto_flow": null,
       "grid_auto_rows": null,
       "grid_column": null,
       "grid_gap": null,
       "grid_row": null,
       "grid_template_areas": null,
       "grid_template_columns": null,
       "grid_template_rows": null,
       "height": null,
       "justify_content": null,
       "justify_items": null,
       "left": null,
       "margin": null,
       "max_height": null,
       "max_width": null,
       "min_height": null,
       "min_width": null,
       "object_fit": null,
       "object_position": null,
       "order": null,
       "overflow": null,
       "overflow_x": null,
       "overflow_y": null,
       "padding": null,
       "right": null,
       "top": null,
       "visibility": null,
       "width": null
      }
     },
     "5d0f879375cb4dd49166e806c5c259b1": {
      "model_module": "@jupyter-widgets/controls",
      "model_module_version": "1.5.0",
      "model_name": "HTMLModel",
      "state": {
       "_dom_classes": [],
       "_model_module": "@jupyter-widgets/controls",
       "_model_module_version": "1.5.0",
       "_model_name": "HTMLModel",
       "_view_count": null,
       "_view_module": "@jupyter-widgets/controls",
       "_view_module_version": "1.5.0",
       "_view_name": "HTMLView",
       "description": "",
       "description_tooltip": null,
       "layout": "IPY_MODEL_2f499e2b13504654bb72dac863ce7e36",
       "placeholder": "​",
       "style": "IPY_MODEL_c3c22cb2fe634f48b48dde13725858d6",
       "value": " 122/122 [00:00&lt;00:00, 4.10kB/s]"
      }
     },
     "6332a466ee3d4101a387514e2200da1c": {
      "model_module": "@jupyter-widgets/base",
      "model_module_version": "1.2.0",
      "model_name": "LayoutModel",
      "state": {
       "_model_module": "@jupyter-widgets/base",
       "_model_module_version": "1.2.0",
       "_model_name": "LayoutModel",
       "_view_count": null,
       "_view_module": "@jupyter-widgets/base",
       "_view_module_version": "1.2.0",
       "_view_name": "LayoutView",
       "align_content": null,
       "align_items": null,
       "align_self": null,
       "border": null,
       "bottom": null,
       "display": null,
       "flex": null,
       "flex_flow": null,
       "grid_area": null,
       "grid_auto_columns": null,
       "grid_auto_flow": null,
       "grid_auto_rows": null,
       "grid_column": null,
       "grid_gap": null,
       "grid_row": null,
       "grid_template_areas": null,
       "grid_template_columns": null,
       "grid_template_rows": null,
       "height": null,
       "justify_content": null,
       "justify_items": null,
       "left": null,
       "margin": null,
       "max_height": null,
       "max_width": null,
       "min_height": null,
       "min_width": null,
       "object_fit": null,
       "object_position": null,
       "order": null,
       "overflow": null,
       "overflow_x": null,
       "overflow_y": null,
       "padding": null,
       "right": null,
       "top": null,
       "visibility": null,
       "width": null
      }
     },
     "636a88c73c284748b0d9d7cff8ea33bb": {
      "model_module": "@jupyter-widgets/controls",
      "model_module_version": "1.5.0",
      "model_name": "HBoxModel",
      "state": {
       "_dom_classes": [],
       "_model_module": "@jupyter-widgets/controls",
       "_model_module_version": "1.5.0",
       "_model_name": "HBoxModel",
       "_view_count": null,
       "_view_module": "@jupyter-widgets/controls",
       "_view_module_version": "1.5.0",
       "_view_name": "HBoxView",
       "box_style": "",
       "children": [
        "IPY_MODEL_66f98f986e534f1187b2633132f45baa",
        "IPY_MODEL_28a4fd443248482ea3794682ae1423f5",
        "IPY_MODEL_40d730d306014248b111e834c043dfd6"
       ],
       "layout": "IPY_MODEL_094b7527a903401c96970e975b85d3b9"
      }
     },
     "66f98f986e534f1187b2633132f45baa": {
      "model_module": "@jupyter-widgets/controls",
      "model_module_version": "1.5.0",
      "model_name": "HTMLModel",
      "state": {
       "_dom_classes": [],
       "_model_module": "@jupyter-widgets/controls",
       "_model_module_version": "1.5.0",
       "_model_name": "HTMLModel",
       "_view_count": null,
       "_view_module": "@jupyter-widgets/controls",
       "_view_module_version": "1.5.0",
       "_view_name": "HTMLView",
       "description": "",
       "description_tooltip": null,
       "layout": "IPY_MODEL_281e811f1cf840788167959cb5f0dc50",
       "placeholder": "​",
       "style": "IPY_MODEL_54645f4a9ab44a01ab025a5946b8693d",
       "value": "Downloading: 100%"
      }
     },
     "67f5f87dd1314adea2923ecee7211372": {
      "model_module": "@jupyter-widgets/base",
      "model_module_version": "1.2.0",
      "model_name": "LayoutModel",
      "state": {
       "_model_module": "@jupyter-widgets/base",
       "_model_module_version": "1.2.0",
       "_model_name": "LayoutModel",
       "_view_count": null,
       "_view_module": "@jupyter-widgets/base",
       "_view_module_version": "1.2.0",
       "_view_name": "LayoutView",
       "align_content": null,
       "align_items": null,
       "align_self": null,
       "border": null,
       "bottom": null,
       "display": null,
       "flex": null,
       "flex_flow": null,
       "grid_area": null,
       "grid_auto_columns": null,
       "grid_auto_flow": null,
       "grid_auto_rows": null,
       "grid_column": null,
       "grid_gap": null,
       "grid_row": null,
       "grid_template_areas": null,
       "grid_template_columns": null,
       "grid_template_rows": null,
       "height": null,
       "justify_content": null,
       "justify_items": null,
       "left": null,
       "margin": null,
       "max_height": null,
       "max_width": null,
       "min_height": null,
       "min_width": null,
       "object_fit": null,
       "object_position": null,
       "order": null,
       "overflow": null,
       "overflow_x": null,
       "overflow_y": null,
       "padding": null,
       "right": null,
       "top": null,
       "visibility": null,
       "width": null
      }
     },
     "6a7a85828d6f4c19940ac9d9c6de071a": {
      "model_module": "@jupyter-widgets/base",
      "model_module_version": "1.2.0",
      "model_name": "LayoutModel",
      "state": {
       "_model_module": "@jupyter-widgets/base",
       "_model_module_version": "1.2.0",
       "_model_name": "LayoutModel",
       "_view_count": null,
       "_view_module": "@jupyter-widgets/base",
       "_view_module_version": "1.2.0",
       "_view_name": "LayoutView",
       "align_content": null,
       "align_items": null,
       "align_self": null,
       "border": null,
       "bottom": null,
       "display": null,
       "flex": null,
       "flex_flow": null,
       "grid_area": null,
       "grid_auto_columns": null,
       "grid_auto_flow": null,
       "grid_auto_rows": null,
       "grid_column": null,
       "grid_gap": null,
       "grid_row": null,
       "grid_template_areas": null,
       "grid_template_columns": null,
       "grid_template_rows": null,
       "height": null,
       "justify_content": null,
       "justify_items": null,
       "left": null,
       "margin": null,
       "max_height": null,
       "max_width": null,
       "min_height": null,
       "min_width": null,
       "object_fit": null,
       "object_position": null,
       "order": null,
       "overflow": null,
       "overflow_x": null,
       "overflow_y": null,
       "padding": null,
       "right": null,
       "top": null,
       "visibility": null,
       "width": null
      }
     },
     "6babd917750a404793533300be32c168": {
      "model_module": "@jupyter-widgets/base",
      "model_module_version": "1.2.0",
      "model_name": "LayoutModel",
      "state": {
       "_model_module": "@jupyter-widgets/base",
       "_model_module_version": "1.2.0",
       "_model_name": "LayoutModel",
       "_view_count": null,
       "_view_module": "@jupyter-widgets/base",
       "_view_module_version": "1.2.0",
       "_view_name": "LayoutView",
       "align_content": null,
       "align_items": null,
       "align_self": null,
       "border": null,
       "bottom": null,
       "display": null,
       "flex": null,
       "flex_flow": null,
       "grid_area": null,
       "grid_auto_columns": null,
       "grid_auto_flow": null,
       "grid_auto_rows": null,
       "grid_column": null,
       "grid_gap": null,
       "grid_row": null,
       "grid_template_areas": null,
       "grid_template_columns": null,
       "grid_template_rows": null,
       "height": null,
       "justify_content": null,
       "justify_items": null,
       "left": null,
       "margin": null,
       "max_height": null,
       "max_width": null,
       "min_height": null,
       "min_width": null,
       "object_fit": null,
       "object_position": null,
       "order": null,
       "overflow": null,
       "overflow_x": null,
       "overflow_y": null,
       "padding": null,
       "right": null,
       "top": null,
       "visibility": null,
       "width": null
      }
     },
     "6bf5196a4a3a450c9188357d16d1e6d2": {
      "model_module": "@jupyter-widgets/controls",
      "model_module_version": "1.5.0",
      "model_name": "HBoxModel",
      "state": {
       "_dom_classes": [],
       "_model_module": "@jupyter-widgets/controls",
       "_model_module_version": "1.5.0",
       "_model_name": "HBoxModel",
       "_view_count": null,
       "_view_module": "@jupyter-widgets/controls",
       "_view_module_version": "1.5.0",
       "_view_name": "HBoxView",
       "box_style": "",
       "children": [
        "IPY_MODEL_b3c11f7e7e884240945d168574de34b4",
        "IPY_MODEL_0fec97fa18ba4c67b78323ecfb5e309f",
        "IPY_MODEL_c3de8350b121403c8785be87bff5adc8"
       ],
       "layout": "IPY_MODEL_19a59584c2fe41e0982fcf388ac142dd"
      }
     },
     "70311caa2d0d4ce5bac253dfc2bca3ac": {
      "model_module": "@jupyter-widgets/base",
      "model_module_version": "1.2.0",
      "model_name": "LayoutModel",
      "state": {
       "_model_module": "@jupyter-widgets/base",
       "_model_module_version": "1.2.0",
       "_model_name": "LayoutModel",
       "_view_count": null,
       "_view_module": "@jupyter-widgets/base",
       "_view_module_version": "1.2.0",
       "_view_name": "LayoutView",
       "align_content": null,
       "align_items": null,
       "align_self": null,
       "border": null,
       "bottom": null,
       "display": null,
       "flex": null,
       "flex_flow": null,
       "grid_area": null,
       "grid_auto_columns": null,
       "grid_auto_flow": null,
       "grid_auto_rows": null,
       "grid_column": null,
       "grid_gap": null,
       "grid_row": null,
       "grid_template_areas": null,
       "grid_template_columns": null,
       "grid_template_rows": null,
       "height": null,
       "justify_content": null,
       "justify_items": null,
       "left": null,
       "margin": null,
       "max_height": null,
       "max_width": null,
       "min_height": null,
       "min_width": null,
       "object_fit": null,
       "object_position": null,
       "order": null,
       "overflow": null,
       "overflow_x": null,
       "overflow_y": null,
       "padding": null,
       "right": null,
       "top": null,
       "visibility": null,
       "width": null
      }
     },
     "72f77a2206fc415c95bce8dae0b38676": {
      "model_module": "@jupyter-widgets/base",
      "model_module_version": "1.2.0",
      "model_name": "LayoutModel",
      "state": {
       "_model_module": "@jupyter-widgets/base",
       "_model_module_version": "1.2.0",
       "_model_name": "LayoutModel",
       "_view_count": null,
       "_view_module": "@jupyter-widgets/base",
       "_view_module_version": "1.2.0",
       "_view_name": "LayoutView",
       "align_content": null,
       "align_items": null,
       "align_self": null,
       "border": null,
       "bottom": null,
       "display": null,
       "flex": null,
       "flex_flow": null,
       "grid_area": null,
       "grid_auto_columns": null,
       "grid_auto_flow": null,
       "grid_auto_rows": null,
       "grid_column": null,
       "grid_gap": null,
       "grid_row": null,
       "grid_template_areas": null,
       "grid_template_columns": null,
       "grid_template_rows": null,
       "height": null,
       "justify_content": null,
       "justify_items": null,
       "left": null,
       "margin": null,
       "max_height": null,
       "max_width": null,
       "min_height": null,
       "min_width": null,
       "object_fit": null,
       "object_position": null,
       "order": null,
       "overflow": null,
       "overflow_x": null,
       "overflow_y": null,
       "padding": null,
       "right": null,
       "top": null,
       "visibility": null,
       "width": null
      }
     },
     "74f289839c294ff6b3e91d09457d3eca": {
      "model_module": "@jupyter-widgets/controls",
      "model_module_version": "1.5.0",
      "model_name": "ProgressStyleModel",
      "state": {
       "_model_module": "@jupyter-widgets/controls",
       "_model_module_version": "1.5.0",
       "_model_name": "ProgressStyleModel",
       "_view_count": null,
       "_view_module": "@jupyter-widgets/base",
       "_view_module_version": "1.2.0",
       "_view_name": "StyleView",
       "bar_color": null,
       "description_width": ""
      }
     },
     "75e04f9f0e4b461ab05b8def9623dc3b": {
      "model_module": "@jupyter-widgets/base",
      "model_module_version": "1.2.0",
      "model_name": "LayoutModel",
      "state": {
       "_model_module": "@jupyter-widgets/base",
       "_model_module_version": "1.2.0",
       "_model_name": "LayoutModel",
       "_view_count": null,
       "_view_module": "@jupyter-widgets/base",
       "_view_module_version": "1.2.0",
       "_view_name": "LayoutView",
       "align_content": null,
       "align_items": null,
       "align_self": null,
       "border": null,
       "bottom": null,
       "display": null,
       "flex": null,
       "flex_flow": null,
       "grid_area": null,
       "grid_auto_columns": null,
       "grid_auto_flow": null,
       "grid_auto_rows": null,
       "grid_column": null,
       "grid_gap": null,
       "grid_row": null,
       "grid_template_areas": null,
       "grid_template_columns": null,
       "grid_template_rows": null,
       "height": null,
       "justify_content": null,
       "justify_items": null,
       "left": null,
       "margin": null,
       "max_height": null,
       "max_width": null,
       "min_height": null,
       "min_width": null,
       "object_fit": null,
       "object_position": null,
       "order": null,
       "overflow": null,
       "overflow_x": null,
       "overflow_y": null,
       "padding": null,
       "right": null,
       "top": null,
       "visibility": null,
       "width": null
      }
     },
     "76e1f5ef3ebe4cf29cf08ec33806973a": {
      "model_module": "@jupyter-widgets/base",
      "model_module_version": "1.2.0",
      "model_name": "LayoutModel",
      "state": {
       "_model_module": "@jupyter-widgets/base",
       "_model_module_version": "1.2.0",
       "_model_name": "LayoutModel",
       "_view_count": null,
       "_view_module": "@jupyter-widgets/base",
       "_view_module_version": "1.2.0",
       "_view_name": "LayoutView",
       "align_content": null,
       "align_items": null,
       "align_self": null,
       "border": null,
       "bottom": null,
       "display": null,
       "flex": null,
       "flex_flow": null,
       "grid_area": null,
       "grid_auto_columns": null,
       "grid_auto_flow": null,
       "grid_auto_rows": null,
       "grid_column": null,
       "grid_gap": null,
       "grid_row": null,
       "grid_template_areas": null,
       "grid_template_columns": null,
       "grid_template_rows": null,
       "height": null,
       "justify_content": null,
       "justify_items": null,
       "left": null,
       "margin": null,
       "max_height": null,
       "max_width": null,
       "min_height": null,
       "min_width": null,
       "object_fit": null,
       "object_position": null,
       "order": null,
       "overflow": null,
       "overflow_x": null,
       "overflow_y": null,
       "padding": null,
       "right": null,
       "top": null,
       "visibility": null,
       "width": null
      }
     },
     "77bf5a03f55c4cf48b4f33010024934e": {
      "model_module": "@jupyter-widgets/base",
      "model_module_version": "1.2.0",
      "model_name": "LayoutModel",
      "state": {
       "_model_module": "@jupyter-widgets/base",
       "_model_module_version": "1.2.0",
       "_model_name": "LayoutModel",
       "_view_count": null,
       "_view_module": "@jupyter-widgets/base",
       "_view_module_version": "1.2.0",
       "_view_name": "LayoutView",
       "align_content": null,
       "align_items": null,
       "align_self": null,
       "border": null,
       "bottom": null,
       "display": null,
       "flex": null,
       "flex_flow": null,
       "grid_area": null,
       "grid_auto_columns": null,
       "grid_auto_flow": null,
       "grid_auto_rows": null,
       "grid_column": null,
       "grid_gap": null,
       "grid_row": null,
       "grid_template_areas": null,
       "grid_template_columns": null,
       "grid_template_rows": null,
       "height": null,
       "justify_content": null,
       "justify_items": null,
       "left": null,
       "margin": null,
       "max_height": null,
       "max_width": null,
       "min_height": null,
       "min_width": null,
       "object_fit": null,
       "object_position": null,
       "order": null,
       "overflow": null,
       "overflow_x": null,
       "overflow_y": null,
       "padding": null,
       "right": null,
       "top": null,
       "visibility": null,
       "width": null
      }
     },
     "7993442bf671428ba1c4736a862d4427": {
      "model_module": "@jupyter-widgets/controls",
      "model_module_version": "1.5.0",
      "model_name": "DescriptionStyleModel",
      "state": {
       "_model_module": "@jupyter-widgets/controls",
       "_model_module_version": "1.5.0",
       "_model_name": "DescriptionStyleModel",
       "_view_count": null,
       "_view_module": "@jupyter-widgets/base",
       "_view_module_version": "1.2.0",
       "_view_name": "StyleView",
       "description_width": ""
      }
     },
     "7e915b0828a8479182e1ee768af3c490": {
      "model_module": "@jupyter-widgets/base",
      "model_module_version": "1.2.0",
      "model_name": "LayoutModel",
      "state": {
       "_model_module": "@jupyter-widgets/base",
       "_model_module_version": "1.2.0",
       "_model_name": "LayoutModel",
       "_view_count": null,
       "_view_module": "@jupyter-widgets/base",
       "_view_module_version": "1.2.0",
       "_view_name": "LayoutView",
       "align_content": null,
       "align_items": null,
       "align_self": null,
       "border": null,
       "bottom": null,
       "display": null,
       "flex": null,
       "flex_flow": null,
       "grid_area": null,
       "grid_auto_columns": null,
       "grid_auto_flow": null,
       "grid_auto_rows": null,
       "grid_column": null,
       "grid_gap": null,
       "grid_row": null,
       "grid_template_areas": null,
       "grid_template_columns": null,
       "grid_template_rows": null,
       "height": null,
       "justify_content": null,
       "justify_items": null,
       "left": null,
       "margin": null,
       "max_height": null,
       "max_width": null,
       "min_height": null,
       "min_width": null,
       "object_fit": null,
       "object_position": null,
       "order": null,
       "overflow": null,
       "overflow_x": null,
       "overflow_y": null,
       "padding": null,
       "right": null,
       "top": null,
       "visibility": null,
       "width": null
      }
     },
     "7fcf1a95629f47dcbc969500452dba74": {
      "model_module": "@jupyter-widgets/base",
      "model_module_version": "1.2.0",
      "model_name": "LayoutModel",
      "state": {
       "_model_module": "@jupyter-widgets/base",
       "_model_module_version": "1.2.0",
       "_model_name": "LayoutModel",
       "_view_count": null,
       "_view_module": "@jupyter-widgets/base",
       "_view_module_version": "1.2.0",
       "_view_name": "LayoutView",
       "align_content": null,
       "align_items": null,
       "align_self": null,
       "border": null,
       "bottom": null,
       "display": null,
       "flex": null,
       "flex_flow": null,
       "grid_area": null,
       "grid_auto_columns": null,
       "grid_auto_flow": null,
       "grid_auto_rows": null,
       "grid_column": null,
       "grid_gap": null,
       "grid_row": null,
       "grid_template_areas": null,
       "grid_template_columns": null,
       "grid_template_rows": null,
       "height": null,
       "justify_content": null,
       "justify_items": null,
       "left": null,
       "margin": null,
       "max_height": null,
       "max_width": null,
       "min_height": null,
       "min_width": null,
       "object_fit": null,
       "object_position": null,
       "order": null,
       "overflow": null,
       "overflow_x": null,
       "overflow_y": null,
       "padding": null,
       "right": null,
       "top": null,
       "visibility": null,
       "width": null
      }
     },
     "80124f0a135044fcb46cca44013474ca": {
      "model_module": "@jupyter-widgets/controls",
      "model_module_version": "1.5.0",
      "model_name": "HBoxModel",
      "state": {
       "_dom_classes": [],
       "_model_module": "@jupyter-widgets/controls",
       "_model_module_version": "1.5.0",
       "_model_name": "HBoxModel",
       "_view_count": null,
       "_view_module": "@jupyter-widgets/controls",
       "_view_module_version": "1.5.0",
       "_view_name": "HBoxView",
       "box_style": "",
       "children": [
        "IPY_MODEL_91e90811d15e4499b1883278b9aca586",
        "IPY_MODEL_19c218fae38d4dea907273506389cb9d",
        "IPY_MODEL_fcbd8a44a35f4fd6ab6c46e5490701bb"
       ],
       "layout": "IPY_MODEL_1d47101002fc49eebf87463d53f0726c"
      }
     },
     "811669ace8aa42faa9ac90202f52a6ac": {
      "model_module": "@jupyter-widgets/controls",
      "model_module_version": "1.5.0",
      "model_name": "DescriptionStyleModel",
      "state": {
       "_model_module": "@jupyter-widgets/controls",
       "_model_module_version": "1.5.0",
       "_model_name": "DescriptionStyleModel",
       "_view_count": null,
       "_view_module": "@jupyter-widgets/base",
       "_view_module_version": "1.2.0",
       "_view_name": "StyleView",
       "description_width": ""
      }
     },
     "8179754423be44d792d9a1447d02b00d": {
      "model_module": "@jupyter-widgets/base",
      "model_module_version": "1.2.0",
      "model_name": "LayoutModel",
      "state": {
       "_model_module": "@jupyter-widgets/base",
       "_model_module_version": "1.2.0",
       "_model_name": "LayoutModel",
       "_view_count": null,
       "_view_module": "@jupyter-widgets/base",
       "_view_module_version": "1.2.0",
       "_view_name": "LayoutView",
       "align_content": null,
       "align_items": null,
       "align_self": null,
       "border": null,
       "bottom": null,
       "display": null,
       "flex": null,
       "flex_flow": null,
       "grid_area": null,
       "grid_auto_columns": null,
       "grid_auto_flow": null,
       "grid_auto_rows": null,
       "grid_column": null,
       "grid_gap": null,
       "grid_row": null,
       "grid_template_areas": null,
       "grid_template_columns": null,
       "grid_template_rows": null,
       "height": null,
       "justify_content": null,
       "justify_items": null,
       "left": null,
       "margin": null,
       "max_height": null,
       "max_width": null,
       "min_height": null,
       "min_width": null,
       "object_fit": null,
       "object_position": null,
       "order": null,
       "overflow": null,
       "overflow_x": null,
       "overflow_y": null,
       "padding": null,
       "right": null,
       "top": null,
       "visibility": null,
       "width": null
      }
     },
     "84f1bd7371f44489b9352641f2014052": {
      "model_module": "@jupyter-widgets/base",
      "model_module_version": "1.2.0",
      "model_name": "LayoutModel",
      "state": {
       "_model_module": "@jupyter-widgets/base",
       "_model_module_version": "1.2.0",
       "_model_name": "LayoutModel",
       "_view_count": null,
       "_view_module": "@jupyter-widgets/base",
       "_view_module_version": "1.2.0",
       "_view_name": "LayoutView",
       "align_content": null,
       "align_items": null,
       "align_self": null,
       "border": null,
       "bottom": null,
       "display": null,
       "flex": null,
       "flex_flow": null,
       "grid_area": null,
       "grid_auto_columns": null,
       "grid_auto_flow": null,
       "grid_auto_rows": null,
       "grid_column": null,
       "grid_gap": null,
       "grid_row": null,
       "grid_template_areas": null,
       "grid_template_columns": null,
       "grid_template_rows": null,
       "height": null,
       "justify_content": null,
       "justify_items": null,
       "left": null,
       "margin": null,
       "max_height": null,
       "max_width": null,
       "min_height": null,
       "min_width": null,
       "object_fit": null,
       "object_position": null,
       "order": null,
       "overflow": null,
       "overflow_x": null,
       "overflow_y": null,
       "padding": null,
       "right": null,
       "top": null,
       "visibility": null,
       "width": null
      }
     },
     "85f6db261a9f423293468cc6a26e3c5d": {
      "model_module": "@jupyter-widgets/controls",
      "model_module_version": "1.5.0",
      "model_name": "ProgressStyleModel",
      "state": {
       "_model_module": "@jupyter-widgets/controls",
       "_model_module_version": "1.5.0",
       "_model_name": "ProgressStyleModel",
       "_view_count": null,
       "_view_module": "@jupyter-widgets/base",
       "_view_module_version": "1.2.0",
       "_view_name": "StyleView",
       "bar_color": null,
       "description_width": ""
      }
     },
     "873a471b2e964a0d9cdc93defcb9733d": {
      "model_module": "@jupyter-widgets/base",
      "model_module_version": "1.2.0",
      "model_name": "LayoutModel",
      "state": {
       "_model_module": "@jupyter-widgets/base",
       "_model_module_version": "1.2.0",
       "_model_name": "LayoutModel",
       "_view_count": null,
       "_view_module": "@jupyter-widgets/base",
       "_view_module_version": "1.2.0",
       "_view_name": "LayoutView",
       "align_content": null,
       "align_items": null,
       "align_self": null,
       "border": null,
       "bottom": null,
       "display": null,
       "flex": null,
       "flex_flow": null,
       "grid_area": null,
       "grid_auto_columns": null,
       "grid_auto_flow": null,
       "grid_auto_rows": null,
       "grid_column": null,
       "grid_gap": null,
       "grid_row": null,
       "grid_template_areas": null,
       "grid_template_columns": null,
       "grid_template_rows": null,
       "height": null,
       "justify_content": null,
       "justify_items": null,
       "left": null,
       "margin": null,
       "max_height": null,
       "max_width": null,
       "min_height": null,
       "min_width": null,
       "object_fit": null,
       "object_position": null,
       "order": null,
       "overflow": null,
       "overflow_x": null,
       "overflow_y": null,
       "padding": null,
       "right": null,
       "top": null,
       "visibility": null,
       "width": null
      }
     },
     "87691015875048c69c58f680edc24a0f": {
      "model_module": "@jupyter-widgets/controls",
      "model_module_version": "1.5.0",
      "model_name": "HTMLModel",
      "state": {
       "_dom_classes": [],
       "_model_module": "@jupyter-widgets/controls",
       "_model_module_version": "1.5.0",
       "_model_name": "HTMLModel",
       "_view_count": null,
       "_view_module": "@jupyter-widgets/controls",
       "_view_module_version": "1.5.0",
       "_view_name": "HTMLView",
       "description": "",
       "description_tooltip": null,
       "layout": "IPY_MODEL_7fcf1a95629f47dcbc969500452dba74",
       "placeholder": "​",
       "style": "IPY_MODEL_bb4d84c2c62a454aa1e3a5b6a4c7b279",
       "value": " 229/229 [00:00&lt;00:00, 7.16kB/s]"
      }
     },
     "89d62dd73ed648feabb07bf870d6510c": {
      "model_module": "@jupyter-widgets/controls",
      "model_module_version": "1.5.0",
      "model_name": "HTMLModel",
      "state": {
       "_dom_classes": [],
       "_model_module": "@jupyter-widgets/controls",
       "_model_module_version": "1.5.0",
       "_model_name": "HTMLModel",
       "_view_count": null,
       "_view_module": "@jupyter-widgets/controls",
       "_view_module_version": "1.5.0",
       "_view_name": "HTMLView",
       "description": "",
       "description_tooltip": null,
       "layout": "IPY_MODEL_a364178fde01495e963c093ff68ae126",
       "placeholder": "​",
       "style": "IPY_MODEL_0b390d8985d84895be919582c0c72fce",
       "value": "Downloading: 100%"
      }
     },
     "8fe27df7b39341c9984cc343a980659b": {
      "model_module": "@jupyter-widgets/base",
      "model_module_version": "1.2.0",
      "model_name": "LayoutModel",
      "state": {
       "_model_module": "@jupyter-widgets/base",
       "_model_module_version": "1.2.0",
       "_model_name": "LayoutModel",
       "_view_count": null,
       "_view_module": "@jupyter-widgets/base",
       "_view_module_version": "1.2.0",
       "_view_name": "LayoutView",
       "align_content": null,
       "align_items": null,
       "align_self": null,
       "border": null,
       "bottom": null,
       "display": null,
       "flex": null,
       "flex_flow": null,
       "grid_area": null,
       "grid_auto_columns": null,
       "grid_auto_flow": null,
       "grid_auto_rows": null,
       "grid_column": null,
       "grid_gap": null,
       "grid_row": null,
       "grid_template_areas": null,
       "grid_template_columns": null,
       "grid_template_rows": null,
       "height": null,
       "justify_content": null,
       "justify_items": null,
       "left": null,
       "margin": null,
       "max_height": null,
       "max_width": null,
       "min_height": null,
       "min_width": null,
       "object_fit": null,
       "object_position": null,
       "order": null,
       "overflow": null,
       "overflow_x": null,
       "overflow_y": null,
       "padding": null,
       "right": null,
       "top": null,
       "visibility": null,
       "width": null
      }
     },
     "912eed26c62746e18bc4f777e62f0de2": {
      "model_module": "@jupyter-widgets/base",
      "model_module_version": "1.2.0",
      "model_name": "LayoutModel",
      "state": {
       "_model_module": "@jupyter-widgets/base",
       "_model_module_version": "1.2.0",
       "_model_name": "LayoutModel",
       "_view_count": null,
       "_view_module": "@jupyter-widgets/base",
       "_view_module_version": "1.2.0",
       "_view_name": "LayoutView",
       "align_content": null,
       "align_items": null,
       "align_self": null,
       "border": null,
       "bottom": null,
       "display": null,
       "flex": null,
       "flex_flow": null,
       "grid_area": null,
       "grid_auto_columns": null,
       "grid_auto_flow": null,
       "grid_auto_rows": null,
       "grid_column": null,
       "grid_gap": null,
       "grid_row": null,
       "grid_template_areas": null,
       "grid_template_columns": null,
       "grid_template_rows": null,
       "height": null,
       "justify_content": null,
       "justify_items": null,
       "left": null,
       "margin": null,
       "max_height": null,
       "max_width": null,
       "min_height": null,
       "min_width": null,
       "object_fit": null,
       "object_position": null,
       "order": null,
       "overflow": null,
       "overflow_x": null,
       "overflow_y": null,
       "padding": null,
       "right": null,
       "top": null,
       "visibility": null,
       "width": null
      }
     },
     "91e90811d15e4499b1883278b9aca586": {
      "model_module": "@jupyter-widgets/controls",
      "model_module_version": "1.5.0",
      "model_name": "HTMLModel",
      "state": {
       "_dom_classes": [],
       "_model_module": "@jupyter-widgets/controls",
       "_model_module_version": "1.5.0",
       "_model_name": "HTMLModel",
       "_view_count": null,
       "_view_module": "@jupyter-widgets/controls",
       "_view_module_version": "1.5.0",
       "_view_name": "HTMLView",
       "description": "",
       "description_tooltip": null,
       "layout": "IPY_MODEL_d2bd346758254c5b89683f06fb448968",
       "placeholder": "​",
       "style": "IPY_MODEL_98f41df9a60846b0a35bd00e10a03a5f",
       "value": "Downloading: 100%"
      }
     },
     "94d53c1c5c91417f906467a4e47b955e": {
      "model_module": "@jupyter-widgets/controls",
      "model_module_version": "1.5.0",
      "model_name": "HBoxModel",
      "state": {
       "_dom_classes": [],
       "_model_module": "@jupyter-widgets/controls",
       "_model_module_version": "1.5.0",
       "_model_name": "HBoxModel",
       "_view_count": null,
       "_view_module": "@jupyter-widgets/controls",
       "_view_module_version": "1.5.0",
       "_view_name": "HBoxView",
       "box_style": "",
       "children": [
        "IPY_MODEL_89d62dd73ed648feabb07bf870d6510c",
        "IPY_MODEL_9f46f2eb19f94d02ac4b396c81b31d3d",
        "IPY_MODEL_07e1eb50cf864d41890b57c988f0d616"
       ],
       "layout": "IPY_MODEL_f4d6e45f34d840ae9d550ef7a464a9a0"
      }
     },
     "968aded1e2864e7ab6948c46caf9c67e": {
      "model_module": "@jupyter-widgets/controls",
      "model_module_version": "1.5.0",
      "model_name": "HBoxModel",
      "state": {
       "_dom_classes": [],
       "_model_module": "@jupyter-widgets/controls",
       "_model_module_version": "1.5.0",
       "_model_name": "HBoxModel",
       "_view_count": null,
       "_view_module": "@jupyter-widgets/controls",
       "_view_module_version": "1.5.0",
       "_view_name": "HBoxView",
       "box_style": "",
       "children": [
        "IPY_MODEL_9e6f3488ec7f4735ba196b0a69dd42a6",
        "IPY_MODEL_fe155d24b9b04b59bef0cd359108d342",
        "IPY_MODEL_5d0f879375cb4dd49166e806c5c259b1"
       ],
       "layout": "IPY_MODEL_e5c440a0ccc04fdbbeea984144bd9078"
      }
     },
     "98f41df9a60846b0a35bd00e10a03a5f": {
      "model_module": "@jupyter-widgets/controls",
      "model_module_version": "1.5.0",
      "model_name": "DescriptionStyleModel",
      "state": {
       "_model_module": "@jupyter-widgets/controls",
       "_model_module_version": "1.5.0",
       "_model_name": "DescriptionStyleModel",
       "_view_count": null,
       "_view_module": "@jupyter-widgets/base",
       "_view_module_version": "1.2.0",
       "_view_name": "StyleView",
       "description_width": ""
      }
     },
     "9e6f3488ec7f4735ba196b0a69dd42a6": {
      "model_module": "@jupyter-widgets/controls",
      "model_module_version": "1.5.0",
      "model_name": "HTMLModel",
      "state": {
       "_dom_classes": [],
       "_model_module": "@jupyter-widgets/controls",
       "_model_module_version": "1.5.0",
       "_model_name": "HTMLModel",
       "_view_count": null,
       "_view_module": "@jupyter-widgets/controls",
       "_view_module_version": "1.5.0",
       "_view_name": "HTMLView",
       "description": "",
       "description_tooltip": null,
       "layout": "IPY_MODEL_be883e3ce3524ecf8eb626c4329a6a42",
       "placeholder": "​",
       "style": "IPY_MODEL_e81a9b37a61b4111bb5d96512b56d65d",
       "value": "Downloading: 100%"
      }
     },
     "9f46f2eb19f94d02ac4b396c81b31d3d": {
      "model_module": "@jupyter-widgets/controls",
      "model_module_version": "1.5.0",
      "model_name": "FloatProgressModel",
      "state": {
       "_dom_classes": [],
       "_model_module": "@jupyter-widgets/controls",
       "_model_module_version": "1.5.0",
       "_model_name": "FloatProgressModel",
       "_view_count": null,
       "_view_module": "@jupyter-widgets/controls",
       "_view_module_version": "1.5.0",
       "_view_name": "ProgressView",
       "bar_style": "success",
       "description": "",
       "description_tooltip": null,
       "layout": "IPY_MODEL_8179754423be44d792d9a1447d02b00d",
       "max": 190.0,
       "min": 0.0,
       "orientation": "horizontal",
       "style": "IPY_MODEL_d23b51e5285a4b3dbc6580724f8fbded",
       "value": 190.0
      }
     },
     "a072ede1b3464a6980213122f45e8a2a": {
      "model_module": "@jupyter-widgets/controls",
      "model_module_version": "1.5.0",
      "model_name": "HTMLModel",
      "state": {
       "_dom_classes": [],
       "_model_module": "@jupyter-widgets/controls",
       "_model_module_version": "1.5.0",
       "_model_name": "HTMLModel",
       "_view_count": null,
       "_view_module": "@jupyter-widgets/controls",
       "_view_module_version": "1.5.0",
       "_view_name": "HTMLView",
       "description": "",
       "description_tooltip": null,
       "layout": "IPY_MODEL_f541f3c562424d968c1c3a4bc479d3c5",
       "placeholder": "​",
       "style": "IPY_MODEL_e67d9f45b91c4fc9b7f4befb7b67b146",
       "value": " 723/723 [00:00&lt;00:00, 23.2kB/s]"
      }
     },
     "a196a8bceac5491fb3e04b6dc8189636": {
      "model_module": "@jupyter-widgets/controls",
      "model_module_version": "1.5.0",
      "model_name": "HTMLModel",
      "state": {
       "_dom_classes": [],
       "_model_module": "@jupyter-widgets/controls",
       "_model_module_version": "1.5.0",
       "_model_name": "HTMLModel",
       "_view_count": null,
       "_view_module": "@jupyter-widgets/controls",
       "_view_module_version": "1.5.0",
       "_view_name": "HTMLView",
       "description": "",
       "description_tooltip": null,
       "layout": "IPY_MODEL_40db854060e046f6a3166f558c8b70ca",
       "placeholder": "​",
       "style": "IPY_MODEL_d493cefe7c654839b2510b53efeaed55",
       "value": " 1/1 [4:41:59&lt;00:00, 16919.10s/it]"
      }
     },
     "a32f7c024aff4a6fa6e591672daff1e6": {
      "model_module": "@jupyter-widgets/controls",
      "model_module_version": "1.5.0",
      "model_name": "DescriptionStyleModel",
      "state": {
       "_model_module": "@jupyter-widgets/controls",
       "_model_module_version": "1.5.0",
       "_model_name": "DescriptionStyleModel",
       "_view_count": null,
       "_view_module": "@jupyter-widgets/base",
       "_view_module_version": "1.2.0",
       "_view_name": "StyleView",
       "description_width": ""
      }
     },
     "a364178fde01495e963c093ff68ae126": {
      "model_module": "@jupyter-widgets/base",
      "model_module_version": "1.2.0",
      "model_name": "LayoutModel",
      "state": {
       "_model_module": "@jupyter-widgets/base",
       "_model_module_version": "1.2.0",
       "_model_name": "LayoutModel",
       "_view_count": null,
       "_view_module": "@jupyter-widgets/base",
       "_view_module_version": "1.2.0",
       "_view_name": "LayoutView",
       "align_content": null,
       "align_items": null,
       "align_self": null,
       "border": null,
       "bottom": null,
       "display": null,
       "flex": null,
       "flex_flow": null,
       "grid_area": null,
       "grid_auto_columns": null,
       "grid_auto_flow": null,
       "grid_auto_rows": null,
       "grid_column": null,
       "grid_gap": null,
       "grid_row": null,
       "grid_template_areas": null,
       "grid_template_columns": null,
       "grid_template_rows": null,
       "height": null,
       "justify_content": null,
       "justify_items": null,
       "left": null,
       "margin": null,
       "max_height": null,
       "max_width": null,
       "min_height": null,
       "min_width": null,
       "object_fit": null,
       "object_position": null,
       "order": null,
       "overflow": null,
       "overflow_x": null,
       "overflow_y": null,
       "padding": null,
       "right": null,
       "top": null,
       "visibility": null,
       "width": null
      }
     },
     "a8ee92b0df44479e8694637b33d15758": {
      "model_module": "@jupyter-widgets/controls",
      "model_module_version": "1.5.0",
      "model_name": "FloatProgressModel",
      "state": {
       "_dom_classes": [],
       "_model_module": "@jupyter-widgets/controls",
       "_model_module_version": "1.5.0",
       "_model_name": "FloatProgressModel",
       "_view_count": null,
       "_view_module": "@jupyter-widgets/controls",
       "_view_module_version": "1.5.0",
       "_view_name": "ProgressView",
       "bar_style": "success",
       "description": "",
       "description_tooltip": null,
       "layout": "IPY_MODEL_357d4f2997f541029d8382438954334e",
       "max": 962.0,
       "min": 0.0,
       "orientation": "horizontal",
       "style": "IPY_MODEL_d69044c65ced46cd9ba2ee3142876f2f",
       "value": 962.0
      }
     },
     "aa78e2de4cab4eabbc6da9032522af77": {
      "model_module": "@jupyter-widgets/base",
      "model_module_version": "1.2.0",
      "model_name": "LayoutModel",
      "state": {
       "_model_module": "@jupyter-widgets/base",
       "_model_module_version": "1.2.0",
       "_model_name": "LayoutModel",
       "_view_count": null,
       "_view_module": "@jupyter-widgets/base",
       "_view_module_version": "1.2.0",
       "_view_name": "LayoutView",
       "align_content": null,
       "align_items": null,
       "align_self": null,
       "border": null,
       "bottom": null,
       "display": null,
       "flex": null,
       "flex_flow": null,
       "grid_area": null,
       "grid_auto_columns": null,
       "grid_auto_flow": null,
       "grid_auto_rows": null,
       "grid_column": null,
       "grid_gap": null,
       "grid_row": null,
       "grid_template_areas": null,
       "grid_template_columns": null,
       "grid_template_rows": null,
       "height": null,
       "justify_content": null,
       "justify_items": null,
       "left": null,
       "margin": null,
       "max_height": null,
       "max_width": null,
       "min_height": null,
       "min_width": null,
       "object_fit": null,
       "object_position": null,
       "order": null,
       "overflow": null,
       "overflow_x": null,
       "overflow_y": null,
       "padding": null,
       "right": null,
       "top": null,
       "visibility": null,
       "width": null
      }
     },
     "aa7a9ddeb4b448e3a228d00252acbeab": {
      "model_module": "@jupyter-widgets/controls",
      "model_module_version": "1.5.0",
      "model_name": "HTMLModel",
      "state": {
       "_dom_classes": [],
       "_model_module": "@jupyter-widgets/controls",
       "_model_module_version": "1.5.0",
       "_model_name": "HTMLModel",
       "_view_count": null,
       "_view_module": "@jupyter-widgets/controls",
       "_view_module_version": "1.5.0",
       "_view_name": "HTMLView",
       "description": "",
       "description_tooltip": null,
       "layout": "IPY_MODEL_d0ee88b0d862431a815d522401dff78d",
       "placeholder": "​",
       "style": "IPY_MODEL_e56c7081480044ecab13ddf363f7ce44",
       "value": "Downloading: 100%"
      }
     },
     "ac64c290bfe64e3a8e92fad6255c0d4d": {
      "model_module": "@jupyter-widgets/controls",
      "model_module_version": "1.5.0",
      "model_name": "DescriptionStyleModel",
      "state": {
       "_model_module": "@jupyter-widgets/controls",
       "_model_module_version": "1.5.0",
       "_model_name": "DescriptionStyleModel",
       "_view_count": null,
       "_view_module": "@jupyter-widgets/base",
       "_view_module_version": "1.2.0",
       "_view_name": "StyleView",
       "description_width": ""
      }
     },
     "ac7250acb1e24f0395d38b756b787768": {
      "model_module": "@jupyter-widgets/controls",
      "model_module_version": "1.5.0",
      "model_name": "HBoxModel",
      "state": {
       "_dom_classes": [],
       "_model_module": "@jupyter-widgets/controls",
       "_model_module_version": "1.5.0",
       "_model_name": "HBoxModel",
       "_view_count": null,
       "_view_module": "@jupyter-widgets/controls",
       "_view_module_version": "1.5.0",
       "_view_name": "HBoxView",
       "box_style": "",
       "children": [
        "IPY_MODEL_543547a50fa94fe98409d92486178051",
        "IPY_MODEL_e9281dabe0254f7286c6f70693326859",
        "IPY_MODEL_a072ede1b3464a6980213122f45e8a2a"
       ],
       "layout": "IPY_MODEL_54202df779ff4585b32931ae3356ee13"
      }
     },
     "af4e2d72ea0742a09619ad5d87ee96f0": {
      "model_module": "@jupyter-widgets/controls",
      "model_module_version": "1.5.0",
      "model_name": "DescriptionStyleModel",
      "state": {
       "_model_module": "@jupyter-widgets/controls",
       "_model_module_version": "1.5.0",
       "_model_name": "DescriptionStyleModel",
       "_view_count": null,
       "_view_module": "@jupyter-widgets/base",
       "_view_module_version": "1.2.0",
       "_view_name": "StyleView",
       "description_width": ""
      }
     },
     "b0046ee1e5da43ee91ad0ef240e0e409": {
      "model_module": "@jupyter-widgets/base",
      "model_module_version": "1.2.0",
      "model_name": "LayoutModel",
      "state": {
       "_model_module": "@jupyter-widgets/base",
       "_model_module_version": "1.2.0",
       "_model_name": "LayoutModel",
       "_view_count": null,
       "_view_module": "@jupyter-widgets/base",
       "_view_module_version": "1.2.0",
       "_view_name": "LayoutView",
       "align_content": null,
       "align_items": null,
       "align_self": null,
       "border": null,
       "bottom": null,
       "display": null,
       "flex": null,
       "flex_flow": null,
       "grid_area": null,
       "grid_auto_columns": null,
       "grid_auto_flow": null,
       "grid_auto_rows": null,
       "grid_column": null,
       "grid_gap": null,
       "grid_row": null,
       "grid_template_areas": null,
       "grid_template_columns": null,
       "grid_template_rows": null,
       "height": null,
       "justify_content": null,
       "justify_items": null,
       "left": null,
       "margin": null,
       "max_height": null,
       "max_width": null,
       "min_height": null,
       "min_width": null,
       "object_fit": null,
       "object_position": null,
       "order": null,
       "overflow": null,
       "overflow_x": null,
       "overflow_y": null,
       "padding": null,
       "right": null,
       "top": null,
       "visibility": null,
       "width": null
      }
     },
     "b23fb15137214902bb41ec025fb113c8": {
      "model_module": "@jupyter-widgets/base",
      "model_module_version": "1.2.0",
      "model_name": "LayoutModel",
      "state": {
       "_model_module": "@jupyter-widgets/base",
       "_model_module_version": "1.2.0",
       "_model_name": "LayoutModel",
       "_view_count": null,
       "_view_module": "@jupyter-widgets/base",
       "_view_module_version": "1.2.0",
       "_view_name": "LayoutView",
       "align_content": null,
       "align_items": null,
       "align_self": null,
       "border": null,
       "bottom": null,
       "display": null,
       "flex": null,
       "flex_flow": null,
       "grid_area": null,
       "grid_auto_columns": null,
       "grid_auto_flow": null,
       "grid_auto_rows": null,
       "grid_column": null,
       "grid_gap": null,
       "grid_row": null,
       "grid_template_areas": null,
       "grid_template_columns": null,
       "grid_template_rows": null,
       "height": null,
       "justify_content": null,
       "justify_items": null,
       "left": null,
       "margin": null,
       "max_height": null,
       "max_width": null,
       "min_height": null,
       "min_width": null,
       "object_fit": null,
       "object_position": null,
       "order": null,
       "overflow": null,
       "overflow_x": null,
       "overflow_y": null,
       "padding": null,
       "right": null,
       "top": null,
       "visibility": null,
       "width": null
      }
     },
     "b2d4aee8a9f442dfac68ea2a26efb640": {
      "model_module": "@jupyter-widgets/controls",
      "model_module_version": "1.5.0",
      "model_name": "ProgressStyleModel",
      "state": {
       "_model_module": "@jupyter-widgets/controls",
       "_model_module_version": "1.5.0",
       "_model_name": "ProgressStyleModel",
       "_view_count": null,
       "_view_module": "@jupyter-widgets/base",
       "_view_module_version": "1.2.0",
       "_view_name": "StyleView",
       "bar_color": null,
       "description_width": ""
      }
     },
     "b3849c42e70b410180340d6e56f88d1a": {
      "model_module": "@jupyter-widgets/base",
      "model_module_version": "1.2.0",
      "model_name": "LayoutModel",
      "state": {
       "_model_module": "@jupyter-widgets/base",
       "_model_module_version": "1.2.0",
       "_model_name": "LayoutModel",
       "_view_count": null,
       "_view_module": "@jupyter-widgets/base",
       "_view_module_version": "1.2.0",
       "_view_name": "LayoutView",
       "align_content": null,
       "align_items": null,
       "align_self": null,
       "border": null,
       "bottom": null,
       "display": null,
       "flex": null,
       "flex_flow": null,
       "grid_area": null,
       "grid_auto_columns": null,
       "grid_auto_flow": null,
       "grid_auto_rows": null,
       "grid_column": null,
       "grid_gap": null,
       "grid_row": null,
       "grid_template_areas": null,
       "grid_template_columns": null,
       "grid_template_rows": null,
       "height": null,
       "justify_content": null,
       "justify_items": null,
       "left": null,
       "margin": null,
       "max_height": null,
       "max_width": null,
       "min_height": null,
       "min_width": null,
       "object_fit": null,
       "object_position": null,
       "order": null,
       "overflow": null,
       "overflow_x": null,
       "overflow_y": null,
       "padding": null,
       "right": null,
       "top": null,
       "visibility": null,
       "width": null
      }
     },
     "b3b4a37ee2ca485185f26cc4a24bcfdc": {
      "model_module": "@jupyter-widgets/controls",
      "model_module_version": "1.5.0",
      "model_name": "DescriptionStyleModel",
      "state": {
       "_model_module": "@jupyter-widgets/controls",
       "_model_module_version": "1.5.0",
       "_model_name": "DescriptionStyleModel",
       "_view_count": null,
       "_view_module": "@jupyter-widgets/base",
       "_view_module_version": "1.2.0",
       "_view_name": "StyleView",
       "description_width": ""
      }
     },
     "b3c11f7e7e884240945d168574de34b4": {
      "model_module": "@jupyter-widgets/controls",
      "model_module_version": "1.5.0",
      "model_name": "HTMLModel",
      "state": {
       "_dom_classes": [],
       "_model_module": "@jupyter-widgets/controls",
       "_model_module_version": "1.5.0",
       "_model_name": "HTMLModel",
       "_view_count": null,
       "_view_module": "@jupyter-widgets/controls",
       "_view_module_version": "1.5.0",
       "_view_name": "HTMLView",
       "description": "",
       "description_tooltip": null,
       "layout": "IPY_MODEL_4499d8400121477b98185dfe381aa531",
       "placeholder": "​",
       "style": "IPY_MODEL_811669ace8aa42faa9ac90202f52a6ac",
       "value": "Downloading: 100%"
      }
     },
     "b6de785634e648d1b2d7b96a7c6881a5": {
      "model_module": "@jupyter-widgets/base",
      "model_module_version": "1.2.0",
      "model_name": "LayoutModel",
      "state": {
       "_model_module": "@jupyter-widgets/base",
       "_model_module_version": "1.2.0",
       "_model_name": "LayoutModel",
       "_view_count": null,
       "_view_module": "@jupyter-widgets/base",
       "_view_module_version": "1.2.0",
       "_view_name": "LayoutView",
       "align_content": null,
       "align_items": null,
       "align_self": null,
       "border": null,
       "bottom": null,
       "display": null,
       "flex": null,
       "flex_flow": null,
       "grid_area": null,
       "grid_auto_columns": null,
       "grid_auto_flow": null,
       "grid_auto_rows": null,
       "grid_column": null,
       "grid_gap": null,
       "grid_row": null,
       "grid_template_areas": null,
       "grid_template_columns": null,
       "grid_template_rows": null,
       "height": null,
       "justify_content": null,
       "justify_items": null,
       "left": null,
       "margin": null,
       "max_height": null,
       "max_width": null,
       "min_height": null,
       "min_width": null,
       "object_fit": null,
       "object_position": null,
       "order": null,
       "overflow": null,
       "overflow_x": null,
       "overflow_y": null,
       "padding": null,
       "right": null,
       "top": null,
       "visibility": null,
       "width": null
      }
     },
     "b73132c73fec46f7829835fb84b17f5c": {
      "model_module": "@jupyter-widgets/base",
      "model_module_version": "1.2.0",
      "model_name": "LayoutModel",
      "state": {
       "_model_module": "@jupyter-widgets/base",
       "_model_module_version": "1.2.0",
       "_model_name": "LayoutModel",
       "_view_count": null,
       "_view_module": "@jupyter-widgets/base",
       "_view_module_version": "1.2.0",
       "_view_name": "LayoutView",
       "align_content": null,
       "align_items": null,
       "align_self": null,
       "border": null,
       "bottom": null,
       "display": null,
       "flex": null,
       "flex_flow": null,
       "grid_area": null,
       "grid_auto_columns": null,
       "grid_auto_flow": null,
       "grid_auto_rows": null,
       "grid_column": null,
       "grid_gap": null,
       "grid_row": null,
       "grid_template_areas": null,
       "grid_template_columns": null,
       "grid_template_rows": null,
       "height": null,
       "justify_content": null,
       "justify_items": null,
       "left": null,
       "margin": null,
       "max_height": null,
       "max_width": null,
       "min_height": null,
       "min_width": null,
       "object_fit": null,
       "object_position": null,
       "order": null,
       "overflow": null,
       "overflow_x": null,
       "overflow_y": null,
       "padding": null,
       "right": null,
       "top": null,
       "visibility": null,
       "width": null
      }
     },
     "b9a3fe40da4940bca153e05ebdea7d53": {
      "model_module": "@jupyter-widgets/base",
      "model_module_version": "1.2.0",
      "model_name": "LayoutModel",
      "state": {
       "_model_module": "@jupyter-widgets/base",
       "_model_module_version": "1.2.0",
       "_model_name": "LayoutModel",
       "_view_count": null,
       "_view_module": "@jupyter-widgets/base",
       "_view_module_version": "1.2.0",
       "_view_name": "LayoutView",
       "align_content": null,
       "align_items": null,
       "align_self": null,
       "border": null,
       "bottom": null,
       "display": null,
       "flex": null,
       "flex_flow": null,
       "grid_area": null,
       "grid_auto_columns": null,
       "grid_auto_flow": null,
       "grid_auto_rows": null,
       "grid_column": null,
       "grid_gap": null,
       "grid_row": null,
       "grid_template_areas": null,
       "grid_template_columns": null,
       "grid_template_rows": null,
       "height": null,
       "justify_content": null,
       "justify_items": null,
       "left": null,
       "margin": null,
       "max_height": null,
       "max_width": null,
       "min_height": null,
       "min_width": null,
       "object_fit": null,
       "object_position": null,
       "order": null,
       "overflow": null,
       "overflow_x": null,
       "overflow_y": null,
       "padding": null,
       "right": null,
       "top": null,
       "visibility": null,
       "width": null
      }
     },
     "bb3fff6e589f4a90a553cf3355bc4cf8": {
      "model_module": "@jupyter-widgets/controls",
      "model_module_version": "1.5.0",
      "model_name": "FloatProgressModel",
      "state": {
       "_dom_classes": [],
       "_model_module": "@jupyter-widgets/controls",
       "_model_module_version": "1.5.0",
       "_model_name": "FloatProgressModel",
       "_view_count": null,
       "_view_module": "@jupyter-widgets/controls",
       "_view_module_version": "1.5.0",
       "_view_name": "ProgressView",
       "bar_style": "success",
       "description": "",
       "description_tooltip": null,
       "layout": "IPY_MODEL_d1729e0ea2844f1b826a1b418a7cfef5",
       "max": 1.0,
       "min": 0.0,
       "orientation": "horizontal",
       "style": "IPY_MODEL_102efd3613114648aff9661da14c42b2",
       "value": 1.0
      }
     },
     "bb4d84c2c62a454aa1e3a5b6a4c7b279": {
      "model_module": "@jupyter-widgets/controls",
      "model_module_version": "1.5.0",
      "model_name": "DescriptionStyleModel",
      "state": {
       "_model_module": "@jupyter-widgets/controls",
       "_model_module_version": "1.5.0",
       "_model_name": "DescriptionStyleModel",
       "_view_count": null,
       "_view_module": "@jupyter-widgets/base",
       "_view_module_version": "1.2.0",
       "_view_name": "StyleView",
       "description_width": ""
      }
     },
     "be883e3ce3524ecf8eb626c4329a6a42": {
      "model_module": "@jupyter-widgets/base",
      "model_module_version": "1.2.0",
      "model_name": "LayoutModel",
      "state": {
       "_model_module": "@jupyter-widgets/base",
       "_model_module_version": "1.2.0",
       "_model_name": "LayoutModel",
       "_view_count": null,
       "_view_module": "@jupyter-widgets/base",
       "_view_module_version": "1.2.0",
       "_view_name": "LayoutView",
       "align_content": null,
       "align_items": null,
       "align_self": null,
       "border": null,
       "bottom": null,
       "display": null,
       "flex": null,
       "flex_flow": null,
       "grid_area": null,
       "grid_auto_columns": null,
       "grid_auto_flow": null,
       "grid_auto_rows": null,
       "grid_column": null,
       "grid_gap": null,
       "grid_row": null,
       "grid_template_areas": null,
       "grid_template_columns": null,
       "grid_template_rows": null,
       "height": null,
       "justify_content": null,
       "justify_items": null,
       "left": null,
       "margin": null,
       "max_height": null,
       "max_width": null,
       "min_height": null,
       "min_width": null,
       "object_fit": null,
       "object_position": null,
       "order": null,
       "overflow": null,
       "overflow_x": null,
       "overflow_y": null,
       "padding": null,
       "right": null,
       "top": null,
       "visibility": null,
       "width": null
      }
     },
     "c21716a1dab44a89bf18db64ce593cf8": {
      "model_module": "@jupyter-widgets/base",
      "model_module_version": "1.2.0",
      "model_name": "LayoutModel",
      "state": {
       "_model_module": "@jupyter-widgets/base",
       "_model_module_version": "1.2.0",
       "_model_name": "LayoutModel",
       "_view_count": null,
       "_view_module": "@jupyter-widgets/base",
       "_view_module_version": "1.2.0",
       "_view_name": "LayoutView",
       "align_content": null,
       "align_items": null,
       "align_self": null,
       "border": null,
       "bottom": null,
       "display": null,
       "flex": null,
       "flex_flow": null,
       "grid_area": null,
       "grid_auto_columns": null,
       "grid_auto_flow": null,
       "grid_auto_rows": null,
       "grid_column": null,
       "grid_gap": null,
       "grid_row": null,
       "grid_template_areas": null,
       "grid_template_columns": null,
       "grid_template_rows": null,
       "height": null,
       "justify_content": null,
       "justify_items": null,
       "left": null,
       "margin": null,
       "max_height": null,
       "max_width": null,
       "min_height": null,
       "min_width": null,
       "object_fit": null,
       "object_position": null,
       "order": null,
       "overflow": null,
       "overflow_x": null,
       "overflow_y": null,
       "padding": null,
       "right": null,
       "top": null,
       "visibility": null,
       "width": null
      }
     },
     "c3c22cb2fe634f48b48dde13725858d6": {
      "model_module": "@jupyter-widgets/controls",
      "model_module_version": "1.5.0",
      "model_name": "DescriptionStyleModel",
      "state": {
       "_model_module": "@jupyter-widgets/controls",
       "_model_module_version": "1.5.0",
       "_model_name": "DescriptionStyleModel",
       "_view_count": null,
       "_view_module": "@jupyter-widgets/base",
       "_view_module_version": "1.2.0",
       "_view_name": "StyleView",
       "description_width": ""
      }
     },
     "c3de8350b121403c8785be87bff5adc8": {
      "model_module": "@jupyter-widgets/controls",
      "model_module_version": "1.5.0",
      "model_name": "HTMLModel",
      "state": {
       "_dom_classes": [],
       "_model_module": "@jupyter-widgets/controls",
       "_model_module_version": "1.5.0",
       "_model_name": "HTMLModel",
       "_view_count": null,
       "_view_module": "@jupyter-widgets/controls",
       "_view_module_version": "1.5.0",
       "_view_name": "HTMLView",
       "description": "",
       "description_tooltip": null,
       "layout": "IPY_MODEL_4a8b9614efb4449e905a10eb2d89e30b",
       "placeholder": "​",
       "style": "IPY_MODEL_e6835097004c4c0d9e797f7dbc167fa4",
       "value": " 402/402 [00:00&lt;00:00, 14.0kB/s]"
      }
     },
     "c51d25ad9a8746b39d9f485a9f0eabc4": {
      "model_module": "@jupyter-widgets/controls",
      "model_module_version": "1.5.0",
      "model_name": "FloatProgressModel",
      "state": {
       "_dom_classes": [],
       "_model_module": "@jupyter-widgets/controls",
       "_model_module_version": "1.5.0",
       "_model_name": "FloatProgressModel",
       "_view_count": null,
       "_view_module": "@jupyter-widgets/controls",
       "_view_module_version": "1.5.0",
       "_view_name": "ProgressView",
       "bar_style": "success",
       "description": "",
       "description_tooltip": null,
       "layout": "IPY_MODEL_76e1f5ef3ebe4cf29cf08ec33806973a",
       "max": 229.0,
       "min": 0.0,
       "orientation": "horizontal",
       "style": "IPY_MODEL_f18b35d224ae4a25ae837c7674d80ea7",
       "value": 229.0
      }
     },
     "c59f11eee86d4d5b8dbc75a3ef4db873": {
      "model_module": "@jupyter-widgets/base",
      "model_module_version": "1.2.0",
      "model_name": "LayoutModel",
      "state": {
       "_model_module": "@jupyter-widgets/base",
       "_model_module_version": "1.2.0",
       "_model_name": "LayoutModel",
       "_view_count": null,
       "_view_module": "@jupyter-widgets/base",
       "_view_module_version": "1.2.0",
       "_view_name": "LayoutView",
       "align_content": null,
       "align_items": null,
       "align_self": null,
       "border": null,
       "bottom": null,
       "display": null,
       "flex": null,
       "flex_flow": null,
       "grid_area": null,
       "grid_auto_columns": null,
       "grid_auto_flow": null,
       "grid_auto_rows": null,
       "grid_column": null,
       "grid_gap": null,
       "grid_row": null,
       "grid_template_areas": null,
       "grid_template_columns": null,
       "grid_template_rows": null,
       "height": null,
       "justify_content": null,
       "justify_items": null,
       "left": null,
       "margin": null,
       "max_height": null,
       "max_width": null,
       "min_height": null,
       "min_width": null,
       "object_fit": null,
       "object_position": null,
       "order": null,
       "overflow": null,
       "overflow_x": null,
       "overflow_y": null,
       "padding": null,
       "right": null,
       "top": null,
       "visibility": null,
       "width": null
      }
     },
     "c9e230a1762e49fbb8188bec7f3afd88": {
      "model_module": "@jupyter-widgets/controls",
      "model_module_version": "1.5.0",
      "model_name": "HBoxModel",
      "state": {
       "_dom_classes": [],
       "_model_module": "@jupyter-widgets/controls",
       "_model_module_version": "1.5.0",
       "_model_name": "HBoxModel",
       "_view_count": null,
       "_view_module": "@jupyter-widgets/controls",
       "_view_module_version": "1.5.0",
       "_view_name": "HBoxView",
       "box_style": "",
       "children": [
        "IPY_MODEL_3466ac2d0ac54b92a98d8147585836e9",
        "IPY_MODEL_c51d25ad9a8746b39d9f485a9f0eabc4",
        "IPY_MODEL_87691015875048c69c58f680edc24a0f"
       ],
       "layout": "IPY_MODEL_f26778ebf86641ba9795ac9d72c51b23"
      }
     },
     "cc00476274d84285a358135cbd52f783": {
      "model_module": "@jupyter-widgets/base",
      "model_module_version": "1.2.0",
      "model_name": "LayoutModel",
      "state": {
       "_model_module": "@jupyter-widgets/base",
       "_model_module_version": "1.2.0",
       "_model_name": "LayoutModel",
       "_view_count": null,
       "_view_module": "@jupyter-widgets/base",
       "_view_module_version": "1.2.0",
       "_view_name": "LayoutView",
       "align_content": null,
       "align_items": null,
       "align_self": null,
       "border": null,
       "bottom": null,
       "display": null,
       "flex": null,
       "flex_flow": null,
       "grid_area": null,
       "grid_auto_columns": null,
       "grid_auto_flow": null,
       "grid_auto_rows": null,
       "grid_column": null,
       "grid_gap": null,
       "grid_row": null,
       "grid_template_areas": null,
       "grid_template_columns": null,
       "grid_template_rows": null,
       "height": null,
       "justify_content": null,
       "justify_items": null,
       "left": null,
       "margin": null,
       "max_height": null,
       "max_width": null,
       "min_height": null,
       "min_width": null,
       "object_fit": null,
       "object_position": null,
       "order": null,
       "overflow": null,
       "overflow_x": null,
       "overflow_y": null,
       "padding": null,
       "right": null,
       "top": null,
       "visibility": null,
       "width": null
      }
     },
     "cfefaf381f3e497c902d21fd9c0f6f8f": {
      "model_module": "@jupyter-widgets/controls",
      "model_module_version": "1.5.0",
      "model_name": "HTMLModel",
      "state": {
       "_dom_classes": [],
       "_model_module": "@jupyter-widgets/controls",
       "_model_module_version": "1.5.0",
       "_model_name": "HTMLModel",
       "_view_count": null,
       "_view_module": "@jupyter-widgets/controls",
       "_view_module_version": "1.5.0",
       "_view_name": "HTMLView",
       "description": "",
       "description_tooltip": null,
       "layout": "IPY_MODEL_67f5f87dd1314adea2923ecee7211372",
       "placeholder": "​",
       "style": "IPY_MODEL_130fb8de066a4097ab1d979b2d86a2f5",
       "value": " 962/962 [4:41:59&lt;00:00, 17.65s/it]"
      }
     },
     "d0ee88b0d862431a815d522401dff78d": {
      "model_module": "@jupyter-widgets/base",
      "model_module_version": "1.2.0",
      "model_name": "LayoutModel",
      "state": {
       "_model_module": "@jupyter-widgets/base",
       "_model_module_version": "1.2.0",
       "_model_name": "LayoutModel",
       "_view_count": null,
       "_view_module": "@jupyter-widgets/base",
       "_view_module_version": "1.2.0",
       "_view_name": "LayoutView",
       "align_content": null,
       "align_items": null,
       "align_self": null,
       "border": null,
       "bottom": null,
       "display": null,
       "flex": null,
       "flex_flow": null,
       "grid_area": null,
       "grid_auto_columns": null,
       "grid_auto_flow": null,
       "grid_auto_rows": null,
       "grid_column": null,
       "grid_gap": null,
       "grid_row": null,
       "grid_template_areas": null,
       "grid_template_columns": null,
       "grid_template_rows": null,
       "height": null,
       "justify_content": null,
       "justify_items": null,
       "left": null,
       "margin": null,
       "max_height": null,
       "max_width": null,
       "min_height": null,
       "min_width": null,
       "object_fit": null,
       "object_position": null,
       "order": null,
       "overflow": null,
       "overflow_x": null,
       "overflow_y": null,
       "padding": null,
       "right": null,
       "top": null,
       "visibility": null,
       "width": null
      }
     },
     "d1729e0ea2844f1b826a1b418a7cfef5": {
      "model_module": "@jupyter-widgets/base",
      "model_module_version": "1.2.0",
      "model_name": "LayoutModel",
      "state": {
       "_model_module": "@jupyter-widgets/base",
       "_model_module_version": "1.2.0",
       "_model_name": "LayoutModel",
       "_view_count": null,
       "_view_module": "@jupyter-widgets/base",
       "_view_module_version": "1.2.0",
       "_view_name": "LayoutView",
       "align_content": null,
       "align_items": null,
       "align_self": null,
       "border": null,
       "bottom": null,
       "display": null,
       "flex": null,
       "flex_flow": null,
       "grid_area": null,
       "grid_auto_columns": null,
       "grid_auto_flow": null,
       "grid_auto_rows": null,
       "grid_column": null,
       "grid_gap": null,
       "grid_row": null,
       "grid_template_areas": null,
       "grid_template_columns": null,
       "grid_template_rows": null,
       "height": null,
       "justify_content": null,
       "justify_items": null,
       "left": null,
       "margin": null,
       "max_height": null,
       "max_width": null,
       "min_height": null,
       "min_width": null,
       "object_fit": null,
       "object_position": null,
       "order": null,
       "overflow": null,
       "overflow_x": null,
       "overflow_y": null,
       "padding": null,
       "right": null,
       "top": null,
       "visibility": null,
       "width": null
      }
     },
     "d21a5d5988e14fd6aa777263b5c6d443": {
      "model_module": "@jupyter-widgets/controls",
      "model_module_version": "1.5.0",
      "model_name": "FloatProgressModel",
      "state": {
       "_dom_classes": [],
       "_model_module": "@jupyter-widgets/controls",
       "_model_module_version": "1.5.0",
       "_model_name": "FloatProgressModel",
       "_view_count": null,
       "_view_module": "@jupyter-widgets/controls",
       "_view_module_version": "1.5.0",
       "_view_name": "ProgressView",
       "bar_style": "success",
       "description": "",
       "description_tooltip": null,
       "layout": "IPY_MODEL_873a471b2e964a0d9cdc93defcb9733d",
       "max": 53.0,
       "min": 0.0,
       "orientation": "horizontal",
       "style": "IPY_MODEL_4915c2739b5945e4a87ed90e4157b952",
       "value": 53.0
      }
     },
     "d23b51e5285a4b3dbc6580724f8fbded": {
      "model_module": "@jupyter-widgets/controls",
      "model_module_version": "1.5.0",
      "model_name": "ProgressStyleModel",
      "state": {
       "_model_module": "@jupyter-widgets/controls",
       "_model_module_version": "1.5.0",
       "_model_name": "ProgressStyleModel",
       "_view_count": null,
       "_view_module": "@jupyter-widgets/base",
       "_view_module_version": "1.2.0",
       "_view_name": "StyleView",
       "bar_color": null,
       "description_width": ""
      }
     },
     "d2bd346758254c5b89683f06fb448968": {
      "model_module": "@jupyter-widgets/base",
      "model_module_version": "1.2.0",
      "model_name": "LayoutModel",
      "state": {
       "_model_module": "@jupyter-widgets/base",
       "_model_module_version": "1.2.0",
       "_model_name": "LayoutModel",
       "_view_count": null,
       "_view_module": "@jupyter-widgets/base",
       "_view_module_version": "1.2.0",
       "_view_name": "LayoutView",
       "align_content": null,
       "align_items": null,
       "align_self": null,
       "border": null,
       "bottom": null,
       "display": null,
       "flex": null,
       "flex_flow": null,
       "grid_area": null,
       "grid_auto_columns": null,
       "grid_auto_flow": null,
       "grid_auto_rows": null,
       "grid_column": null,
       "grid_gap": null,
       "grid_row": null,
       "grid_template_areas": null,
       "grid_template_columns": null,
       "grid_template_rows": null,
       "height": null,
       "justify_content": null,
       "justify_items": null,
       "left": null,
       "margin": null,
       "max_height": null,
       "max_width": null,
       "min_height": null,
       "min_width": null,
       "object_fit": null,
       "object_position": null,
       "order": null,
       "overflow": null,
       "overflow_x": null,
       "overflow_y": null,
       "padding": null,
       "right": null,
       "top": null,
       "visibility": null,
       "width": null
      }
     },
     "d42c772c827c4e7cb1123860c0f299e6": {
      "model_module": "@jupyter-widgets/controls",
      "model_module_version": "1.5.0",
      "model_name": "DescriptionStyleModel",
      "state": {
       "_model_module": "@jupyter-widgets/controls",
       "_model_module_version": "1.5.0",
       "_model_name": "DescriptionStyleModel",
       "_view_count": null,
       "_view_module": "@jupyter-widgets/base",
       "_view_module_version": "1.2.0",
       "_view_name": "StyleView",
       "description_width": ""
      }
     },
     "d493cefe7c654839b2510b53efeaed55": {
      "model_module": "@jupyter-widgets/controls",
      "model_module_version": "1.5.0",
      "model_name": "DescriptionStyleModel",
      "state": {
       "_model_module": "@jupyter-widgets/controls",
       "_model_module_version": "1.5.0",
       "_model_name": "DescriptionStyleModel",
       "_view_count": null,
       "_view_module": "@jupyter-widgets/base",
       "_view_module_version": "1.2.0",
       "_view_name": "StyleView",
       "description_width": ""
      }
     },
     "d50611c66ff3495f8299dbeb6d827431": {
      "model_module": "@jupyter-widgets/controls",
      "model_module_version": "1.5.0",
      "model_name": "ProgressStyleModel",
      "state": {
       "_model_module": "@jupyter-widgets/controls",
       "_model_module_version": "1.5.0",
       "_model_name": "ProgressStyleModel",
       "_view_count": null,
       "_view_module": "@jupyter-widgets/base",
       "_view_module_version": "1.2.0",
       "_view_name": "StyleView",
       "bar_color": null,
       "description_width": ""
      }
     },
     "d69044c65ced46cd9ba2ee3142876f2f": {
      "model_module": "@jupyter-widgets/controls",
      "model_module_version": "1.5.0",
      "model_name": "ProgressStyleModel",
      "state": {
       "_model_module": "@jupyter-widgets/controls",
       "_model_module_version": "1.5.0",
       "_model_name": "ProgressStyleModel",
       "_view_count": null,
       "_view_module": "@jupyter-widgets/base",
       "_view_module_version": "1.2.0",
       "_view_name": "StyleView",
       "bar_color": null,
       "description_width": ""
      }
     },
     "d750d273ff2f4e5a9f38327ff774ad5c": {
      "model_module": "@jupyter-widgets/controls",
      "model_module_version": "1.5.0",
      "model_name": "DescriptionStyleModel",
      "state": {
       "_model_module": "@jupyter-widgets/controls",
       "_model_module_version": "1.5.0",
       "_model_name": "DescriptionStyleModel",
       "_view_count": null,
       "_view_module": "@jupyter-widgets/base",
       "_view_module_version": "1.2.0",
       "_view_name": "StyleView",
       "description_width": ""
      }
     },
     "d750e0afa4e1430d96cceea10c604c22": {
      "model_module": "@jupyter-widgets/controls",
      "model_module_version": "1.5.0",
      "model_name": "ProgressStyleModel",
      "state": {
       "_model_module": "@jupyter-widgets/controls",
       "_model_module_version": "1.5.0",
       "_model_name": "ProgressStyleModel",
       "_view_count": null,
       "_view_module": "@jupyter-widgets/base",
       "_view_module_version": "1.2.0",
       "_view_name": "StyleView",
       "bar_color": null,
       "description_width": ""
      }
     },
     "d7b05371e7144158ab32a498b0c4e147": {
      "model_module": "@jupyter-widgets/controls",
      "model_module_version": "1.5.0",
      "model_name": "DescriptionStyleModel",
      "state": {
       "_model_module": "@jupyter-widgets/controls",
       "_model_module_version": "1.5.0",
       "_model_name": "DescriptionStyleModel",
       "_view_count": null,
       "_view_module": "@jupyter-widgets/base",
       "_view_module_version": "1.2.0",
       "_view_name": "StyleView",
       "description_width": ""
      }
     },
     "d7b8961e78214b0fb1c77817fc0fcb37": {
      "model_module": "@jupyter-widgets/controls",
      "model_module_version": "1.5.0",
      "model_name": "HBoxModel",
      "state": {
       "_dom_classes": [],
       "_model_module": "@jupyter-widgets/controls",
       "_model_module_version": "1.5.0",
       "_model_name": "HBoxModel",
       "_view_count": null,
       "_view_module": "@jupyter-widgets/controls",
       "_view_module_version": "1.5.0",
       "_view_name": "HBoxView",
       "box_style": "",
       "children": [
        "IPY_MODEL_091c9b277832445b845ba8aeb7b159ae",
        "IPY_MODEL_4b7a7ea57d324833b5da1437cd9f016c",
        "IPY_MODEL_0b280e4de7d84ff7bc35240a31076f5c"
       ],
       "layout": "IPY_MODEL_ff5e324283d7445d92b4a28c716c268f"
      }
     },
     "da087be2024843ffbf6e568628ee7dc5": {
      "model_module": "@jupyter-widgets/controls",
      "model_module_version": "1.5.0",
      "model_name": "DescriptionStyleModel",
      "state": {
       "_model_module": "@jupyter-widgets/controls",
       "_model_module_version": "1.5.0",
       "_model_name": "DescriptionStyleModel",
       "_view_count": null,
       "_view_module": "@jupyter-widgets/base",
       "_view_module_version": "1.2.0",
       "_view_name": "StyleView",
       "description_width": ""
      }
     },
     "da910606d4ba497c9a885382e9540f7c": {
      "model_module": "@jupyter-widgets/controls",
      "model_module_version": "1.5.0",
      "model_name": "DescriptionStyleModel",
      "state": {
       "_model_module": "@jupyter-widgets/controls",
       "_model_module_version": "1.5.0",
       "_model_name": "DescriptionStyleModel",
       "_view_count": null,
       "_view_module": "@jupyter-widgets/base",
       "_view_module_version": "1.2.0",
       "_view_name": "StyleView",
       "description_width": ""
      }
     },
     "db91e59158cb4187953b98a7fa293b35": {
      "model_module": "@jupyter-widgets/controls",
      "model_module_version": "1.5.0",
      "model_name": "HBoxModel",
      "state": {
       "_dom_classes": [],
       "_model_module": "@jupyter-widgets/controls",
       "_model_module_version": "1.5.0",
       "_model_name": "HBoxModel",
       "_view_count": null,
       "_view_module": "@jupyter-widgets/controls",
       "_view_module_version": "1.5.0",
       "_view_name": "HBoxView",
       "box_style": "",
       "children": [
        "IPY_MODEL_43f3385800b44e8abf324aa6e504bd65",
        "IPY_MODEL_dce5bd5435474123a76ea498bd5f1f84",
        "IPY_MODEL_159c9cfbf59f40ac92de0b8b6d825df4"
       ],
       "layout": "IPY_MODEL_3b784de3604c4cf1b23693ccde713b45"
      }
     },
     "dbdc3f80fb7e4b9ebf148a2050c6bd3e": {
      "model_module": "@jupyter-widgets/controls",
      "model_module_version": "1.5.0",
      "model_name": "ProgressStyleModel",
      "state": {
       "_model_module": "@jupyter-widgets/controls",
       "_model_module_version": "1.5.0",
       "_model_name": "ProgressStyleModel",
       "_view_count": null,
       "_view_module": "@jupyter-widgets/base",
       "_view_module_version": "1.2.0",
       "_view_name": "StyleView",
       "bar_color": null,
       "description_width": ""
      }
     },
     "dce5bd5435474123a76ea498bd5f1f84": {
      "model_module": "@jupyter-widgets/controls",
      "model_module_version": "1.5.0",
      "model_name": "FloatProgressModel",
      "state": {
       "_dom_classes": [],
       "_model_module": "@jupyter-widgets/controls",
       "_model_module_version": "1.5.0",
       "_model_name": "FloatProgressModel",
       "_view_count": null,
       "_view_module": "@jupyter-widgets/controls",
       "_view_module_version": "1.5.0",
       "_view_name": "ProgressView",
       "bar_style": "success",
       "description": "",
       "description_tooltip": null,
       "layout": "IPY_MODEL_6babd917750a404793533300be32c168",
       "max": 690.0,
       "min": 0.0,
       "orientation": "horizontal",
       "style": "IPY_MODEL_d50611c66ff3495f8299dbeb6d827431",
       "value": 690.0
      }
     },
     "de2b61e9d05449b3932d1f2381d6a90b": {
      "model_module": "@jupyter-widgets/base",
      "model_module_version": "1.2.0",
      "model_name": "LayoutModel",
      "state": {
       "_model_module": "@jupyter-widgets/base",
       "_model_module_version": "1.2.0",
       "_model_name": "LayoutModel",
       "_view_count": null,
       "_view_module": "@jupyter-widgets/base",
       "_view_module_version": "1.2.0",
       "_view_name": "LayoutView",
       "align_content": null,
       "align_items": null,
       "align_self": null,
       "border": null,
       "bottom": null,
       "display": null,
       "flex": null,
       "flex_flow": null,
       "grid_area": null,
       "grid_auto_columns": null,
       "grid_auto_flow": null,
       "grid_auto_rows": null,
       "grid_column": null,
       "grid_gap": null,
       "grid_row": null,
       "grid_template_areas": null,
       "grid_template_columns": null,
       "grid_template_rows": null,
       "height": null,
       "justify_content": null,
       "justify_items": null,
       "left": null,
       "margin": null,
       "max_height": null,
       "max_width": null,
       "min_height": null,
       "min_width": null,
       "object_fit": null,
       "object_position": null,
       "order": null,
       "overflow": null,
       "overflow_x": null,
       "overflow_y": null,
       "padding": null,
       "right": null,
       "top": null,
       "visibility": null,
       "width": null
      }
     },
     "df4efee9aa4b47789361314f92f48254": {
      "model_module": "@jupyter-widgets/controls",
      "model_module_version": "1.5.0",
      "model_name": "ProgressStyleModel",
      "state": {
       "_model_module": "@jupyter-widgets/controls",
       "_model_module_version": "1.5.0",
       "_model_name": "ProgressStyleModel",
       "_view_count": null,
       "_view_module": "@jupyter-widgets/base",
       "_view_module_version": "1.2.0",
       "_view_name": "StyleView",
       "bar_color": null,
       "description_width": ""
      }
     },
     "e1e9e177509f4bc789fc248ab97fdd6c": {
      "model_module": "@jupyter-widgets/controls",
      "model_module_version": "1.5.0",
      "model_name": "ProgressStyleModel",
      "state": {
       "_model_module": "@jupyter-widgets/controls",
       "_model_module_version": "1.5.0",
       "_model_name": "ProgressStyleModel",
       "_view_count": null,
       "_view_module": "@jupyter-widgets/base",
       "_view_module_version": "1.2.0",
       "_view_name": "StyleView",
       "bar_color": null,
       "description_width": ""
      }
     },
     "e564f80a0e0d428786e054a2add67a4a": {
      "model_module": "@jupyter-widgets/controls",
      "model_module_version": "1.5.0",
      "model_name": "HTMLModel",
      "state": {
       "_dom_classes": [],
       "_model_module": "@jupyter-widgets/controls",
       "_model_module_version": "1.5.0",
       "_model_name": "HTMLModel",
       "_view_count": null,
       "_view_module": "@jupyter-widgets/controls",
       "_view_module_version": "1.5.0",
       "_view_name": "HTMLView",
       "description": "",
       "description_tooltip": null,
       "layout": "IPY_MODEL_aa78e2de4cab4eabbc6da9032522af77",
       "placeholder": "​",
       "style": "IPY_MODEL_b3b4a37ee2ca485185f26cc4a24bcfdc",
       "value": "Epoch: 100%"
      }
     },
     "e56c7081480044ecab13ddf363f7ce44": {
      "model_module": "@jupyter-widgets/controls",
      "model_module_version": "1.5.0",
      "model_name": "DescriptionStyleModel",
      "state": {
       "_model_module": "@jupyter-widgets/controls",
       "_model_module_version": "1.5.0",
       "_model_name": "DescriptionStyleModel",
       "_view_count": null,
       "_view_module": "@jupyter-widgets/base",
       "_view_module_version": "1.2.0",
       "_view_name": "StyleView",
       "description_width": ""
      }
     },
     "e5c440a0ccc04fdbbeea984144bd9078": {
      "model_module": "@jupyter-widgets/base",
      "model_module_version": "1.2.0",
      "model_name": "LayoutModel",
      "state": {
       "_model_module": "@jupyter-widgets/base",
       "_model_module_version": "1.2.0",
       "_model_name": "LayoutModel",
       "_view_count": null,
       "_view_module": "@jupyter-widgets/base",
       "_view_module_version": "1.2.0",
       "_view_name": "LayoutView",
       "align_content": null,
       "align_items": null,
       "align_self": null,
       "border": null,
       "bottom": null,
       "display": null,
       "flex": null,
       "flex_flow": null,
       "grid_area": null,
       "grid_auto_columns": null,
       "grid_auto_flow": null,
       "grid_auto_rows": null,
       "grid_column": null,
       "grid_gap": null,
       "grid_row": null,
       "grid_template_areas": null,
       "grid_template_columns": null,
       "grid_template_rows": null,
       "height": null,
       "justify_content": null,
       "justify_items": null,
       "left": null,
       "margin": null,
       "max_height": null,
       "max_width": null,
       "min_height": null,
       "min_width": null,
       "object_fit": null,
       "object_position": null,
       "order": null,
       "overflow": null,
       "overflow_x": null,
       "overflow_y": null,
       "padding": null,
       "right": null,
       "top": null,
       "visibility": null,
       "width": null
      }
     },
     "e67d9f45b91c4fc9b7f4befb7b67b146": {
      "model_module": "@jupyter-widgets/controls",
      "model_module_version": "1.5.0",
      "model_name": "DescriptionStyleModel",
      "state": {
       "_model_module": "@jupyter-widgets/controls",
       "_model_module_version": "1.5.0",
       "_model_name": "DescriptionStyleModel",
       "_view_count": null,
       "_view_module": "@jupyter-widgets/base",
       "_view_module_version": "1.2.0",
       "_view_name": "StyleView",
       "description_width": ""
      }
     },
     "e6835097004c4c0d9e797f7dbc167fa4": {
      "model_module": "@jupyter-widgets/controls",
      "model_module_version": "1.5.0",
      "model_name": "DescriptionStyleModel",
      "state": {
       "_model_module": "@jupyter-widgets/controls",
       "_model_module_version": "1.5.0",
       "_model_name": "DescriptionStyleModel",
       "_view_count": null,
       "_view_module": "@jupyter-widgets/base",
       "_view_module_version": "1.2.0",
       "_view_name": "StyleView",
       "description_width": ""
      }
     },
     "e81a9b37a61b4111bb5d96512b56d65d": {
      "model_module": "@jupyter-widgets/controls",
      "model_module_version": "1.5.0",
      "model_name": "DescriptionStyleModel",
      "state": {
       "_model_module": "@jupyter-widgets/controls",
       "_model_module_version": "1.5.0",
       "_model_name": "DescriptionStyleModel",
       "_view_count": null,
       "_view_module": "@jupyter-widgets/base",
       "_view_module_version": "1.2.0",
       "_view_name": "StyleView",
       "description_width": ""
      }
     },
     "e915d9dea35940239979a163d95c8c3f": {
      "model_module": "@jupyter-widgets/controls",
      "model_module_version": "1.5.0",
      "model_name": "HTMLModel",
      "state": {
       "_dom_classes": [],
       "_model_module": "@jupyter-widgets/controls",
       "_model_module_version": "1.5.0",
       "_model_name": "HTMLModel",
       "_view_count": null,
       "_view_module": "@jupyter-widgets/controls",
       "_view_module_version": "1.5.0",
       "_view_name": "HTMLView",
       "description": "",
       "description_tooltip": null,
       "layout": "IPY_MODEL_cc00476274d84285a358135cbd52f783",
       "placeholder": "​",
       "style": "IPY_MODEL_4215ab79238243a6bc2fa44d63d26e75",
       "value": " 9.08M/9.08M [00:00&lt;00:00, 19.3MB/s]"
      }
     },
     "e9281dabe0254f7286c6f70693326859": {
      "model_module": "@jupyter-widgets/controls",
      "model_module_version": "1.5.0",
      "model_name": "FloatProgressModel",
      "state": {
       "_dom_classes": [],
       "_model_module": "@jupyter-widgets/controls",
       "_model_module_version": "1.5.0",
       "_model_name": "FloatProgressModel",
       "_view_count": null,
       "_view_module": "@jupyter-widgets/controls",
       "_view_module_version": "1.5.0",
       "_view_name": "ProgressView",
       "bar_style": "success",
       "description": "",
       "description_tooltip": null,
       "layout": "IPY_MODEL_26ccb82a62ea4d65b358fccb271e1d13",
       "max": 723.0,
       "min": 0.0,
       "orientation": "horizontal",
       "style": "IPY_MODEL_dbdc3f80fb7e4b9ebf148a2050c6bd3e",
       "value": 723.0
      }
     },
     "ea1b6131ff184745a644e232c47ec9cd": {
      "model_module": "@jupyter-widgets/controls",
      "model_module_version": "1.5.0",
      "model_name": "FloatProgressModel",
      "state": {
       "_dom_classes": [],
       "_model_module": "@jupyter-widgets/controls",
       "_model_module_version": "1.5.0",
       "_model_name": "FloatProgressModel",
       "_view_count": null,
       "_view_module": "@jupyter-widgets/controls",
       "_view_module_version": "1.5.0",
       "_view_name": "ProgressView",
       "bar_style": "success",
       "description": "",
       "description_tooltip": null,
       "layout": "IPY_MODEL_ff77f05b700844098f83c59705e15708",
       "max": 9081518.0,
       "min": 0.0,
       "orientation": "horizontal",
       "style": "IPY_MODEL_df4efee9aa4b47789361314f92f48254",
       "value": 9081518.0
      }
     },
     "edf39ce902b1434f9c3b5d927cd97d80": {
      "model_module": "@jupyter-widgets/controls",
      "model_module_version": "1.5.0",
      "model_name": "HTMLModel",
      "state": {
       "_dom_classes": [],
       "_model_module": "@jupyter-widgets/controls",
       "_model_module_version": "1.5.0",
       "_model_name": "HTMLModel",
       "_view_count": null,
       "_view_module": "@jupyter-widgets/controls",
       "_view_module_version": "1.5.0",
       "_view_name": "HTMLView",
       "description": "",
       "description_tooltip": null,
       "layout": "IPY_MODEL_5c77f47d81ca48a2b50c6f4ca0822223",
       "placeholder": "​",
       "style": "IPY_MODEL_d42c772c827c4e7cb1123860c0f299e6",
       "value": " 53.0/53.0 [00:00&lt;00:00, 1.70kB/s]"
      }
     },
     "f18b35d224ae4a25ae837c7674d80ea7": {
      "model_module": "@jupyter-widgets/controls",
      "model_module_version": "1.5.0",
      "model_name": "ProgressStyleModel",
      "state": {
       "_model_module": "@jupyter-widgets/controls",
       "_model_module_version": "1.5.0",
       "_model_name": "ProgressStyleModel",
       "_view_count": null,
       "_view_module": "@jupyter-widgets/base",
       "_view_module_version": "1.2.0",
       "_view_name": "StyleView",
       "bar_color": null,
       "description_width": ""
      }
     },
     "f26778ebf86641ba9795ac9d72c51b23": {
      "model_module": "@jupyter-widgets/base",
      "model_module_version": "1.2.0",
      "model_name": "LayoutModel",
      "state": {
       "_model_module": "@jupyter-widgets/base",
       "_model_module_version": "1.2.0",
       "_model_name": "LayoutModel",
       "_view_count": null,
       "_view_module": "@jupyter-widgets/base",
       "_view_module_version": "1.2.0",
       "_view_name": "LayoutView",
       "align_content": null,
       "align_items": null,
       "align_self": null,
       "border": null,
       "bottom": null,
       "display": null,
       "flex": null,
       "flex_flow": null,
       "grid_area": null,
       "grid_auto_columns": null,
       "grid_auto_flow": null,
       "grid_auto_rows": null,
       "grid_column": null,
       "grid_gap": null,
       "grid_row": null,
       "grid_template_areas": null,
       "grid_template_columns": null,
       "grid_template_rows": null,
       "height": null,
       "justify_content": null,
       "justify_items": null,
       "left": null,
       "margin": null,
       "max_height": null,
       "max_width": null,
       "min_height": null,
       "min_width": null,
       "object_fit": null,
       "object_position": null,
       "order": null,
       "overflow": null,
       "overflow_x": null,
       "overflow_y": null,
       "padding": null,
       "right": null,
       "top": null,
       "visibility": null,
       "width": null
      }
     },
     "f2c3fcd661aa488bbc197be232d855ed": {
      "model_module": "@jupyter-widgets/controls",
      "model_module_version": "1.5.0",
      "model_name": "HBoxModel",
      "state": {
       "_dom_classes": [],
       "_model_module": "@jupyter-widgets/controls",
       "_model_module_version": "1.5.0",
       "_model_name": "HBoxModel",
       "_view_count": null,
       "_view_module": "@jupyter-widgets/controls",
       "_view_module_version": "1.5.0",
       "_view_name": "HBoxView",
       "box_style": "",
       "children": [
        "IPY_MODEL_573998e9fa1a4328b1650e7d7daae359",
        "IPY_MODEL_ea1b6131ff184745a644e232c47ec9cd",
        "IPY_MODEL_e915d9dea35940239979a163d95c8c3f"
       ],
       "layout": "IPY_MODEL_8fe27df7b39341c9984cc343a980659b"
      }
     },
     "f4d6e45f34d840ae9d550ef7a464a9a0": {
      "model_module": "@jupyter-widgets/base",
      "model_module_version": "1.2.0",
      "model_name": "LayoutModel",
      "state": {
       "_model_module": "@jupyter-widgets/base",
       "_model_module_version": "1.2.0",
       "_model_name": "LayoutModel",
       "_view_count": null,
       "_view_module": "@jupyter-widgets/base",
       "_view_module_version": "1.2.0",
       "_view_name": "LayoutView",
       "align_content": null,
       "align_items": null,
       "align_self": null,
       "border": null,
       "bottom": null,
       "display": null,
       "flex": null,
       "flex_flow": null,
       "grid_area": null,
       "grid_auto_columns": null,
       "grid_auto_flow": null,
       "grid_auto_rows": null,
       "grid_column": null,
       "grid_gap": null,
       "grid_row": null,
       "grid_template_areas": null,
       "grid_template_columns": null,
       "grid_template_rows": null,
       "height": null,
       "justify_content": null,
       "justify_items": null,
       "left": null,
       "margin": null,
       "max_height": null,
       "max_width": null,
       "min_height": null,
       "min_width": null,
       "object_fit": null,
       "object_position": null,
       "order": null,
       "overflow": null,
       "overflow_x": null,
       "overflow_y": null,
       "padding": null,
       "right": null,
       "top": null,
       "visibility": null,
       "width": null
      }
     },
     "f541f3c562424d968c1c3a4bc479d3c5": {
      "model_module": "@jupyter-widgets/base",
      "model_module_version": "1.2.0",
      "model_name": "LayoutModel",
      "state": {
       "_model_module": "@jupyter-widgets/base",
       "_model_module_version": "1.2.0",
       "_model_name": "LayoutModel",
       "_view_count": null,
       "_view_module": "@jupyter-widgets/base",
       "_view_module_version": "1.2.0",
       "_view_name": "LayoutView",
       "align_content": null,
       "align_items": null,
       "align_self": null,
       "border": null,
       "bottom": null,
       "display": null,
       "flex": null,
       "flex_flow": null,
       "grid_area": null,
       "grid_auto_columns": null,
       "grid_auto_flow": null,
       "grid_auto_rows": null,
       "grid_column": null,
       "grid_gap": null,
       "grid_row": null,
       "grid_template_areas": null,
       "grid_template_columns": null,
       "grid_template_rows": null,
       "height": null,
       "justify_content": null,
       "justify_items": null,
       "left": null,
       "margin": null,
       "max_height": null,
       "max_width": null,
       "min_height": null,
       "min_width": null,
       "object_fit": null,
       "object_position": null,
       "order": null,
       "overflow": null,
       "overflow_x": null,
       "overflow_y": null,
       "padding": null,
       "right": null,
       "top": null,
       "visibility": null,
       "width": null
      }
     },
     "f8ee8e9683b240c19c1a8ec0afa7df29": {
      "model_module": "@jupyter-widgets/controls",
      "model_module_version": "1.5.0",
      "model_name": "DescriptionStyleModel",
      "state": {
       "_model_module": "@jupyter-widgets/controls",
       "_model_module_version": "1.5.0",
       "_model_name": "DescriptionStyleModel",
       "_view_count": null,
       "_view_module": "@jupyter-widgets/base",
       "_view_module_version": "1.2.0",
       "_view_name": "StyleView",
       "description_width": ""
      }
     },
     "fcbd8a44a35f4fd6ab6c46e5490701bb": {
      "model_module": "@jupyter-widgets/controls",
      "model_module_version": "1.5.0",
      "model_name": "HTMLModel",
      "state": {
       "_dom_classes": [],
       "_model_module": "@jupyter-widgets/controls",
       "_model_module_version": "1.5.0",
       "_model_name": "HTMLModel",
       "_view_count": null,
       "_view_module": "@jupyter-widgets/controls",
       "_view_module_version": "1.5.0",
       "_view_name": "HTMLView",
       "description": "",
       "description_tooltip": null,
       "layout": "IPY_MODEL_de2b61e9d05449b3932d1f2381d6a90b",
       "placeholder": "​",
       "style": "IPY_MODEL_351b85854ce046f496ba22b9a67eb727",
       "value": " 239/239 [00:00&lt;00:00, 7.45kB/s]"
      }
     },
     "fe155d24b9b04b59bef0cd359108d342": {
      "model_module": "@jupyter-widgets/controls",
      "model_module_version": "1.5.0",
      "model_name": "FloatProgressModel",
      "state": {
       "_dom_classes": [],
       "_model_module": "@jupyter-widgets/controls",
       "_model_module_version": "1.5.0",
       "_model_name": "FloatProgressModel",
       "_view_count": null,
       "_view_module": "@jupyter-widgets/controls",
       "_view_module_version": "1.5.0",
       "_view_name": "ProgressView",
       "bar_style": "success",
       "description": "",
       "description_tooltip": null,
       "layout": "IPY_MODEL_84f1bd7371f44489b9352641f2014052",
       "max": 122.0,
       "min": 0.0,
       "orientation": "horizontal",
       "style": "IPY_MODEL_d750e0afa4e1430d96cceea10c604c22",
       "value": 122.0
      }
     },
     "ff5e324283d7445d92b4a28c716c268f": {
      "model_module": "@jupyter-widgets/base",
      "model_module_version": "1.2.0",
      "model_name": "LayoutModel",
      "state": {
       "_model_module": "@jupyter-widgets/base",
       "_model_module_version": "1.2.0",
       "_model_name": "LayoutModel",
       "_view_count": null,
       "_view_module": "@jupyter-widgets/base",
       "_view_module_version": "1.2.0",
       "_view_name": "LayoutView",
       "align_content": null,
       "align_items": null,
       "align_self": null,
       "border": null,
       "bottom": null,
       "display": null,
       "flex": null,
       "flex_flow": null,
       "grid_area": null,
       "grid_auto_columns": null,
       "grid_auto_flow": null,
       "grid_auto_rows": null,
       "grid_column": null,
       "grid_gap": null,
       "grid_row": null,
       "grid_template_areas": null,
       "grid_template_columns": null,
       "grid_template_rows": null,
       "height": null,
       "justify_content": null,
       "justify_items": null,
       "left": null,
       "margin": null,
       "max_height": null,
       "max_width": null,
       "min_height": null,
       "min_width": null,
       "object_fit": null,
       "object_position": null,
       "order": null,
       "overflow": null,
       "overflow_x": null,
       "overflow_y": null,
       "padding": null,
       "right": null,
       "top": null,
       "visibility": null,
       "width": null
      }
     },
     "ff77f05b700844098f83c59705e15708": {
      "model_module": "@jupyter-widgets/base",
      "model_module_version": "1.2.0",
      "model_name": "LayoutModel",
      "state": {
       "_model_module": "@jupyter-widgets/base",
       "_model_module_version": "1.2.0",
       "_model_name": "LayoutModel",
       "_view_count": null,
       "_view_module": "@jupyter-widgets/base",
       "_view_module_version": "1.2.0",
       "_view_name": "LayoutView",
       "align_content": null,
       "align_items": null,
       "align_self": null,
       "border": null,
       "bottom": null,
       "display": null,
       "flex": null,
       "flex_flow": null,
       "grid_area": null,
       "grid_auto_columns": null,
       "grid_auto_flow": null,
       "grid_auto_rows": null,
       "grid_column": null,
       "grid_gap": null,
       "grid_row": null,
       "grid_template_areas": null,
       "grid_template_columns": null,
       "grid_template_rows": null,
       "height": null,
       "justify_content": null,
       "justify_items": null,
       "left": null,
       "margin": null,
       "max_height": null,
       "max_width": null,
       "min_height": null,
       "min_width": null,
       "object_fit": null,
       "object_position": null,
       "order": null,
       "overflow": null,
       "overflow_x": null,
       "overflow_y": null,
       "padding": null,
       "right": null,
       "top": null,
       "visibility": null,
       "width": null
      }
     }
    },
    "version_major": 2,
    "version_minor": 0
   }
  }
 },
 "nbformat": 4,
 "nbformat_minor": 5
}
